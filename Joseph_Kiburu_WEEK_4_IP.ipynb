{
  "nbformat": 4,
  "nbformat_minor": 0,
  "metadata": {
    "colab": {
      "name": "Joseph Kiburu_WEEK 4_IP",
      "provenance": [],
      "collapsed_sections": [],
      "authorship_tag": "ABX9TyMNQB8pGzvZx8d1w8aIl7Fd",
      "include_colab_link": true
    },
    "kernelspec": {
      "name": "python3",
      "display_name": "Python 3"
    },
    "language_info": {
      "name": "python"
    }
  },
  "cells": [
    {
      "cell_type": "markdown",
      "metadata": {
        "id": "view-in-github",
        "colab_type": "text"
      },
      "source": [
        "<a href=\"https://colab.research.google.com/github/JosephKiburu/Moringa-Core/blob/main/Joseph_Kiburu_WEEK_4_IP.ipynb\" target=\"_parent\"><img src=\"https://colab.research.google.com/assets/colab-badge.svg\" alt=\"Open In Colab\"/></a>"
      ]
    },
    {
      "cell_type": "code",
      "metadata": {
        "id": "dt7DSczxl1nQ"
      },
      "source": [
        "# importing our libraries\n",
        "\n",
        "import pandas as pd\n",
        "import numpy as np\n",
        "import seaborn as sns\n",
        "import matplotlib.pyplot as plt\n"
      ],
      "execution_count": 1057,
      "outputs": []
    },
    {
      "cell_type": "code",
      "metadata": {
        "colab": {
          "base_uri": "https://localhost:8080/",
          "height": 241
        },
        "id": "xdu8O7aSmK63",
        "outputId": "4d1be7fb-d00f-440c-c12c-18f616558ca3"
      },
      "source": [
        "# Loading our dataset\n",
        "\n",
        "df=pd.read_csv('/content/autolib_daily_events_postal_code.csv')\n",
        "df.head()"
      ],
      "execution_count": 1058,
      "outputs": [
        {
          "output_type": "execute_result",
          "data": {
            "text/html": [
              "<div>\n",
              "<style scoped>\n",
              "    .dataframe tbody tr th:only-of-type {\n",
              "        vertical-align: middle;\n",
              "    }\n",
              "\n",
              "    .dataframe tbody tr th {\n",
              "        vertical-align: top;\n",
              "    }\n",
              "\n",
              "    .dataframe thead th {\n",
              "        text-align: right;\n",
              "    }\n",
              "</style>\n",
              "<table border=\"1\" class=\"dataframe\">\n",
              "  <thead>\n",
              "    <tr style=\"text-align: right;\">\n",
              "      <th></th>\n",
              "      <th>Postal code</th>\n",
              "      <th>date</th>\n",
              "      <th>n_daily_data_points</th>\n",
              "      <th>dayOfWeek</th>\n",
              "      <th>day_type</th>\n",
              "      <th>BlueCars_taken_sum</th>\n",
              "      <th>BlueCars_returned_sum</th>\n",
              "      <th>Utilib_taken_sum</th>\n",
              "      <th>Utilib_returned_sum</th>\n",
              "      <th>Utilib_14_taken_sum</th>\n",
              "      <th>Utilib_14_returned_sum</th>\n",
              "      <th>Slots_freed_sum</th>\n",
              "      <th>Slots_taken_sum</th>\n",
              "    </tr>\n",
              "  </thead>\n",
              "  <tbody>\n",
              "    <tr>\n",
              "      <th>0</th>\n",
              "      <td>75001</td>\n",
              "      <td>1/1/2018</td>\n",
              "      <td>1440</td>\n",
              "      <td>0</td>\n",
              "      <td>weekday</td>\n",
              "      <td>110</td>\n",
              "      <td>103</td>\n",
              "      <td>3</td>\n",
              "      <td>2</td>\n",
              "      <td>10</td>\n",
              "      <td>9</td>\n",
              "      <td>22</td>\n",
              "      <td>20</td>\n",
              "    </tr>\n",
              "    <tr>\n",
              "      <th>1</th>\n",
              "      <td>75001</td>\n",
              "      <td>1/2/2018</td>\n",
              "      <td>1438</td>\n",
              "      <td>1</td>\n",
              "      <td>weekday</td>\n",
              "      <td>98</td>\n",
              "      <td>94</td>\n",
              "      <td>1</td>\n",
              "      <td>1</td>\n",
              "      <td>8</td>\n",
              "      <td>8</td>\n",
              "      <td>23</td>\n",
              "      <td>22</td>\n",
              "    </tr>\n",
              "    <tr>\n",
              "      <th>2</th>\n",
              "      <td>75001</td>\n",
              "      <td>1/3/2018</td>\n",
              "      <td>1439</td>\n",
              "      <td>2</td>\n",
              "      <td>weekday</td>\n",
              "      <td>138</td>\n",
              "      <td>139</td>\n",
              "      <td>0</td>\n",
              "      <td>0</td>\n",
              "      <td>2</td>\n",
              "      <td>2</td>\n",
              "      <td>27</td>\n",
              "      <td>27</td>\n",
              "    </tr>\n",
              "    <tr>\n",
              "      <th>3</th>\n",
              "      <td>75001</td>\n",
              "      <td>1/4/2018</td>\n",
              "      <td>1320</td>\n",
              "      <td>3</td>\n",
              "      <td>weekday</td>\n",
              "      <td>104</td>\n",
              "      <td>104</td>\n",
              "      <td>2</td>\n",
              "      <td>2</td>\n",
              "      <td>9</td>\n",
              "      <td>8</td>\n",
              "      <td>25</td>\n",
              "      <td>21</td>\n",
              "    </tr>\n",
              "    <tr>\n",
              "      <th>4</th>\n",
              "      <td>75001</td>\n",
              "      <td>1/5/2018</td>\n",
              "      <td>1440</td>\n",
              "      <td>4</td>\n",
              "      <td>weekday</td>\n",
              "      <td>114</td>\n",
              "      <td>117</td>\n",
              "      <td>3</td>\n",
              "      <td>3</td>\n",
              "      <td>6</td>\n",
              "      <td>6</td>\n",
              "      <td>18</td>\n",
              "      <td>20</td>\n",
              "    </tr>\n",
              "  </tbody>\n",
              "</table>\n",
              "</div>"
            ],
            "text/plain": [
              "   Postal code      date  ...  Slots_freed_sum  Slots_taken_sum\n",
              "0        75001  1/1/2018  ...               22               20\n",
              "1        75001  1/2/2018  ...               23               22\n",
              "2        75001  1/3/2018  ...               27               27\n",
              "3        75001  1/4/2018  ...               25               21\n",
              "4        75001  1/5/2018  ...               18               20\n",
              "\n",
              "[5 rows x 13 columns]"
            ]
          },
          "metadata": {},
          "execution_count": 1058
        }
      ]
    },
    {
      "cell_type": "code",
      "metadata": {
        "colab": {
          "base_uri": "https://localhost:8080/"
        },
        "id": "g0Sk1GL4QLe_",
        "outputId": "ba0608cd-aac5-4ac8-ebb0-21bd0fec2708"
      },
      "source": [
        "# Checking our dataset dimensions\n",
        "\n",
        "df.shape"
      ],
      "execution_count": 1059,
      "outputs": [
        {
          "output_type": "execute_result",
          "data": {
            "text/plain": [
              "(16085, 13)"
            ]
          },
          "metadata": {},
          "execution_count": 1059
        }
      ]
    },
    {
      "cell_type": "markdown",
      "metadata": {
        "id": "QHx8NVWS1eaT"
      },
      "source": [
        "# **TIDYING OUR DATASET**"
      ]
    },
    {
      "cell_type": "code",
      "metadata": {
        "colab": {
          "base_uri": "https://localhost:8080/",
          "height": 224
        },
        "id": "tqZXh86K27r7",
        "outputId": "cdaafb8e-a436-46e5-d51d-6871756061a6"
      },
      "source": [
        "# Changing all the column names to lowercase\n",
        "\n",
        "df.columns=df.columns.str.lower().str.replace(' ','_')\n",
        "df.head()"
      ],
      "execution_count": 1060,
      "outputs": [
        {
          "output_type": "execute_result",
          "data": {
            "text/html": [
              "<div>\n",
              "<style scoped>\n",
              "    .dataframe tbody tr th:only-of-type {\n",
              "        vertical-align: middle;\n",
              "    }\n",
              "\n",
              "    .dataframe tbody tr th {\n",
              "        vertical-align: top;\n",
              "    }\n",
              "\n",
              "    .dataframe thead th {\n",
              "        text-align: right;\n",
              "    }\n",
              "</style>\n",
              "<table border=\"1\" class=\"dataframe\">\n",
              "  <thead>\n",
              "    <tr style=\"text-align: right;\">\n",
              "      <th></th>\n",
              "      <th>postal_code</th>\n",
              "      <th>date</th>\n",
              "      <th>n_daily_data_points</th>\n",
              "      <th>dayofweek</th>\n",
              "      <th>day_type</th>\n",
              "      <th>bluecars_taken_sum</th>\n",
              "      <th>bluecars_returned_sum</th>\n",
              "      <th>utilib_taken_sum</th>\n",
              "      <th>utilib_returned_sum</th>\n",
              "      <th>utilib_14_taken_sum</th>\n",
              "      <th>utilib_14_returned_sum</th>\n",
              "      <th>slots_freed_sum</th>\n",
              "      <th>slots_taken_sum</th>\n",
              "    </tr>\n",
              "  </thead>\n",
              "  <tbody>\n",
              "    <tr>\n",
              "      <th>0</th>\n",
              "      <td>75001</td>\n",
              "      <td>1/1/2018</td>\n",
              "      <td>1440</td>\n",
              "      <td>0</td>\n",
              "      <td>weekday</td>\n",
              "      <td>110</td>\n",
              "      <td>103</td>\n",
              "      <td>3</td>\n",
              "      <td>2</td>\n",
              "      <td>10</td>\n",
              "      <td>9</td>\n",
              "      <td>22</td>\n",
              "      <td>20</td>\n",
              "    </tr>\n",
              "    <tr>\n",
              "      <th>1</th>\n",
              "      <td>75001</td>\n",
              "      <td>1/2/2018</td>\n",
              "      <td>1438</td>\n",
              "      <td>1</td>\n",
              "      <td>weekday</td>\n",
              "      <td>98</td>\n",
              "      <td>94</td>\n",
              "      <td>1</td>\n",
              "      <td>1</td>\n",
              "      <td>8</td>\n",
              "      <td>8</td>\n",
              "      <td>23</td>\n",
              "      <td>22</td>\n",
              "    </tr>\n",
              "    <tr>\n",
              "      <th>2</th>\n",
              "      <td>75001</td>\n",
              "      <td>1/3/2018</td>\n",
              "      <td>1439</td>\n",
              "      <td>2</td>\n",
              "      <td>weekday</td>\n",
              "      <td>138</td>\n",
              "      <td>139</td>\n",
              "      <td>0</td>\n",
              "      <td>0</td>\n",
              "      <td>2</td>\n",
              "      <td>2</td>\n",
              "      <td>27</td>\n",
              "      <td>27</td>\n",
              "    </tr>\n",
              "    <tr>\n",
              "      <th>3</th>\n",
              "      <td>75001</td>\n",
              "      <td>1/4/2018</td>\n",
              "      <td>1320</td>\n",
              "      <td>3</td>\n",
              "      <td>weekday</td>\n",
              "      <td>104</td>\n",
              "      <td>104</td>\n",
              "      <td>2</td>\n",
              "      <td>2</td>\n",
              "      <td>9</td>\n",
              "      <td>8</td>\n",
              "      <td>25</td>\n",
              "      <td>21</td>\n",
              "    </tr>\n",
              "    <tr>\n",
              "      <th>4</th>\n",
              "      <td>75001</td>\n",
              "      <td>1/5/2018</td>\n",
              "      <td>1440</td>\n",
              "      <td>4</td>\n",
              "      <td>weekday</td>\n",
              "      <td>114</td>\n",
              "      <td>117</td>\n",
              "      <td>3</td>\n",
              "      <td>3</td>\n",
              "      <td>6</td>\n",
              "      <td>6</td>\n",
              "      <td>18</td>\n",
              "      <td>20</td>\n",
              "    </tr>\n",
              "  </tbody>\n",
              "</table>\n",
              "</div>"
            ],
            "text/plain": [
              "   postal_code      date  ...  slots_freed_sum  slots_taken_sum\n",
              "0        75001  1/1/2018  ...               22               20\n",
              "1        75001  1/2/2018  ...               23               22\n",
              "2        75001  1/3/2018  ...               27               27\n",
              "3        75001  1/4/2018  ...               25               21\n",
              "4        75001  1/5/2018  ...               18               20\n",
              "\n",
              "[5 rows x 13 columns]"
            ]
          },
          "metadata": {},
          "execution_count": 1060
        }
      ]
    },
    {
      "cell_type": "code",
      "metadata": {
        "id": "l8Kff9MtLDlo"
      },
      "source": [
        "# Renaming columns\n",
        "\n",
        "df.rename(columns={'dayofweek':'day_of_week'}, inplace=True)"
      ],
      "execution_count": 1061,
      "outputs": []
    },
    {
      "cell_type": "code",
      "metadata": {
        "id": "j3e-Vj_DLkrJ"
      },
      "source": [
        "# changing the day of week column to object instead of being an integer\n",
        "\n",
        "df['day_of_week']=df['day_of_week'].astype(object)"
      ],
      "execution_count": 1062,
      "outputs": []
    },
    {
      "cell_type": "code",
      "metadata": {
        "colab": {
          "base_uri": "https://localhost:8080/",
          "height": 334
        },
        "id": "kHghy5W52xUy",
        "outputId": "a42f79d0-4097-4816-db85-280709b5602f"
      },
      "source": [
        "# Checking for outliers in our 'bluecars_taken_sum' column\n",
        "\n",
        "sns.boxplot(df['bluecars_taken_sum'])\n",
        "plt.show()"
      ],
      "execution_count": 1063,
      "outputs": [
        {
          "output_type": "stream",
          "name": "stderr",
          "text": [
            "/usr/local/lib/python3.7/dist-packages/seaborn/_decorators.py:43: FutureWarning: Pass the following variable as a keyword arg: x. From version 0.12, the only valid positional argument will be `data`, and passing other arguments without an explicit keyword will result in an error or misinterpretation.\n",
            "  FutureWarning\n"
          ]
        },
        {
          "output_type": "display_data",
          "data": {
            "image/png": "[encoded data removed]",
            "text/plain": [
              "<Figure size 432x288 with 1 Axes>"
            ]
          },
          "metadata": {
            "needs_background": "light"
          }
        }
      ]
    },
    {
      "cell_type": "code",
      "metadata": {
        "colab": {
          "base_uri": "https://localhost:8080/",
          "height": 351
        },
        "id": "AKoekAy23pWX",
        "outputId": "fd80a672-73d3-4933-82d4-166f7e27b9ad"
      },
      "source": [
        "sns.boxplot(df['bluecars_returned_sum'])"
      ],
      "execution_count": 1064,
      "outputs": [
        {
          "output_type": "stream",
          "name": "stderr",
          "text": [
            "/usr/local/lib/python3.7/dist-packages/seaborn/_decorators.py:43: FutureWarning: Pass the following variable as a keyword arg: x. From version 0.12, the only valid positional argument will be `data`, and passing other arguments without an explicit keyword will result in an error or misinterpretation.\n",
            "  FutureWarning\n"
          ]
        },
        {
          "output_type": "execute_result",
          "data": {
            "text/plain": [
              "<matplotlib.axes._subplots.AxesSubplot at 0x7f00fd7d6550>"
            ]
          },
          "metadata": {},
          "execution_count": 1064
        },
        {
          "output_type": "display_data",
          "data": {
            "image/png": "[encoded data removed]",
            "text/plain": [
              "<Figure size 432x288 with 1 Axes>"
            ]
          },
          "metadata": {
            "needs_background": "light"
          }
        }
      ]
    },
    {
      "cell_type": "code",
      "metadata": {
        "colab": {
          "base_uri": "https://localhost:8080/"
        },
        "id": "I1WaPp7g4xEB",
        "outputId": "15812ea0-f633-428f-d606-9d10aff78e00"
      },
      "source": [
        "# Checking for any missing values\n",
        "\n",
        "df.isnull().any()"
      ],
      "execution_count": 1065,
      "outputs": [
        {
          "output_type": "execute_result",
          "data": {
            "text/plain": [
              "postal_code               False\n",
              "date                      False\n",
              "n_daily_data_points       False\n",
              "day_of_week               False\n",
              "day_type                  False\n",
              "bluecars_taken_sum        False\n",
              "bluecars_returned_sum     False\n",
              "utilib_taken_sum          False\n",
              "utilib_returned_sum       False\n",
              "utilib_14_taken_sum       False\n",
              "utilib_14_returned_sum    False\n",
              "slots_freed_sum           False\n",
              "slots_taken_sum           False\n",
              "dtype: bool"
            ]
          },
          "metadata": {},
          "execution_count": 1065
        }
      ]
    },
    {
      "cell_type": "code",
      "metadata": {
        "colab": {
          "base_uri": "https://localhost:8080/"
        },
        "id": "f-JG3jaX5RMw",
        "outputId": "e05da93c-d811-4a5b-b28e-4808a37fb900"
      },
      "source": [
        "# Checking for duplicated values\n",
        "\n",
        "df.duplicated().sum()"
      ],
      "execution_count": 1066,
      "outputs": [
        {
          "output_type": "execute_result",
          "data": {
            "text/plain": [
              "0"
            ]
          },
          "metadata": {},
          "execution_count": 1066
        }
      ]
    },
    {
      "cell_type": "code",
      "metadata": {
        "colab": {
          "base_uri": "https://localhost:8080/"
        },
        "id": "nDoQu4sl8Tmy",
        "outputId": "9bab542f-2c85-438d-b976-0e931f08cdfa"
      },
      "source": [
        "# checking the dtypes of our data\n",
        "\n",
        "df.dtypes"
      ],
      "execution_count": 1067,
      "outputs": [
        {
          "output_type": "execute_result",
          "data": {
            "text/plain": [
              "postal_code                int64\n",
              "date                      object\n",
              "n_daily_data_points        int64\n",
              "day_of_week               object\n",
              "day_type                  object\n",
              "bluecars_taken_sum         int64\n",
              "bluecars_returned_sum      int64\n",
              "utilib_taken_sum           int64\n",
              "utilib_returned_sum        int64\n",
              "utilib_14_taken_sum        int64\n",
              "utilib_14_returned_sum     int64\n",
              "slots_freed_sum            int64\n",
              "slots_taken_sum            int64\n",
              "dtype: object"
            ]
          },
          "metadata": {},
          "execution_count": 1067
        }
      ]
    },
    {
      "cell_type": "code",
      "metadata": {
        "id": "B5DYzB_z8bid"
      },
      "source": [
        "# Changing the postal_code column to an object\n",
        "\n",
        "df['postal_code']=df['postal_code'].astype(object)"
      ],
      "execution_count": 1068,
      "outputs": []
    },
    {
      "cell_type": "code",
      "metadata": {
        "colab": {
          "base_uri": "https://localhost:8080/"
        },
        "id": "6KJIB1VO8yF6",
        "outputId": "e5027053-0746-476b-996d-f617880240f6"
      },
      "source": [
        "# Changing the date column to datetime\n",
        "\n",
        "df['date']=pd.to_datetime(df['date'])\n",
        "df.dtypes"
      ],
      "execution_count": 1069,
      "outputs": [
        {
          "output_type": "execute_result",
          "data": {
            "text/plain": [
              "postal_code                       object\n",
              "date                      datetime64[ns]\n",
              "n_daily_data_points                int64\n",
              "day_of_week                       object\n",
              "day_type                          object\n",
              "bluecars_taken_sum                 int64\n",
              "bluecars_returned_sum              int64\n",
              "utilib_taken_sum                   int64\n",
              "utilib_returned_sum                int64\n",
              "utilib_14_taken_sum                int64\n",
              "utilib_14_returned_sum             int64\n",
              "slots_freed_sum                    int64\n",
              "slots_taken_sum                    int64\n",
              "dtype: object"
            ]
          },
          "metadata": {},
          "execution_count": 1069
        }
      ]
    },
    {
      "cell_type": "markdown",
      "metadata": {
        "id": "Hf30x9Hk5cEt"
      },
      "source": [
        "# **UNIVARIATE ANALYSIS**"
      ]
    },
    {
      "cell_type": "markdown",
      "metadata": {
        "id": "fSmRBPWc6lh6"
      },
      "source": [
        "Which part of the week do we have most of the bluecars being taken? (weekends or weekdays)\n",
        "\n"
      ]
    },
    {
      "cell_type": "code",
      "metadata": {
        "colab": {
          "base_uri": "https://localhost:8080/",
          "height": 319
        },
        "id": "Sbew9dvC5aFG",
        "outputId": "0bb3ed78-f19a-42ae-da7d-3f71ce3bcf76"
      },
      "source": [
        "bluecars_taken=df[['day_type','bluecars_taken_sum']]\n",
        "bluecars_taken['day_type'].value_counts().plot.bar()"
      ],
      "execution_count": 1070,
      "outputs": [
        {
          "output_type": "execute_result",
          "data": {
            "text/plain": [
              "<matplotlib.axes._subplots.AxesSubplot at 0x7f00fd7c3350>"
            ]
          },
          "metadata": {},
          "execution_count": 1070
        },
        {
          "output_type": "display_data",
          "data": {
            "image/png": "[encoded data removed]",
            "text/plain": [
              "<Figure size 432x288 with 1 Axes>"
            ]
          },
          "metadata": {
            "needs_background": "light"
          }
        }
      ]
    },
    {
      "cell_type": "markdown",
      "metadata": {
        "id": "6559-KKBJFrW"
      },
      "source": [
        "The day of the week with the highest bluecar activity"
      ]
    },
    {
      "cell_type": "code",
      "metadata": {
        "colab": {
          "base_uri": "https://localhost:8080/",
          "height": 279
        },
        "id": "iJNcTcaKJCex",
        "outputId": "99256a35-2536-4d87-f5b9-0a62705feef1"
      },
      "source": [
        "df['day_of_week'].value_counts().plot.bar()"
      ],
      "execution_count": 1071,
      "outputs": [
        {
          "output_type": "execute_result",
          "data": {
            "text/plain": [
              "<matplotlib.axes._subplots.AxesSubplot at 0x7f00fd6b13d0>"
            ]
          },
          "metadata": {},
          "execution_count": 1071
        },
        {
          "output_type": "display_data",
          "data": {
            "image/png": "[encoded data removed]",
            "text/plain": [
              "<Figure size 432x288 with 1 Axes>"
            ]
          },
          "metadata": {
            "needs_background": "light"
          }
        }
      ]
    },
    {
      "cell_type": "code",
      "metadata": {
        "colab": {
          "base_uri": "https://localhost:8080/",
          "height": 351
        },
        "id": "Cy0mkGudSazL",
        "outputId": "a07ed150-2315-4bc5-f8e5-deadf4677703"
      },
      "source": [
        "# A histogram of the 'bluecars_taken_sum' column to check whether it is a normal distribution.\n",
        "# Turns out it is not.\n",
        "\n",
        "sns.distplot(df['bluecars_taken_sum'], kde= True, label='Bluecars')"
      ],
      "execution_count": 1072,
      "outputs": [
        {
          "output_type": "stream",
          "name": "stderr",
          "text": [
            "/usr/local/lib/python3.7/dist-packages/seaborn/distributions.py:2619: FutureWarning: `distplot` is a deprecated function and will be removed in a future version. Please adapt your code to use either `displot` (a figure-level function with similar flexibility) or `histplot` (an axes-level function for histograms).\n",
            "  warnings.warn(msg, FutureWarning)\n"
          ]
        },
        {
          "output_type": "execute_result",
          "data": {
            "text/plain": [
              "<matplotlib.axes._subplots.AxesSubplot at 0x7f00fd622850>"
            ]
          },
          "metadata": {},
          "execution_count": 1072
        },
        {
          "output_type": "display_data",
          "data": {
            "image/png": "[encoded data removed]",
            "text/plain": [
              "<Figure size 432x288 with 1 Axes>"
            ]
          },
          "metadata": {
            "needs_background": "light"
          }
        }
      ]
    },
    {
      "cell_type": "code",
      "metadata": {
        "colab": {
          "base_uri": "https://localhost:8080/"
        },
        "id": "6tFfbAwAMK7S",
        "outputId": "dfe740f0-5e53-4003-c06f-6d7ea8916e6c"
      },
      "source": [
        "# The mean number of bluecars taken on weekdays\n",
        "\n",
        "weekdays=df[df['day_type']=='weekday']\n",
        "weekdays['bluecars_taken_sum'].mean()\n"
      ],
      "execution_count": 1073,
      "outputs": [
        {
          "output_type": "execute_result",
          "data": {
            "text/plain": [
              "116.0286729036729"
            ]
          },
          "metadata": {},
          "execution_count": 1073
        }
      ]
    },
    {
      "cell_type": "code",
      "metadata": {
        "colab": {
          "base_uri": "https://localhost:8080/"
        },
        "id": "jHl7ETrWOkuL",
        "outputId": "6b88a31a-709b-4e1b-eb32-d0b60e3e2748"
      },
      "source": [
        "# The mean number of bluecars taken on weekends\n",
        "\n",
        "weekends=df[df['day_type']=='weekend']\n",
        "weekends['bluecars_taken_sum'].mean()"
      ],
      "execution_count": 1074,
      "outputs": [
        {
          "output_type": "execute_result",
          "data": {
            "text/plain": [
              "151.09006826690157"
            ]
          },
          "metadata": {},
          "execution_count": 1074
        }
      ]
    },
    {
      "cell_type": "code",
      "metadata": {
        "colab": {
          "base_uri": "https://localhost:8080/"
        },
        "id": "mokPCYJOPEps",
        "outputId": "c90471b5-1905-4cc0-f7b8-40ec6790c891"
      },
      "source": [
        "# The standard deviation of the number of bluecars taken during the weekday\n",
        "\n",
        "weekdays['bluecars_taken_sum'].std()"
      ],
      "execution_count": 1075,
      "outputs": [
        {
          "output_type": "execute_result",
          "data": {
            "text/plain": [
              "169.62690469970084"
            ]
          },
          "metadata": {},
          "execution_count": 1075
        }
      ]
    },
    {
      "cell_type": "code",
      "metadata": {
        "colab": {
          "base_uri": "https://localhost:8080/"
        },
        "id": "MN1OPuVbPl1J",
        "outputId": "4955c64b-2018-4f5c-bf6c-b71897ede375"
      },
      "source": [
        "# The standard deviation of the number of bluecars taken during the weekend\n",
        "\n",
        "weekends['bluecars_taken_sum'].std()"
      ],
      "execution_count": 1076,
      "outputs": [
        {
          "output_type": "execute_result",
          "data": {
            "text/plain": [
              "218.5656415891513"
            ]
          },
          "metadata": {},
          "execution_count": 1076
        }
      ]
    },
    {
      "cell_type": "code",
      "metadata": {
        "colab": {
          "base_uri": "https://localhost:8080/"
        },
        "id": "V9BCuGsTQQtJ",
        "outputId": "4f0f7915-d7b8-45f3-cf4c-58cf7e28e5c4"
      },
      "source": [
        "#  The mean number of bluecars taken by postal code 75015\n",
        "\n",
        "postal_code_75015=df[df['postal_code']==75015]\n",
        "postal_code_75015['bluecars_taken_sum'].mean()"
      ],
      "execution_count": 1077,
      "outputs": [
        {
          "output_type": "execute_result",
          "data": {
            "text/plain": [
              "896.9551282051282"
            ]
          },
          "metadata": {},
          "execution_count": 1077
        }
      ]
    },
    {
      "cell_type": "code",
      "metadata": {
        "colab": {
          "base_uri": "https://localhost:8080/"
        },
        "id": "6KrIZ0E3SDve",
        "outputId": "b1d670d9-ac1d-4cd5-c48f-4d0d55ccf324"
      },
      "source": [
        "# The standard deviation of bluecars taken by postal code 75015\n",
        "\n",
        "postal_code_75015['bluecars_taken_sum'].std()"
      ],
      "execution_count": 1078,
      "outputs": [
        {
          "output_type": "execute_result",
          "data": {
            "text/plain": [
              "189.50762493634844"
            ]
          },
          "metadata": {},
          "execution_count": 1078
        }
      ]
    },
    {
      "cell_type": "code",
      "metadata": {
        "colab": {
          "base_uri": "https://localhost:8080/"
        },
        "id": "HEbvcXaDScGN",
        "outputId": "ef8e9ea5-cf7c-40f8-a26a-54c24bc3e575"
      },
      "source": [
        "# Mean of bluecars taken by postal code 75017\n",
        "\n",
        "postal_code_75017=df[df['postal_code']==75017]\n",
        "postal_code_75017['bluecars_taken_sum'].mean()"
      ],
      "execution_count": 1079,
      "outputs": [
        {
          "output_type": "execute_result",
          "data": {
            "text/plain": [
              "734.4935897435897"
            ]
          },
          "metadata": {},
          "execution_count": 1079
        }
      ]
    },
    {
      "cell_type": "code",
      "metadata": {
        "colab": {
          "base_uri": "https://localhost:8080/"
        },
        "id": "T8IuFYStS3Gh",
        "outputId": "6dfb9b96-b985-4607-cb3b-206ddd5f0fc9"
      },
      "source": [
        "# Standard deviation of the number of bluecars taken by postal code 75017\n",
        "\n",
        "postal_code_75017['bluecars_taken_sum'].std()"
      ],
      "execution_count": 1080,
      "outputs": [
        {
          "output_type": "execute_result",
          "data": {
            "text/plain": [
              "126.22982096390295"
            ]
          },
          "metadata": {},
          "execution_count": 1080
        }
      ]
    },
    {
      "cell_type": "markdown",
      "metadata": {
        "id": "2_q93ZxRT75k"
      },
      "source": [
        "# **BIVARIATE ANALYSIS**"
      ]
    },
    {
      "cell_type": "code",
      "metadata": {
        "colab": {
          "base_uri": "https://localhost:8080/",
          "height": 282
        },
        "id": "-kQ_JLN-T-0R",
        "outputId": "90c55680-03b8-4057-de22-ea3acf736b06"
      },
      "source": [
        "# Line plot of the number of bluecars taken during the weekdays over the years\n",
        "\n",
        "plt.figure(figsize=(15,4))\n",
        "weekdays['bluecars_taken_sum'].plot()"
      ],
      "execution_count": 1081,
      "outputs": [
        {
          "output_type": "execute_result",
          "data": {
            "text/plain": [
              "<matplotlib.axes._subplots.AxesSubplot at 0x7f00fd53f450>"
            ]
          },
          "metadata": {},
          "execution_count": 1081
        },
        {
          "output_type": "display_data",
          "data": {
            "image/png": "[encoded data removed]",
            "text/plain": [
              "<Figure size 1080x288 with 1 Axes>"
            ]
          },
          "metadata": {
            "needs_background": "light"
          }
        }
      ]
    },
    {
      "cell_type": "code",
      "metadata": {
        "colab": {
          "base_uri": "https://localhost:8080/",
          "height": 337
        },
        "id": "ABNPyDoqYRoH",
        "outputId": "a6e1f2bc-aa1a-43c4-fade-4c253f817454"
      },
      "source": [
        "# Line plot of the number of blue cars taken during the weekends over the years\n",
        "\n",
        "plt.figure(figsize=(20,5))\n",
        "weekends['bluecars_taken_sum'].plot()"
      ],
      "execution_count": 1082,
      "outputs": [
        {
          "output_type": "execute_result",
          "data": {
            "text/plain": [
              "<matplotlib.axes._subplots.AxesSubplot at 0x7f00fd4ec5d0>"
            ]
          },
          "metadata": {},
          "execution_count": 1082
        },
        {
          "output_type": "display_data",
          "data": {
            "image/png": "[encoded data removed]",
            "text/plain": [
              "<Figure size 1440x360 with 1 Axes>"
            ]
          },
          "metadata": {
            "needs_background": "light"
          }
        }
      ]
    },
    {
      "cell_type": "markdown",
      "metadata": {
        "id": "hecOCOIhcwh4"
      },
      "source": [
        "# **SAMPLING**"
      ]
    },
    {
      "cell_type": "code",
      "metadata": {
        "colab": {
          "base_uri": "https://localhost:8080/"
        },
        "id": "XzdGdUt4yvFm",
        "outputId": "468369d5-963f-4e08-e5a1-3adbf5034458"
      },
      "source": [
        "# Finding out the number of weekdays and weekends in our dataset\n",
        "\n",
        "df['day_type'].value_counts()"
      ],
      "execution_count": 1083,
      "outputs": [
        {
          "output_type": "execute_result",
          "data": {
            "text/plain": [
              "weekday    11544\n",
              "weekend     4541\n",
              "Name: day_type, dtype: int64"
            ]
          },
          "metadata": {},
          "execution_count": 1083
        }
      ]
    },
    {
      "cell_type": "code",
      "metadata": {
        "colab": {
          "base_uri": "https://localhost:8080/"
        },
        "id": "Gvfs39EvyV9Y",
        "outputId": "c0e6f0b0-c848-4b1a-ece1-3ba015dd3374"
      },
      "source": [
        "# Stratified sample of the day_type column\n",
        "strat_sample = df.groupby('day_type', group_keys=False).apply(lambda grouped_subset : grouped_subset.sample(frac=0.01))\n",
        "\n",
        "# proportion of the number of weekdays and weekdays in our new sample\n",
        "print(strat_sample['day_type'].value_counts())\n",
        "\n",
        "# Check the stratified output\n",
        "print(strat_sample)"
      ],
      "execution_count": 1084,
      "outputs": [
        {
          "output_type": "stream",
          "name": "stdout",
          "text": [
            "weekday    115\n",
            "weekend     45\n",
            "Name: day_type, dtype: int64\n",
            "      postal_code       date  ...  slots_freed_sum slots_taken_sum\n",
            "148         75001 2018-06-12  ...               16              16\n",
            "12805       93700 2018-06-14  ...                2               2\n",
            "124         75001 2018-05-08  ...               30              30\n",
            "6754        92250 2018-02-19  ...                1               1\n",
            "3099        75020 2018-05-30  ...              122             119\n",
            "...           ...        ...  ...              ...             ...\n",
            "15352       94700 2018-02-17  ...                0               0\n",
            "6674        92240 2018-05-20  ...                0               0\n",
            "4312        91400 2018-04-15  ...                0               0\n",
            "3207        75112 2018-04-01  ...                1               0\n",
            "360         75003 2018-02-18  ...               64              64\n",
            "\n",
            "[160 rows x 13 columns]\n"
          ]
        }
      ]
    },
    {
      "cell_type": "code",
      "metadata": {
        "colab": {
          "base_uri": "https://localhost:8080/"
        },
        "id": "PCYBqvDdyvYc",
        "outputId": "d969a14f-4a12-4866-819c-856cd83f3b78"
      },
      "source": [
        "# Creating a table with only weekdays\n",
        "\n",
        "weekdays_sample=strat_sample[strat_sample['day_type']=='weekday']\n",
        "print(weekdays_sample)\n",
        "\n"
      ],
      "execution_count": 1085,
      "outputs": [
        {
          "output_type": "stream",
          "name": "stdout",
          "text": [
            "      postal_code       date  ...  slots_freed_sum slots_taken_sum\n",
            "148         75001 2018-06-12  ...               16              16\n",
            "12805       93700 2018-06-14  ...                2               2\n",
            "124         75001 2018-05-08  ...               30              30\n",
            "6754        92250 2018-02-19  ...                1               1\n",
            "3099        75020 2018-05-30  ...              122             119\n",
            "...           ...        ...  ...              ...             ...\n",
            "14284       94220 2018-03-15  ...                0               0\n",
            "2365        75016 2018-01-26  ...              224             220\n",
            "15537       94800 2018-03-21  ...                0               0\n",
            "7265        92290 2018-04-06  ...                0               0\n",
            "1783        75012 2018-03-12  ...              105             116\n",
            "\n",
            "[115 rows x 13 columns]\n"
          ]
        }
      ]
    },
    {
      "cell_type": "code",
      "metadata": {
        "colab": {
          "base_uri": "https://localhost:8080/"
        },
        "id": "cvQ747nD0u7L",
        "outputId": "5d656342-2d17-40da-c3d4-5beef6241aae"
      },
      "source": [
        "# Creating a  table with only weekends\n",
        "\n",
        "weekends_sample=strat_sample[strat_sample['day_type']=='weekend']\n",
        "print(weekends_sample)"
      ],
      "execution_count": 1086,
      "outputs": [
        {
          "output_type": "stream",
          "name": "stdout",
          "text": [
            "      postal_code       date  ...  slots_freed_sum slots_taken_sum\n",
            "3545        78000 2018-04-28  ...                0               0\n",
            "12013       93390 2018-05-27  ...                0               0\n",
            "7904        92330 2018-04-21  ...                6               6\n",
            "4414        92000 2018-02-18  ...                0               0\n",
            "11186       93300 2018-01-07  ...                0               0\n",
            "8755        92390 2018-02-04  ...                0               0\n",
            "465         75003 2018-06-17  ...               51              55\n",
            "5817        92190 2018-02-18  ...                0               0\n",
            "13269       94100 2018-06-10  ...                0               0\n",
            "7557        92310 2018-03-17  ...                0               0\n",
            "13378       94110 2018-04-14  ...                0               0\n",
            "11259       93300 2018-03-25  ...                0               0\n",
            "8652        92380 2018-04-01  ...                0               0\n",
            "4602        92100 2018-03-25  ...                4               4\n",
            "3911        91330 2018-01-13  ...                2               2\n",
            "568         75004 2018-04-14  ...               67              69\n",
            "14145       94160 2018-04-01  ...                9               9\n",
            "10082       93100 2018-04-29  ...                4               4\n",
            "7325        92290 2018-06-16  ...                0               0\n",
            "2724        75018 2018-03-17  ...              158             162\n",
            "8761        92390 2018-02-10  ...                1               1\n",
            "11442       93310 2018-04-21  ...                0               0\n",
            "2061        75014 2018-02-03  ...              214             208\n",
            "13908       94150 2018-01-07  ...                2               1\n",
            "6799        92250 2018-04-08  ...                2               2\n",
            "10591       93170 2018-01-06  ...                0               0\n",
            "15145       94450 2018-06-16  ...                0               0\n",
            "13528       94120 2018-04-08  ...                0               0\n",
            "3940        91330 2018-02-11  ...                2               2\n",
            "746         75005 2018-05-06  ...              123             119\n",
            "6909        92260 2018-02-18  ...                0               0\n",
            "13209       94100 2018-03-31  ...                0               0\n",
            "6568        92240 2018-01-20  ...                0               0\n",
            "11450       93310 2018-04-29  ...                0               0\n",
            "6635        92240 2018-03-31  ...                0               0\n",
            "14516       94230 2018-06-10  ...                0               0\n",
            "7401        92300 2018-03-17  ...                0               0\n",
            "11104       93260 2018-03-25  ...               11              11\n",
            "13638       94130 2018-02-18  ...                0               0\n",
            "2264        75015 2018-03-25  ...              277             285\n",
            "15352       94700 2018-02-17  ...                0               0\n",
            "6674        92240 2018-05-20  ...                0               0\n",
            "4312        91400 2018-04-15  ...                0               0\n",
            "3207        75112 2018-04-01  ...                1               0\n",
            "360         75003 2018-02-18  ...               64              64\n",
            "\n",
            "[45 rows x 13 columns]\n"
          ]
        }
      ]
    },
    {
      "cell_type": "code",
      "metadata": {
        "colab": {
          "base_uri": "https://localhost:8080/"
        },
        "id": "iIxFfCz-q1yV",
        "outputId": "4f4ed1f3-99e6-4299-a6d8-49333aa87226"
      },
      "source": [
        "# The sample mean for the number of bluecars taken during the weekdays\n",
        "\n",
        "weekdays_sample['bluecars_taken_sum'].mean()"
      ],
      "execution_count": 1087,
      "outputs": [
        {
          "output_type": "execute_result",
          "data": {
            "text/plain": [
              "122.27826086956522"
            ]
          },
          "metadata": {},
          "execution_count": 1087
        }
      ]
    },
    {
      "cell_type": "code",
      "metadata": {
        "colab": {
          "base_uri": "https://localhost:8080/"
        },
        "id": "3QrbdT17CmkQ",
        "outputId": "9befc685-17c2-40fc-b27d-be04b97c13a6"
      },
      "source": [
        "# The sample standard deviation of the number of bluecars taken during the weekdays\n",
        "\n",
        "weekdays_sample['bluecars_taken_sum'].std()"
      ],
      "execution_count": 1088,
      "outputs": [
        {
          "output_type": "execute_result",
          "data": {
            "text/plain": [
              "177.51222087043024"
            ]
          },
          "metadata": {},
          "execution_count": 1088
        }
      ]
    },
    {
      "cell_type": "code",
      "metadata": {
        "colab": {
          "base_uri": "https://localhost:8080/"
        },
        "id": "y-a3sSiVsdaD",
        "outputId": "366e5240-71e7-424f-a11d-afde3d9f7f29"
      },
      "source": [
        "# The sample mean for the number of bluecars taken during the weekends\n",
        "\n",
        "weekends_sample['bluecars_taken_sum'].mean()"
      ],
      "execution_count": 1089,
      "outputs": [
        {
          "output_type": "execute_result",
          "data": {
            "text/plain": [
              "132.46666666666667"
            ]
          },
          "metadata": {},
          "execution_count": 1089
        }
      ]
    },
    {
      "cell_type": "code",
      "metadata": {
        "colab": {
          "base_uri": "https://localhost:8080/"
        },
        "id": "nZmCfNq9CWWC",
        "outputId": "9cd4644f-7a9e-47b6-8445-cc5b9e81a3f2"
      },
      "source": [
        "# The sample standard deviation for the number of bluecars taken during the weekends\n",
        "\n",
        "weekends_sample['bluecars_taken_sum'].std()"
      ],
      "execution_count": 1090,
      "outputs": [
        {
          "output_type": "execute_result",
          "data": {
            "text/plain": [
              "202.55320288753765"
            ]
          },
          "metadata": {},
          "execution_count": 1090
        }
      ]
    },
    {
      "cell_type": "code",
      "metadata": {
        "colab": {
          "base_uri": "https://localhost:8080/",
          "height": 609
        },
        "id": "RiCQK4-x1h5T",
        "outputId": "d507274c-669f-420e-fc56-9bff465e2ced"
      },
      "source": [
        "# Creating a table with postal_codes 75015 and 75017\n",
        "values=[75017,75015]\n",
        "codes=df[df.postal_code.isin(values)]\n",
        "codes=codes[codes['day_type']=='weekday']\n",
        "codes"
      ],
      "execution_count": 1091,
      "outputs": [
        {
          "output_type": "execute_result",
          "data": {
            "text/html": [
              "<div>\n",
              "<style scoped>\n",
              "    .dataframe tbody tr th:only-of-type {\n",
              "        vertical-align: middle;\n",
              "    }\n",
              "\n",
              "    .dataframe tbody tr th {\n",
              "        vertical-align: top;\n",
              "    }\n",
              "\n",
              "    .dataframe thead th {\n",
              "        text-align: right;\n",
              "    }\n",
              "</style>\n",
              "<table border=\"1\" class=\"dataframe\">\n",
              "  <thead>\n",
              "    <tr style=\"text-align: right;\">\n",
              "      <th></th>\n",
              "      <th>postal_code</th>\n",
              "      <th>date</th>\n",
              "      <th>n_daily_data_points</th>\n",
              "      <th>day_of_week</th>\n",
              "      <th>day_type</th>\n",
              "      <th>bluecars_taken_sum</th>\n",
              "      <th>bluecars_returned_sum</th>\n",
              "      <th>utilib_taken_sum</th>\n",
              "      <th>utilib_returned_sum</th>\n",
              "      <th>utilib_14_taken_sum</th>\n",
              "      <th>utilib_14_returned_sum</th>\n",
              "      <th>slots_freed_sum</th>\n",
              "      <th>slots_taken_sum</th>\n",
              "    </tr>\n",
              "  </thead>\n",
              "  <tbody>\n",
              "    <tr>\n",
              "      <th>2184</th>\n",
              "      <td>75015</td>\n",
              "      <td>2018-01-01</td>\n",
              "      <td>1440</td>\n",
              "      <td>0</td>\n",
              "      <td>weekday</td>\n",
              "      <td>781</td>\n",
              "      <td>843</td>\n",
              "      <td>16</td>\n",
              "      <td>21</td>\n",
              "      <td>65</td>\n",
              "      <td>68</td>\n",
              "      <td>202</td>\n",
              "      <td>215</td>\n",
              "    </tr>\n",
              "    <tr>\n",
              "      <th>2185</th>\n",
              "      <td>75015</td>\n",
              "      <td>2018-01-02</td>\n",
              "      <td>1438</td>\n",
              "      <td>1</td>\n",
              "      <td>weekday</td>\n",
              "      <td>710</td>\n",
              "      <td>720</td>\n",
              "      <td>21</td>\n",
              "      <td>20</td>\n",
              "      <td>50</td>\n",
              "      <td>49</td>\n",
              "      <td>191</td>\n",
              "      <td>193</td>\n",
              "    </tr>\n",
              "    <tr>\n",
              "      <th>2186</th>\n",
              "      <td>75015</td>\n",
              "      <td>2018-01-03</td>\n",
              "      <td>1439</td>\n",
              "      <td>2</td>\n",
              "      <td>weekday</td>\n",
              "      <td>739</td>\n",
              "      <td>752</td>\n",
              "      <td>31</td>\n",
              "      <td>30</td>\n",
              "      <td>65</td>\n",
              "      <td>67</td>\n",
              "      <td>194</td>\n",
              "      <td>201</td>\n",
              "    </tr>\n",
              "    <tr>\n",
              "      <th>2187</th>\n",
              "      <td>75015</td>\n",
              "      <td>2018-01-04</td>\n",
              "      <td>1320</td>\n",
              "      <td>3</td>\n",
              "      <td>weekday</td>\n",
              "      <td>669</td>\n",
              "      <td>644</td>\n",
              "      <td>15</td>\n",
              "      <td>15</td>\n",
              "      <td>61</td>\n",
              "      <td>58</td>\n",
              "      <td>165</td>\n",
              "      <td>158</td>\n",
              "    </tr>\n",
              "    <tr>\n",
              "      <th>2188</th>\n",
              "      <td>75015</td>\n",
              "      <td>2018-01-05</td>\n",
              "      <td>1440</td>\n",
              "      <td>4</td>\n",
              "      <td>weekday</td>\n",
              "      <td>852</td>\n",
              "      <td>846</td>\n",
              "      <td>21</td>\n",
              "      <td>18</td>\n",
              "      <td>70</td>\n",
              "      <td>71</td>\n",
              "      <td>196</td>\n",
              "      <td>198</td>\n",
              "    </tr>\n",
              "    <tr>\n",
              "      <th>...</th>\n",
              "      <td>...</td>\n",
              "      <td>...</td>\n",
              "      <td>...</td>\n",
              "      <td>...</td>\n",
              "      <td>...</td>\n",
              "      <td>...</td>\n",
              "      <td>...</td>\n",
              "      <td>...</td>\n",
              "      <td>...</td>\n",
              "      <td>...</td>\n",
              "      <td>...</td>\n",
              "      <td>...</td>\n",
              "      <td>...</td>\n",
              "    </tr>\n",
              "    <tr>\n",
              "      <th>2645</th>\n",
              "      <td>75017</td>\n",
              "      <td>2018-06-13</td>\n",
              "      <td>1440</td>\n",
              "      <td>2</td>\n",
              "      <td>weekday</td>\n",
              "      <td>777</td>\n",
              "      <td>765</td>\n",
              "      <td>21</td>\n",
              "      <td>23</td>\n",
              "      <td>42</td>\n",
              "      <td>42</td>\n",
              "      <td>203</td>\n",
              "      <td>202</td>\n",
              "    </tr>\n",
              "    <tr>\n",
              "      <th>2646</th>\n",
              "      <td>75017</td>\n",
              "      <td>2018-06-14</td>\n",
              "      <td>1439</td>\n",
              "      <td>3</td>\n",
              "      <td>weekday</td>\n",
              "      <td>710</td>\n",
              "      <td>715</td>\n",
              "      <td>27</td>\n",
              "      <td>27</td>\n",
              "      <td>48</td>\n",
              "      <td>47</td>\n",
              "      <td>185</td>\n",
              "      <td>184</td>\n",
              "    </tr>\n",
              "    <tr>\n",
              "      <th>2647</th>\n",
              "      <td>75017</td>\n",
              "      <td>2018-06-15</td>\n",
              "      <td>1440</td>\n",
              "      <td>4</td>\n",
              "      <td>weekday</td>\n",
              "      <td>766</td>\n",
              "      <td>753</td>\n",
              "      <td>23</td>\n",
              "      <td>21</td>\n",
              "      <td>54</td>\n",
              "      <td>53</td>\n",
              "      <td>192</td>\n",
              "      <td>189</td>\n",
              "    </tr>\n",
              "    <tr>\n",
              "      <th>2650</th>\n",
              "      <td>75017</td>\n",
              "      <td>2018-06-18</td>\n",
              "      <td>1440</td>\n",
              "      <td>0</td>\n",
              "      <td>weekday</td>\n",
              "      <td>650</td>\n",
              "      <td>639</td>\n",
              "      <td>15</td>\n",
              "      <td>15</td>\n",
              "      <td>36</td>\n",
              "      <td>30</td>\n",
              "      <td>179</td>\n",
              "      <td>177</td>\n",
              "    </tr>\n",
              "    <tr>\n",
              "      <th>2651</th>\n",
              "      <td>75017</td>\n",
              "      <td>2018-06-19</td>\n",
              "      <td>1370</td>\n",
              "      <td>1</td>\n",
              "      <td>weekday</td>\n",
              "      <td>38</td>\n",
              "      <td>41</td>\n",
              "      <td>0</td>\n",
              "      <td>2</td>\n",
              "      <td>0</td>\n",
              "      <td>1</td>\n",
              "      <td>5</td>\n",
              "      <td>5</td>\n",
              "    </tr>\n",
              "  </tbody>\n",
              "</table>\n",
              "<p>224 rows × 13 columns</p>\n",
              "</div>"
            ],
            "text/plain": [
              "     postal_code       date  ...  slots_freed_sum slots_taken_sum\n",
              "2184       75015 2018-01-01  ...              202             215\n",
              "2185       75015 2018-01-02  ...              191             193\n",
              "2186       75015 2018-01-03  ...              194             201\n",
              "2187       75015 2018-01-04  ...              165             158\n",
              "2188       75015 2018-01-05  ...              196             198\n",
              "...          ...        ...  ...              ...             ...\n",
              "2645       75017 2018-06-13  ...              203             202\n",
              "2646       75017 2018-06-14  ...              185             184\n",
              "2647       75017 2018-06-15  ...              192             189\n",
              "2650       75017 2018-06-18  ...              179             177\n",
              "2651       75017 2018-06-19  ...                5               5\n",
              "\n",
              "[224 rows x 13 columns]"
            ]
          },
          "metadata": {},
          "execution_count": 1091
        }
      ]
    },
    {
      "cell_type": "code",
      "metadata": {
        "colab": {
          "base_uri": "https://localhost:8080/"
        },
        "id": "t8BO0zNY6_p_",
        "outputId": "51c98147-da11-4e96-f857-ddbba0402887"
      },
      "source": [
        "codes['postal_code'].value_counts()"
      ],
      "execution_count": 1092,
      "outputs": [
        {
          "output_type": "execute_result",
          "data": {
            "text/plain": [
              "75017    112\n",
              "75015    112\n",
              "Name: postal_code, dtype: int64"
            ]
          },
          "metadata": {},
          "execution_count": 1092
        }
      ]
    },
    {
      "cell_type": "code",
      "metadata": {
        "colab": {
          "base_uri": "https://localhost:8080/"
        },
        "id": "F98oyhDs7Rt9",
        "outputId": "cb977111-50ae-49ed-c5d8-fea12d0fb6c5"
      },
      "source": [
        "# Creating a sample for the postal_code column\n",
        "\n",
        "strat_sample=codes.groupby('postal_code', group_keys=False).apply(lambda grouped_subset : grouped_subset.sample(frac=0.45))\n",
        "strat_sample['postal_code'].value_counts()\n",
        "print(strat_sample.head())"
      ],
      "execution_count": 1093,
      "outputs": [
        {
          "output_type": "stream",
          "name": "stdout",
          "text": [
            "     postal_code       date  ...  slots_freed_sum slots_taken_sum\n",
            "2293       75015 2018-04-23  ...              176             180\n",
            "2185       75015 2018-01-02  ...              191             193\n",
            "2268       75015 2018-03-29  ...              240             238\n",
            "2289       75015 2018-04-19  ...              183             181\n",
            "2339       75015 2018-06-19  ...                7               8\n",
            "\n",
            "[5 rows x 13 columns]\n"
          ]
        }
      ]
    },
    {
      "cell_type": "code",
      "metadata": {
        "colab": {
          "base_uri": "https://localhost:8080/"
        },
        "id": "GRFcgzKus-6U",
        "outputId": "96a72975-aff7-47fc-f62f-a39b305c26a8"
      },
      "source": [
        "# Creating a table for postal code 75015\n",
        "\n",
        "postal_75015=strat_sample[strat_sample['postal_code']==75015]\n",
        "print(postal_75015)"
      ],
      "execution_count": 1094,
      "outputs": [
        {
          "output_type": "stream",
          "name": "stdout",
          "text": [
            "     postal_code       date  ...  slots_freed_sum slots_taken_sum\n",
            "2293       75015 2018-04-23  ...              176             180\n",
            "2185       75015 2018-01-02  ...              191             193\n",
            "2268       75015 2018-03-29  ...              240             238\n",
            "2289       75015 2018-04-19  ...              183             181\n",
            "2339       75015 2018-06-19  ...                7               8\n",
            "2275       75015 2018-04-05  ...              217             222\n",
            "2297       75015 2018-04-27  ...              235             232\n",
            "2254       75015 2018-03-15  ...              248             231\n",
            "2259       75015 2018-03-20  ...              208             210\n",
            "2207       75015 2018-01-24  ...              203             214\n",
            "2302       75015 2018-05-02  ...              229             231\n",
            "2328       75015 2018-06-08  ...              267             258\n",
            "2253       75015 2018-03-14  ...              228             231\n",
            "2228       75015 2018-02-14  ...              248             248\n",
            "2272       75015 2018-04-02  ...              252             253\n",
            "2201       75015 2018-01-18  ...              183             181\n",
            "2209       75015 2018-01-26  ...              254             248\n",
            "2192       75015 2018-01-09  ...              186             193\n",
            "2206       75015 2018-01-23  ...              189             180\n",
            "2262       75015 2018-03-23  ...              251             253\n",
            "2252       75015 2018-03-13  ...              207             222\n",
            "2237       75015 2018-02-23  ...              216             210\n",
            "2301       75015 2018-05-01  ...              209             211\n",
            "2269       75015 2018-03-30  ...              252             261\n",
            "2318       75015 2018-05-29  ...              236             243\n",
            "2199       75015 2018-01-16  ...              211             204\n",
            "2304       75015 2018-05-04  ...              249             242\n",
            "2325       75015 2018-06-05  ...              241             241\n",
            "2312       75015 2018-05-23  ...              170             187\n",
            "2331       75015 2018-06-11  ...              204             205\n",
            "2288       75015 2018-04-18  ...              206             209\n",
            "2281       75015 2018-04-11  ...              257             255\n",
            "2219       75015 2018-02-05  ...              249             247\n",
            "2280       75015 2018-04-10  ...              254             254\n",
            "2326       75015 2018-06-06  ...              264             262\n",
            "2332       75015 2018-06-12  ...              285             270\n",
            "2247       75015 2018-03-08  ...              229             227\n",
            "2220       75015 2018-02-06  ...              204             200\n",
            "2188       75015 2018-01-05  ...              196             198\n",
            "2273       75015 2018-04-03  ...              192             198\n",
            "2307       75015 2018-05-07  ...              216             214\n",
            "2267       75015 2018-03-28  ...              249             246\n",
            "2296       75015 2018-04-26  ...              196             195\n",
            "2246       75015 2018-03-07  ...              226             228\n",
            "2338       75015 2018-06-18  ...              183             183\n",
            "2221       75015 2018-02-07  ...              211             211\n",
            "2187       75015 2018-01-04  ...              165             158\n",
            "2258       75015 2018-03-19  ...              221             230\n",
            "2213       75015 2018-01-30  ...              220             226\n",
            "2321       75015 2018-06-01  ...              262             254\n",
            "\n",
            "[50 rows x 13 columns]\n"
          ]
        }
      ]
    },
    {
      "cell_type": "code",
      "metadata": {
        "colab": {
          "base_uri": "https://localhost:8080/"
        },
        "id": "mBfzkRKxI9BQ",
        "outputId": "8265f521-9fde-471d-f638-a1703f9bbd20"
      },
      "source": [
        "# Standard deviation of bluecars for postal code 75015\n",
        "\n",
        "postal_75015['bluecars_taken_sum'].std()"
      ],
      "execution_count": 1095,
      "outputs": [
        {
          "output_type": "execute_result",
          "data": {
            "text/plain": [
              "153.56908835426216"
            ]
          },
          "metadata": {},
          "execution_count": 1095
        }
      ]
    },
    {
      "cell_type": "code",
      "metadata": {
        "colab": {
          "base_uri": "https://localhost:8080/"
        },
        "id": "1w5mxdL2KAIi",
        "outputId": "6eb15925-45ef-4a46-feb5-363902e91995"
      },
      "source": [
        "# Calculating the mean of the number of bluecars taken in postal code 75015\n",
        "\n",
        "postal_75015['bluecars_taken_sum'].mean()"
      ],
      "execution_count": 1096,
      "outputs": [
        {
          "output_type": "execute_result",
          "data": {
            "text/plain": [
              "815.62"
            ]
          },
          "metadata": {},
          "execution_count": 1096
        }
      ]
    },
    {
      "cell_type": "code",
      "metadata": {
        "colab": {
          "base_uri": "https://localhost:8080/"
        },
        "id": "sRSPQb2uuPhj",
        "outputId": "dd11bf1b-27db-427c-deda-d4773a95226b"
      },
      "source": [
        "# Creating a table for postal 75017\n",
        "\n",
        "postal_75017=strat_sample[strat_sample['postal_code']==75017]\n",
        "print(postal_75017)"
      ],
      "execution_count": 1097,
      "outputs": [
        {
          "output_type": "stream",
          "name": "stdout",
          "text": [
            "     postal_code       date  ...  slots_freed_sum slots_taken_sum\n",
            "2595       75017 2018-04-13  ...              241             234\n",
            "2518       75017 2018-01-23  ...              172             168\n",
            "2580       75017 2018-03-29  ...              197             198\n",
            "2584       75017 2018-04-02  ...              179             185\n",
            "2630       75017 2018-05-29  ...              193             183\n",
            "2504       75017 2018-01-09  ...              148             150\n",
            "2643       75017 2018-06-11  ...              216             202\n",
            "2646       75017 2018-06-14  ...              185             184\n",
            "2517       75017 2018-01-22  ...              182             175\n",
            "2615       75017 2018-05-03  ...              200             204\n",
            "2573       75017 2018-03-22  ...              213             207\n",
            "2651       75017 2018-06-19  ...                5               5\n",
            "2614       75017 2018-05-02  ...              220             209\n",
            "2564       75017 2018-03-13  ...              181             178\n",
            "2546       75017 2018-02-20  ...              160             153\n",
            "2499       75017 2018-01-04  ...              141             145\n",
            "2638       75017 2018-06-06  ...              178             185\n",
            "2619       75017 2018-05-07  ...              180             180\n",
            "2570       75017 2018-03-19  ...              162             157\n",
            "2608       75017 2018-04-26  ...              188             189\n",
            "2524       75017 2018-01-29  ...              187             183\n",
            "2514       75017 2018-01-19  ...              189             192\n",
            "2581       75017 2018-03-30  ...              191             188\n",
            "2593       75017 2018-04-11  ...              224             223\n",
            "2497       75017 2018-01-02  ...              125             126\n",
            "2519       75017 2018-01-24  ...              163             172\n",
            "2626       75017 2018-05-25  ...              196             199\n",
            "2571       75017 2018-03-20  ...              175             179\n",
            "2637       75017 2018-06-05  ...              217             204\n",
            "2633       75017 2018-06-01  ...              218             220\n",
            "2566       75017 2018-03-15  ...              206             206\n",
            "2645       75017 2018-06-13  ...              203             202\n",
            "2531       75017 2018-02-05  ...              178             168\n",
            "2609       75017 2018-04-27  ...              183             186\n",
            "2574       75017 2018-03-23  ...              205             207\n",
            "2623       75017 2018-05-22  ...              216             213\n",
            "2636       75017 2018-06-04  ...              163             161\n",
            "2588       75017 2018-04-06  ...              193             186\n",
            "2557       75017 2018-03-06  ...              191             178\n",
            "2607       75017 2018-04-25  ...              171             168\n",
            "2612       75017 2018-04-30  ...              200             207\n",
            "2585       75017 2018-04-03  ...              179             179\n",
            "2496       75017 2018-01-01  ...              159             171\n",
            "2572       75017 2018-03-21  ...              193             193\n",
            "2532       75017 2018-02-06  ...              192             193\n",
            "2601       75017 2018-04-19  ...              135             144\n",
            "2629       75017 2018-05-28  ...              195             195\n",
            "2587       75017 2018-04-05  ...              179             182\n",
            "2631       75017 2018-05-30  ...              209             212\n",
            "2594       75017 2018-04-12  ...              233             236\n",
            "\n",
            "[50 rows x 13 columns]\n"
          ]
        }
      ]
    },
    {
      "cell_type": "code",
      "metadata": {
        "colab": {
          "base_uri": "https://localhost:8080/"
        },
        "id": "gDpc1PL1Iqgy",
        "outputId": "229d22e9-a242-415a-9ec9-8bbfcbabb85b"
      },
      "source": [
        "# Standard deviation of the bluecars taken for postal code 75017\n",
        "\n",
        "postal_75017['bluecars_taken_sum'].std()\n"
      ],
      "execution_count": 1098,
      "outputs": [
        {
          "output_type": "execute_result",
          "data": {
            "text/plain": [
              "112.1931716063952"
            ]
          },
          "metadata": {},
          "execution_count": 1098
        }
      ]
    },
    {
      "cell_type": "code",
      "metadata": {
        "colab": {
          "base_uri": "https://localhost:8080/"
        },
        "id": "4FotI4nnJqHh",
        "outputId": "ea3dc5b6-0e81-441f-c036-c8e825b6663c"
      },
      "source": [
        "# Calculating the mean of the bluecars taken in postal code 75017\n",
        "\n",
        "postal_75017['bluecars_taken_sum'].mean()"
      ],
      "execution_count": 1099,
      "outputs": [
        {
          "output_type": "execute_result",
          "data": {
            "text/plain": [
              "695.28"
            ]
          },
          "metadata": {},
          "execution_count": 1099
        }
      ]
    },
    {
      "cell_type": "markdown",
      "metadata": {
        "id": "W46HIj4n-LNg"
      },
      "source": [
        "# **HYPOTHESIS TESTING**"
      ]
    },
    {
      "cell_type": "code",
      "metadata": {
        "colab": {
          "base_uri": "https://localhost:8080/"
        },
        "id": "O7U1uwVEINbl",
        "outputId": "13847f4c-d282-4043-e644-8c95307b67b2"
      },
      "source": [
        "# Is the number of cars acquired in area 75017 >/= to the number of cars acquired in area 75015?\n",
        "# To get the answer, we need to find the difference of the sample means of the bluecars in postal codes 75017 and 75015 using the pooled variance t test\n",
        "\n",
        "# First we have to get the pooled_variance, assuming the population variance of the two samples are equal.\n",
        "\n",
        "import math\n",
        "pooled_variance=((50-1)*(postal_75017['bluecars_taken_sum'].std()**2) + (50-1)*(postal_75015['bluecars_taken_sum'].std()**2))/(50-1)+(50-1)\n",
        "pooled_variance\n",
        "\n",
        "# After getting the pooled variance we look for the t statistic\n",
        "\n",
        "t_statistic=((postal_75017['bluecars_taken_sum'].mean()-postal_75015['bluecars_taken_sum'].mean()))/math.sqrt(pooled_variance*((1/50)+(1/50)))\n",
        "print(t_statistic)\n",
        "\n",
        "# Now to get our p_value\n",
        "# We first have to import the required libraries\n",
        "\n",
        "from scipy import stats\n",
        "from scipy.stats import norm\n",
        "\n",
        "p_value=stats.norm.cdf(t_statistic)\n",
        "print(p_value)\n"
      ],
      "execution_count": 1100,
      "outputs": [
        {
          "output_type": "stream",
          "name": "stdout",
          "text": [
            "-3.1616016641503255\n",
            "0.0007845201848646914\n"
          ]
        }
      ]
    },
    {
      "cell_type": "code",
      "metadata": {
        "colab": {
          "base_uri": "https://localhost:8080/"
        },
        "id": "FUTGT-e2-KK0",
        "outputId": "86c6508b-26c6-4742-e02c-07a800ce9f3e"
      },
      "source": [
        "# Is the number of bluecars acquired during the weekdays >/= that acquired on the weekends?(Hypothesis)\n",
        "# Assuming equal variance, we are going to use the pooled variance\n",
        "\n",
        "import math\n",
        "pooled_variance=((115-1)*(weekdays_sample['bluecars_taken_sum'].std()**2) + (45-1)*(weekends_sample['bluecars_taken_sum'].std()**2))/(115-1)+(45-1)\n",
        "pooled_variance\n",
        "\n",
        "# After getting the p_variance we look for the t statistic\n",
        "\n",
        "t_statistic=((weekdays_sample['bluecars_taken_sum'].mean()-weekends_sample['bluecars_taken_sum'].mean()))/math.sqrt(pooled_variance*((1/115)+(1/45)))\n",
        "print(t_statistic)\n",
        "\n",
        "# Now to get our p_value\n",
        "# We first have to import the required libraries\n",
        "\n",
        "from scipy import stats\n",
        "from scipy.stats import norm\n",
        "\n",
        "p_value=stats.norm.cdf(t_statistic)\n",
        "p_value\n",
        "\n",
        "# We can conclude that we will fail to reject our null hypothesis since our p_value, which is greater than our significance level of 0.05, supports the null hypothesis that\n",
        "# the number of bluecars acquired during the weekdays >/= that acquired on the weekends."
      ],
      "execution_count": 1102,
      "outputs": [
        {
          "output_type": "stream",
          "name": "stdout",
          "text": [
            "-0.2661697008568776\n"
          ]
        },
        {
          "output_type": "execute_result",
          "data": {
            "text/plain": [
              "0.39505425838819375"
            ]
          },
          "metadata": {},
          "execution_count": 1102
        }
      ]
    }
  ]
}
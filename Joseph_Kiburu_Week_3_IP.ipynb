{
  "nbformat": 4,
  "nbformat_minor": 0,
  "metadata": {
    "colab": {
      "name": "Joseph Kiburu-Week 3-IP",
      "provenance": [],
      "collapsed_sections": [],
      "authorship_tag": "ABX9TyMGSF0Xg9DuI6zmShXsq8QH",
      "include_colab_link": true
    },
    "kernelspec": {
      "name": "python3",
      "display_name": "Python 3"
    },
    "language_info": {
      "name": "python"
    }
  },
  "cells": [
    {
      "cell_type": "markdown",
      "metadata": {
        "id": "view-in-github",
        "colab_type": "text"
      },
      "source": [
        "<a href=\"https://colab.research.google.com/github/JosephKiburu/Moringa-Core/blob/main/Joseph_Kiburu_Week_3_IP.ipynb\" target=\"_parent\"><img src=\"https://colab.research.google.com/assets/colab-badge.svg\" alt=\"Open In Colab\"/></a>"
      ]
    },
    {
      "cell_type": "markdown",
      "metadata": {
        "id": "Da5UR41fFxlH"
      },
      "source": [
        "**ASSESSMENT QUESTION**\n",
        "\n",
        "Hypothyroidism is a condition where the thyroid gland does not produce enough thyroid hormone. Thyroid hormone plays crucial roles in digestion, heart and muscle function, brain development and maintenance of bones. Deficiency in Thyroid hormone disrupts the body temperature, heart rate and other body metabolism. Some of the symptoms inlude cold sensitivity, fatigue and weight gain. In our report we will focus on a patient's body symptoms and predict whether he or she is suffering from hypothyroidism. The dataset that we are going to use can be found [here.](http://bit.ly/hypothyroid_data)"
      ]
    },
    {
      "cell_type": "markdown",
      "metadata": {
        "id": "3dy50kkoMdZy"
      },
      "source": [
        "**DEFINING THE QUESTION**\n",
        "\n",
        "Our prediction is a binary classification which involves classifying whether a patient has hypothyroid or whether a patient does **not** have hypothyroid. In order to make our predictions, we will be using 25 key variables to show how they influence our prediction of whether or not a patient has hypothyroid. On top of that, we will also look at the key variables that are vital in making our prediction."
      ]
    },
    {
      "cell_type": "markdown",
      "metadata": {
        "id": "b9dLAZ-TOPNn"
      },
      "source": [
        "**DEFINING THE METRIC FOR SUCCESS**\n",
        "\n",
        "We will focus on creating visualizations to get insights of how each variable affects the target variable and also the variables which give us the highest information gain. We will also look at the different classification models and pick the best one to make our classifications with. In our case, we will look for the model with an accuracy score **not** very close to **100%** but also not smaller than **80%**."
      ]
    },
    {
      "cell_type": "markdown",
      "metadata": {
        "id": "GNjFPnw2RqPQ"
      },
      "source": [
        "**UNDERSTANDING THE CONTEXT**\n",
        "\n",
        "We are going to use one dataset. The hypothyroid dataset gives different patient symptoms and a diagnosis of whether or not a patient is suffering from hypothyroidism. The dataset we are using has a total of 26 columns, one of which we will use as our target variable (the 'status' column). We will use the remaining columns as our independent variables."
      ]
    },
    {
      "cell_type": "markdown",
      "metadata": {
        "id": "ldDMIYukTp1T"
      },
      "source": [
        "**EXPERIMENTAL DESIGN**\n",
        "\n",
        "We expect the following work flow:\n",
        "\n",
        "* Data preparation\n",
        " * Loading our libraries and dataset.\n",
        " * Dealing with missing values.\n",
        "* Perform Exploratory Data Analysis.\n",
        "* Creating a Random Forest.\n",
        "* Creating a Gradient Boost tree.\n",
        "* Data cleaning\n",
        " * Checking and dealing with duplicated records.\n",
        " * Checking for outliers.\n",
        "* Building Support Vector Machines\n",
        " * Linear kernel.\n",
        " * Polynomial kernel.\n",
        " * Radial Basis Function kernel.\n",
        "* Conclusion.\n"
      ]
    },
    {
      "cell_type": "markdown",
      "metadata": {
        "id": "rXrWVDYgWMhK"
      },
      "source": [
        "**DATA RELEVANCE**\n",
        "\n",
        "* Age - the age of each patient\n",
        "* Sex - whether the patient is male or female\n",
        "* on_thyroxine\n",
        "* query_on_thyroxine\n",
        "* on_antithyroid_medicationthyroid_surgery\n",
        "* query_hypothyroid\n",
        "* query_hyperthyroid\n",
        "* pregnant - whether the patient is pregnant\n",
        "* sick -whether the patient is sick.\n",
        "* tumor\n",
        "* lithium\n",
        "* goitre\n",
        "* TSH_measured\n",
        "* TSH\n",
        "* T3_measured\n",
        "* T3\n",
        "* TT4_measured\n",
        "* TT4\n",
        "* T4U_measured\t\n",
        "* T4U\t\n",
        "* FTI_measured\t\n",
        "* FTI\t\n",
        "* TBG_measured\t\n",
        "* TBG"
      ]
    },
    {
      "cell_type": "code",
      "metadata": {
        "id": "h29FOLrs4JM6"
      },
      "source": [
        "# Importing our libraries.\n",
        "import pandas as pd\n",
        "import numpy as np\n",
        "import seaborn as sns"
      ],
      "execution_count": 1,
      "outputs": []
    },
    {
      "cell_type": "code",
      "metadata": {
        "colab": {
          "base_uri": "https://localhost:8080/",
          "height": 443
        },
        "id": "XMpJtLoG1io7",
        "outputId": "a1b7183f-c87e-4f8e-8f40-ec8479da74df"
      },
      "source": [
        "# Loading our dataset.\n",
        "\n",
        "df=pd.read_csv('/content/hypothyroid.csv')\n",
        "df"
      ],
      "execution_count": 2,
      "outputs": [
        {
          "output_type": "execute_result",
          "data": {
            "text/html": [
              "<div>\n",
              "<style scoped>\n",
              "    .dataframe tbody tr th:only-of-type {\n",
              "        vertical-align: middle;\n",
              "    }\n",
              "\n",
              "    .dataframe tbody tr th {\n",
              "        vertical-align: top;\n",
              "    }\n",
              "\n",
              "    .dataframe thead th {\n",
              "        text-align: right;\n",
              "    }\n",
              "</style>\n",
              "<table border=\"1\" class=\"dataframe\">\n",
              "  <thead>\n",
              "    <tr style=\"text-align: right;\">\n",
              "      <th></th>\n",
              "      <th>status</th>\n",
              "      <th>age</th>\n",
              "      <th>sex</th>\n",
              "      <th>on_thyroxine</th>\n",
              "      <th>query_on_thyroxine</th>\n",
              "      <th>on_antithyroid_medication</th>\n",
              "      <th>thyroid_surgery</th>\n",
              "      <th>query_hypothyroid</th>\n",
              "      <th>query_hyperthyroid</th>\n",
              "      <th>pregnant</th>\n",
              "      <th>sick</th>\n",
              "      <th>tumor</th>\n",
              "      <th>lithium</th>\n",
              "      <th>goitre</th>\n",
              "      <th>TSH_measured</th>\n",
              "      <th>TSH</th>\n",
              "      <th>T3_measured</th>\n",
              "      <th>T3</th>\n",
              "      <th>TT4_measured</th>\n",
              "      <th>TT4</th>\n",
              "      <th>T4U_measured</th>\n",
              "      <th>T4U</th>\n",
              "      <th>FTI_measured</th>\n",
              "      <th>FTI</th>\n",
              "      <th>TBG_measured</th>\n",
              "      <th>TBG</th>\n",
              "    </tr>\n",
              "  </thead>\n",
              "  <tbody>\n",
              "    <tr>\n",
              "      <th>0</th>\n",
              "      <td>hypothyroid</td>\n",
              "      <td>72</td>\n",
              "      <td>M</td>\n",
              "      <td>f</td>\n",
              "      <td>f</td>\n",
              "      <td>f</td>\n",
              "      <td>f</td>\n",
              "      <td>f</td>\n",
              "      <td>f</td>\n",
              "      <td>f</td>\n",
              "      <td>f</td>\n",
              "      <td>f</td>\n",
              "      <td>f</td>\n",
              "      <td>f</td>\n",
              "      <td>y</td>\n",
              "      <td>30</td>\n",
              "      <td>y</td>\n",
              "      <td>0.60</td>\n",
              "      <td>y</td>\n",
              "      <td>15</td>\n",
              "      <td>y</td>\n",
              "      <td>1.48</td>\n",
              "      <td>y</td>\n",
              "      <td>10</td>\n",
              "      <td>n</td>\n",
              "      <td>?</td>\n",
              "    </tr>\n",
              "    <tr>\n",
              "      <th>1</th>\n",
              "      <td>hypothyroid</td>\n",
              "      <td>15</td>\n",
              "      <td>F</td>\n",
              "      <td>t</td>\n",
              "      <td>f</td>\n",
              "      <td>f</td>\n",
              "      <td>f</td>\n",
              "      <td>f</td>\n",
              "      <td>f</td>\n",
              "      <td>f</td>\n",
              "      <td>f</td>\n",
              "      <td>f</td>\n",
              "      <td>f</td>\n",
              "      <td>f</td>\n",
              "      <td>y</td>\n",
              "      <td>145</td>\n",
              "      <td>y</td>\n",
              "      <td>1.70</td>\n",
              "      <td>y</td>\n",
              "      <td>19</td>\n",
              "      <td>y</td>\n",
              "      <td>1.13</td>\n",
              "      <td>y</td>\n",
              "      <td>17</td>\n",
              "      <td>n</td>\n",
              "      <td>?</td>\n",
              "    </tr>\n",
              "    <tr>\n",
              "      <th>2</th>\n",
              "      <td>hypothyroid</td>\n",
              "      <td>24</td>\n",
              "      <td>M</td>\n",
              "      <td>f</td>\n",
              "      <td>f</td>\n",
              "      <td>f</td>\n",
              "      <td>f</td>\n",
              "      <td>f</td>\n",
              "      <td>f</td>\n",
              "      <td>f</td>\n",
              "      <td>f</td>\n",
              "      <td>f</td>\n",
              "      <td>f</td>\n",
              "      <td>f</td>\n",
              "      <td>y</td>\n",
              "      <td>0</td>\n",
              "      <td>y</td>\n",
              "      <td>0.20</td>\n",
              "      <td>y</td>\n",
              "      <td>4</td>\n",
              "      <td>y</td>\n",
              "      <td>1</td>\n",
              "      <td>y</td>\n",
              "      <td>0</td>\n",
              "      <td>n</td>\n",
              "      <td>?</td>\n",
              "    </tr>\n",
              "    <tr>\n",
              "      <th>3</th>\n",
              "      <td>hypothyroid</td>\n",
              "      <td>24</td>\n",
              "      <td>F</td>\n",
              "      <td>f</td>\n",
              "      <td>f</td>\n",
              "      <td>f</td>\n",
              "      <td>f</td>\n",
              "      <td>f</td>\n",
              "      <td>f</td>\n",
              "      <td>f</td>\n",
              "      <td>f</td>\n",
              "      <td>f</td>\n",
              "      <td>f</td>\n",
              "      <td>f</td>\n",
              "      <td>y</td>\n",
              "      <td>430</td>\n",
              "      <td>y</td>\n",
              "      <td>0.40</td>\n",
              "      <td>y</td>\n",
              "      <td>6</td>\n",
              "      <td>y</td>\n",
              "      <td>1.04</td>\n",
              "      <td>y</td>\n",
              "      <td>6</td>\n",
              "      <td>n</td>\n",
              "      <td>?</td>\n",
              "    </tr>\n",
              "    <tr>\n",
              "      <th>4</th>\n",
              "      <td>hypothyroid</td>\n",
              "      <td>77</td>\n",
              "      <td>M</td>\n",
              "      <td>f</td>\n",
              "      <td>f</td>\n",
              "      <td>f</td>\n",
              "      <td>f</td>\n",
              "      <td>f</td>\n",
              "      <td>f</td>\n",
              "      <td>f</td>\n",
              "      <td>f</td>\n",
              "      <td>f</td>\n",
              "      <td>f</td>\n",
              "      <td>f</td>\n",
              "      <td>y</td>\n",
              "      <td>7.30</td>\n",
              "      <td>y</td>\n",
              "      <td>1.20</td>\n",
              "      <td>y</td>\n",
              "      <td>57</td>\n",
              "      <td>y</td>\n",
              "      <td>1.28</td>\n",
              "      <td>y</td>\n",
              "      <td>44</td>\n",
              "      <td>n</td>\n",
              "      <td>?</td>\n",
              "    </tr>\n",
              "    <tr>\n",
              "      <th>...</th>\n",
              "      <td>...</td>\n",
              "      <td>...</td>\n",
              "      <td>...</td>\n",
              "      <td>...</td>\n",
              "      <td>...</td>\n",
              "      <td>...</td>\n",
              "      <td>...</td>\n",
              "      <td>...</td>\n",
              "      <td>...</td>\n",
              "      <td>...</td>\n",
              "      <td>...</td>\n",
              "      <td>...</td>\n",
              "      <td>...</td>\n",
              "      <td>...</td>\n",
              "      <td>...</td>\n",
              "      <td>...</td>\n",
              "      <td>...</td>\n",
              "      <td>...</td>\n",
              "      <td>...</td>\n",
              "      <td>...</td>\n",
              "      <td>...</td>\n",
              "      <td>...</td>\n",
              "      <td>...</td>\n",
              "      <td>...</td>\n",
              "      <td>...</td>\n",
              "      <td>...</td>\n",
              "    </tr>\n",
              "    <tr>\n",
              "      <th>3158</th>\n",
              "      <td>negative</td>\n",
              "      <td>58</td>\n",
              "      <td>F</td>\n",
              "      <td>f</td>\n",
              "      <td>f</td>\n",
              "      <td>f</td>\n",
              "      <td>f</td>\n",
              "      <td>f</td>\n",
              "      <td>f</td>\n",
              "      <td>f</td>\n",
              "      <td>f</td>\n",
              "      <td>f</td>\n",
              "      <td>f</td>\n",
              "      <td>f</td>\n",
              "      <td>y</td>\n",
              "      <td>5.80</td>\n",
              "      <td>y</td>\n",
              "      <td>1.70</td>\n",
              "      <td>y</td>\n",
              "      <td>86</td>\n",
              "      <td>y</td>\n",
              "      <td>0.91</td>\n",
              "      <td>y</td>\n",
              "      <td>95</td>\n",
              "      <td>n</td>\n",
              "      <td>?</td>\n",
              "    </tr>\n",
              "    <tr>\n",
              "      <th>3159</th>\n",
              "      <td>negative</td>\n",
              "      <td>29</td>\n",
              "      <td>F</td>\n",
              "      <td>f</td>\n",
              "      <td>f</td>\n",
              "      <td>f</td>\n",
              "      <td>f</td>\n",
              "      <td>f</td>\n",
              "      <td>f</td>\n",
              "      <td>f</td>\n",
              "      <td>f</td>\n",
              "      <td>f</td>\n",
              "      <td>f</td>\n",
              "      <td>f</td>\n",
              "      <td>y</td>\n",
              "      <td>0.80</td>\n",
              "      <td>y</td>\n",
              "      <td>1.80</td>\n",
              "      <td>y</td>\n",
              "      <td>99</td>\n",
              "      <td>y</td>\n",
              "      <td>1.01</td>\n",
              "      <td>y</td>\n",
              "      <td>98</td>\n",
              "      <td>n</td>\n",
              "      <td>?</td>\n",
              "    </tr>\n",
              "    <tr>\n",
              "      <th>3160</th>\n",
              "      <td>negative</td>\n",
              "      <td>77</td>\n",
              "      <td>M</td>\n",
              "      <td>f</td>\n",
              "      <td>f</td>\n",
              "      <td>f</td>\n",
              "      <td>f</td>\n",
              "      <td>f</td>\n",
              "      <td>f</td>\n",
              "      <td>f</td>\n",
              "      <td>f</td>\n",
              "      <td>f</td>\n",
              "      <td>f</td>\n",
              "      <td>f</td>\n",
              "      <td>y</td>\n",
              "      <td>1.20</td>\n",
              "      <td>y</td>\n",
              "      <td>0.60</td>\n",
              "      <td>y</td>\n",
              "      <td>71</td>\n",
              "      <td>y</td>\n",
              "      <td>0.68</td>\n",
              "      <td>y</td>\n",
              "      <td>104</td>\n",
              "      <td>n</td>\n",
              "      <td>?</td>\n",
              "    </tr>\n",
              "    <tr>\n",
              "      <th>3161</th>\n",
              "      <td>negative</td>\n",
              "      <td>74</td>\n",
              "      <td>F</td>\n",
              "      <td>f</td>\n",
              "      <td>f</td>\n",
              "      <td>f</td>\n",
              "      <td>f</td>\n",
              "      <td>f</td>\n",
              "      <td>f</td>\n",
              "      <td>f</td>\n",
              "      <td>f</td>\n",
              "      <td>f</td>\n",
              "      <td>f</td>\n",
              "      <td>f</td>\n",
              "      <td>y</td>\n",
              "      <td>1.30</td>\n",
              "      <td>y</td>\n",
              "      <td>0.10</td>\n",
              "      <td>y</td>\n",
              "      <td>65</td>\n",
              "      <td>y</td>\n",
              "      <td>0.48</td>\n",
              "      <td>y</td>\n",
              "      <td>137</td>\n",
              "      <td>n</td>\n",
              "      <td>?</td>\n",
              "    </tr>\n",
              "    <tr>\n",
              "      <th>3162</th>\n",
              "      <td>negative</td>\n",
              "      <td>56</td>\n",
              "      <td>F</td>\n",
              "      <td>t</td>\n",
              "      <td>f</td>\n",
              "      <td>f</td>\n",
              "      <td>f</td>\n",
              "      <td>f</td>\n",
              "      <td>f</td>\n",
              "      <td>f</td>\n",
              "      <td>f</td>\n",
              "      <td>f</td>\n",
              "      <td>f</td>\n",
              "      <td>f</td>\n",
              "      <td>y</td>\n",
              "      <td>0</td>\n",
              "      <td>y</td>\n",
              "      <td>1.80</td>\n",
              "      <td>y</td>\n",
              "      <td>139</td>\n",
              "      <td>y</td>\n",
              "      <td>0.97</td>\n",
              "      <td>y</td>\n",
              "      <td>143</td>\n",
              "      <td>n</td>\n",
              "      <td>?</td>\n",
              "    </tr>\n",
              "  </tbody>\n",
              "</table>\n",
              "<p>3163 rows × 26 columns</p>\n",
              "</div>"
            ],
            "text/plain": [
              "           status age sex on_thyroxine  ... FTI_measured  FTI TBG_measured TBG\n",
              "0     hypothyroid  72   M            f  ...            y   10            n   ?\n",
              "1     hypothyroid  15   F            t  ...            y   17            n   ?\n",
              "2     hypothyroid  24   M            f  ...            y    0            n   ?\n",
              "3     hypothyroid  24   F            f  ...            y    6            n   ?\n",
              "4     hypothyroid  77   M            f  ...            y   44            n   ?\n",
              "...           ...  ..  ..          ...  ...          ...  ...          ...  ..\n",
              "3158     negative  58   F            f  ...            y   95            n   ?\n",
              "3159     negative  29   F            f  ...            y   98            n   ?\n",
              "3160     negative  77   M            f  ...            y  104            n   ?\n",
              "3161     negative  74   F            f  ...            y  137            n   ?\n",
              "3162     negative  56   F            t  ...            y  143            n   ?\n",
              "\n",
              "[3163 rows x 26 columns]"
            ]
          },
          "metadata": {},
          "execution_count": 2
        }
      ]
    },
    {
      "cell_type": "code",
      "metadata": {
        "colab": {
          "base_uri": "https://localhost:8080/"
        },
        "id": "esxkuksL5ru2",
        "outputId": "69aaab9c-da08-44a9-c56d-7f6caec7cbd1"
      },
      "source": [
        "df.isnull().sum().sum()"
      ],
      "execution_count": 3,
      "outputs": [
        {
          "output_type": "execute_result",
          "data": {
            "text/plain": [
              "0"
            ]
          },
          "metadata": {},
          "execution_count": 3
        }
      ]
    },
    {
      "cell_type": "code",
      "metadata": {
        "colab": {
          "base_uri": "https://localhost:8080/"
        },
        "id": "9txWV8LW6jEP",
        "outputId": "08328ead-306b-4a73-f851-2b6fc847b3e1"
      },
      "source": [
        "df.dtypes"
      ],
      "execution_count": 4,
      "outputs": [
        {
          "output_type": "execute_result",
          "data": {
            "text/plain": [
              "status                       object\n",
              "age                          object\n",
              "sex                          object\n",
              "on_thyroxine                 object\n",
              "query_on_thyroxine           object\n",
              "on_antithyroid_medication    object\n",
              "thyroid_surgery              object\n",
              "query_hypothyroid            object\n",
              "query_hyperthyroid           object\n",
              "pregnant                     object\n",
              "sick                         object\n",
              "tumor                        object\n",
              "lithium                      object\n",
              "goitre                       object\n",
              "TSH_measured                 object\n",
              "TSH                          object\n",
              "T3_measured                  object\n",
              "T3                           object\n",
              "TT4_measured                 object\n",
              "TT4                          object\n",
              "T4U_measured                 object\n",
              "T4U                          object\n",
              "FTI_measured                 object\n",
              "FTI                          object\n",
              "TBG_measured                 object\n",
              "TBG                          object\n",
              "dtype: object"
            ]
          },
          "metadata": {},
          "execution_count": 4
        }
      ]
    },
    {
      "cell_type": "code",
      "metadata": {
        "colab": {
          "base_uri": "https://localhost:8080/",
          "height": 226
        },
        "id": "KxtWSzSw_uRc",
        "outputId": "725ce648-a5d3-4de3-a9ae-33aad6dc8703"
      },
      "source": [
        "# Splitting categorical columns from numerical columns so that we can encode the values in the categorical columns.\n",
        "\n",
        "from sklearn.preprocessing import LabelEncoder\n",
        "\n",
        "categorical=df[['status','sex','on_thyroxine','query_on_thyroxine','on_antithyroid_medication','thyroid_surgery','query_hypothyroid','query_hyperthyroid','pregnant','sick','tumor','lithium','goitre','TSH_measured','T3_measured','TT4_measured','T4U_measured','FTI_measured','TBG_measured']]\n",
        "categorical.head()"
      ],
      "execution_count": 5,
      "outputs": [
        {
          "output_type": "execute_result",
          "data": {
            "text/html": [
              "<div>\n",
              "<style scoped>\n",
              "    .dataframe tbody tr th:only-of-type {\n",
              "        vertical-align: middle;\n",
              "    }\n",
              "\n",
              "    .dataframe tbody tr th {\n",
              "        vertical-align: top;\n",
              "    }\n",
              "\n",
              "    .dataframe thead th {\n",
              "        text-align: right;\n",
              "    }\n",
              "</style>\n",
              "<table border=\"1\" class=\"dataframe\">\n",
              "  <thead>\n",
              "    <tr style=\"text-align: right;\">\n",
              "      <th></th>\n",
              "      <th>status</th>\n",
              "      <th>sex</th>\n",
              "      <th>on_thyroxine</th>\n",
              "      <th>query_on_thyroxine</th>\n",
              "      <th>on_antithyroid_medication</th>\n",
              "      <th>thyroid_surgery</th>\n",
              "      <th>query_hypothyroid</th>\n",
              "      <th>query_hyperthyroid</th>\n",
              "      <th>pregnant</th>\n",
              "      <th>sick</th>\n",
              "      <th>tumor</th>\n",
              "      <th>lithium</th>\n",
              "      <th>goitre</th>\n",
              "      <th>TSH_measured</th>\n",
              "      <th>T3_measured</th>\n",
              "      <th>TT4_measured</th>\n",
              "      <th>T4U_measured</th>\n",
              "      <th>FTI_measured</th>\n",
              "      <th>TBG_measured</th>\n",
              "    </tr>\n",
              "  </thead>\n",
              "  <tbody>\n",
              "    <tr>\n",
              "      <th>0</th>\n",
              "      <td>hypothyroid</td>\n",
              "      <td>M</td>\n",
              "      <td>f</td>\n",
              "      <td>f</td>\n",
              "      <td>f</td>\n",
              "      <td>f</td>\n",
              "      <td>f</td>\n",
              "      <td>f</td>\n",
              "      <td>f</td>\n",
              "      <td>f</td>\n",
              "      <td>f</td>\n",
              "      <td>f</td>\n",
              "      <td>f</td>\n",
              "      <td>y</td>\n",
              "      <td>y</td>\n",
              "      <td>y</td>\n",
              "      <td>y</td>\n",
              "      <td>y</td>\n",
              "      <td>n</td>\n",
              "    </tr>\n",
              "    <tr>\n",
              "      <th>1</th>\n",
              "      <td>hypothyroid</td>\n",
              "      <td>F</td>\n",
              "      <td>t</td>\n",
              "      <td>f</td>\n",
              "      <td>f</td>\n",
              "      <td>f</td>\n",
              "      <td>f</td>\n",
              "      <td>f</td>\n",
              "      <td>f</td>\n",
              "      <td>f</td>\n",
              "      <td>f</td>\n",
              "      <td>f</td>\n",
              "      <td>f</td>\n",
              "      <td>y</td>\n",
              "      <td>y</td>\n",
              "      <td>y</td>\n",
              "      <td>y</td>\n",
              "      <td>y</td>\n",
              "      <td>n</td>\n",
              "    </tr>\n",
              "    <tr>\n",
              "      <th>2</th>\n",
              "      <td>hypothyroid</td>\n",
              "      <td>M</td>\n",
              "      <td>f</td>\n",
              "      <td>f</td>\n",
              "      <td>f</td>\n",
              "      <td>f</td>\n",
              "      <td>f</td>\n",
              "      <td>f</td>\n",
              "      <td>f</td>\n",
              "      <td>f</td>\n",
              "      <td>f</td>\n",
              "      <td>f</td>\n",
              "      <td>f</td>\n",
              "      <td>y</td>\n",
              "      <td>y</td>\n",
              "      <td>y</td>\n",
              "      <td>y</td>\n",
              "      <td>y</td>\n",
              "      <td>n</td>\n",
              "    </tr>\n",
              "    <tr>\n",
              "      <th>3</th>\n",
              "      <td>hypothyroid</td>\n",
              "      <td>F</td>\n",
              "      <td>f</td>\n",
              "      <td>f</td>\n",
              "      <td>f</td>\n",
              "      <td>f</td>\n",
              "      <td>f</td>\n",
              "      <td>f</td>\n",
              "      <td>f</td>\n",
              "      <td>f</td>\n",
              "      <td>f</td>\n",
              "      <td>f</td>\n",
              "      <td>f</td>\n",
              "      <td>y</td>\n",
              "      <td>y</td>\n",
              "      <td>y</td>\n",
              "      <td>y</td>\n",
              "      <td>y</td>\n",
              "      <td>n</td>\n",
              "    </tr>\n",
              "    <tr>\n",
              "      <th>4</th>\n",
              "      <td>hypothyroid</td>\n",
              "      <td>M</td>\n",
              "      <td>f</td>\n",
              "      <td>f</td>\n",
              "      <td>f</td>\n",
              "      <td>f</td>\n",
              "      <td>f</td>\n",
              "      <td>f</td>\n",
              "      <td>f</td>\n",
              "      <td>f</td>\n",
              "      <td>f</td>\n",
              "      <td>f</td>\n",
              "      <td>f</td>\n",
              "      <td>y</td>\n",
              "      <td>y</td>\n",
              "      <td>y</td>\n",
              "      <td>y</td>\n",
              "      <td>y</td>\n",
              "      <td>n</td>\n",
              "    </tr>\n",
              "  </tbody>\n",
              "</table>\n",
              "</div>"
            ],
            "text/plain": [
              "        status sex on_thyroxine  ... T4U_measured FTI_measured TBG_measured\n",
              "0  hypothyroid   M            f  ...            y            y            n\n",
              "1  hypothyroid   F            t  ...            y            y            n\n",
              "2  hypothyroid   M            f  ...            y            y            n\n",
              "3  hypothyroid   F            f  ...            y            y            n\n",
              "4  hypothyroid   M            f  ...            y            y            n\n",
              "\n",
              "[5 rows x 19 columns]"
            ]
          },
          "metadata": {},
          "execution_count": 5
        }
      ]
    },
    {
      "cell_type": "code",
      "metadata": {
        "id": "dNAoh8n1CIQG"
      },
      "source": [
        "# Encoding all categorical columns.\n",
        "\n",
        "encoded=categorical.apply(LabelEncoder().fit_transform)"
      ],
      "execution_count": 6,
      "outputs": []
    },
    {
      "cell_type": "code",
      "metadata": {
        "colab": {
          "base_uri": "https://localhost:8080/",
          "height": 132
        },
        "id": "b0q4qhLDDqcC",
        "outputId": "614f0746-029d-4498-bb45-f07d4090c509"
      },
      "source": [
        "encoded.head(2)"
      ],
      "execution_count": 7,
      "outputs": [
        {
          "output_type": "execute_result",
          "data": {
            "text/html": [
              "<div>\n",
              "<style scoped>\n",
              "    .dataframe tbody tr th:only-of-type {\n",
              "        vertical-align: middle;\n",
              "    }\n",
              "\n",
              "    .dataframe tbody tr th {\n",
              "        vertical-align: top;\n",
              "    }\n",
              "\n",
              "    .dataframe thead th {\n",
              "        text-align: right;\n",
              "    }\n",
              "</style>\n",
              "<table border=\"1\" class=\"dataframe\">\n",
              "  <thead>\n",
              "    <tr style=\"text-align: right;\">\n",
              "      <th></th>\n",
              "      <th>status</th>\n",
              "      <th>sex</th>\n",
              "      <th>on_thyroxine</th>\n",
              "      <th>query_on_thyroxine</th>\n",
              "      <th>on_antithyroid_medication</th>\n",
              "      <th>thyroid_surgery</th>\n",
              "      <th>query_hypothyroid</th>\n",
              "      <th>query_hyperthyroid</th>\n",
              "      <th>pregnant</th>\n",
              "      <th>sick</th>\n",
              "      <th>tumor</th>\n",
              "      <th>lithium</th>\n",
              "      <th>goitre</th>\n",
              "      <th>TSH_measured</th>\n",
              "      <th>T3_measured</th>\n",
              "      <th>TT4_measured</th>\n",
              "      <th>T4U_measured</th>\n",
              "      <th>FTI_measured</th>\n",
              "      <th>TBG_measured</th>\n",
              "    </tr>\n",
              "  </thead>\n",
              "  <tbody>\n",
              "    <tr>\n",
              "      <th>0</th>\n",
              "      <td>0</td>\n",
              "      <td>2</td>\n",
              "      <td>0</td>\n",
              "      <td>0</td>\n",
              "      <td>0</td>\n",
              "      <td>0</td>\n",
              "      <td>0</td>\n",
              "      <td>0</td>\n",
              "      <td>0</td>\n",
              "      <td>0</td>\n",
              "      <td>0</td>\n",
              "      <td>0</td>\n",
              "      <td>0</td>\n",
              "      <td>1</td>\n",
              "      <td>1</td>\n",
              "      <td>1</td>\n",
              "      <td>1</td>\n",
              "      <td>1</td>\n",
              "      <td>0</td>\n",
              "    </tr>\n",
              "    <tr>\n",
              "      <th>1</th>\n",
              "      <td>0</td>\n",
              "      <td>1</td>\n",
              "      <td>1</td>\n",
              "      <td>0</td>\n",
              "      <td>0</td>\n",
              "      <td>0</td>\n",
              "      <td>0</td>\n",
              "      <td>0</td>\n",
              "      <td>0</td>\n",
              "      <td>0</td>\n",
              "      <td>0</td>\n",
              "      <td>0</td>\n",
              "      <td>0</td>\n",
              "      <td>1</td>\n",
              "      <td>1</td>\n",
              "      <td>1</td>\n",
              "      <td>1</td>\n",
              "      <td>1</td>\n",
              "      <td>0</td>\n",
              "    </tr>\n",
              "  </tbody>\n",
              "</table>\n",
              "</div>"
            ],
            "text/plain": [
              "   status  sex  on_thyroxine  ...  T4U_measured  FTI_measured  TBG_measured\n",
              "0       0    2             0  ...             1             1             0\n",
              "1       0    1             1  ...             1             1             0\n",
              "\n",
              "[2 rows x 19 columns]"
            ]
          },
          "metadata": {},
          "execution_count": 7
        }
      ]
    },
    {
      "cell_type": "markdown",
      "metadata": {
        "id": "EFqpSbviath5"
      },
      "source": [
        "Our numerical columns are objects instead of integers. We therefore need to convert them to integers. However, when we try to do that, it gives us an error because we have value '?' in all of our numerical columns which cannot be converted to an integer. To get around this error, we can use Pandas 'to_numeric' function with 'errors='coerce' as an argument."
      ]
    },
    {
      "cell_type": "code",
      "metadata": {
        "id": "zGuKgzKgC7jI"
      },
      "source": [
        "# Separating our numerical columns from the categorical columns.\n",
        "\n",
        "numerical=df.drop(['status','sex','on_thyroxine','query_on_thyroxine','on_antithyroid_medication','thyroid_surgery','query_hypothyroid','query_hyperthyroid','pregnant','sick','tumor','lithium','goitre','TSH_measured','T3_measured','TT4_measured','T4U_measured','FTI_measured','TBG_measured'],axis=1)"
      ],
      "execution_count": 8,
      "outputs": []
    },
    {
      "cell_type": "code",
      "metadata": {
        "colab": {
          "base_uri": "https://localhost:8080/",
          "height": 206
        },
        "id": "Oiy32It0DevR",
        "outputId": "33d5dad3-f06e-498f-9dce-32c492965e3f"
      },
      "source": [
        "# Previewing the top of our numerical dataset.\n",
        "\n",
        "numerical.head()"
      ],
      "execution_count": 9,
      "outputs": [
        {
          "output_type": "execute_result",
          "data": {
            "text/html": [
              "<div>\n",
              "<style scoped>\n",
              "    .dataframe tbody tr th:only-of-type {\n",
              "        vertical-align: middle;\n",
              "    }\n",
              "\n",
              "    .dataframe tbody tr th {\n",
              "        vertical-align: top;\n",
              "    }\n",
              "\n",
              "    .dataframe thead th {\n",
              "        text-align: right;\n",
              "    }\n",
              "</style>\n",
              "<table border=\"1\" class=\"dataframe\">\n",
              "  <thead>\n",
              "    <tr style=\"text-align: right;\">\n",
              "      <th></th>\n",
              "      <th>age</th>\n",
              "      <th>TSH</th>\n",
              "      <th>T3</th>\n",
              "      <th>TT4</th>\n",
              "      <th>T4U</th>\n",
              "      <th>FTI</th>\n",
              "      <th>TBG</th>\n",
              "    </tr>\n",
              "  </thead>\n",
              "  <tbody>\n",
              "    <tr>\n",
              "      <th>0</th>\n",
              "      <td>72</td>\n",
              "      <td>30</td>\n",
              "      <td>0.60</td>\n",
              "      <td>15</td>\n",
              "      <td>1.48</td>\n",
              "      <td>10</td>\n",
              "      <td>?</td>\n",
              "    </tr>\n",
              "    <tr>\n",
              "      <th>1</th>\n",
              "      <td>15</td>\n",
              "      <td>145</td>\n",
              "      <td>1.70</td>\n",
              "      <td>19</td>\n",
              "      <td>1.13</td>\n",
              "      <td>17</td>\n",
              "      <td>?</td>\n",
              "    </tr>\n",
              "    <tr>\n",
              "      <th>2</th>\n",
              "      <td>24</td>\n",
              "      <td>0</td>\n",
              "      <td>0.20</td>\n",
              "      <td>4</td>\n",
              "      <td>1</td>\n",
              "      <td>0</td>\n",
              "      <td>?</td>\n",
              "    </tr>\n",
              "    <tr>\n",
              "      <th>3</th>\n",
              "      <td>24</td>\n",
              "      <td>430</td>\n",
              "      <td>0.40</td>\n",
              "      <td>6</td>\n",
              "      <td>1.04</td>\n",
              "      <td>6</td>\n",
              "      <td>?</td>\n",
              "    </tr>\n",
              "    <tr>\n",
              "      <th>4</th>\n",
              "      <td>77</td>\n",
              "      <td>7.30</td>\n",
              "      <td>1.20</td>\n",
              "      <td>57</td>\n",
              "      <td>1.28</td>\n",
              "      <td>44</td>\n",
              "      <td>?</td>\n",
              "    </tr>\n",
              "  </tbody>\n",
              "</table>\n",
              "</div>"
            ],
            "text/plain": [
              "  age   TSH    T3 TT4   T4U FTI TBG\n",
              "0  72    30  0.60  15  1.48  10   ?\n",
              "1  15   145  1.70  19  1.13  17   ?\n",
              "2  24     0  0.20   4     1   0   ?\n",
              "3  24   430  0.40   6  1.04   6   ?\n",
              "4  77  7.30  1.20  57  1.28  44   ?"
            ]
          },
          "metadata": {},
          "execution_count": 9
        }
      ]
    },
    {
      "cell_type": "code",
      "metadata": {
        "id": "xm5sf1msVwcH"
      },
      "source": [
        "# Converting our numerical columns to integers.\n",
        "\n",
        "numerical['age'] = pd.to_numeric(numerical['age'], errors='coerce')\n",
        "numerical['TSH']= pd.to_numeric(numerical['TSH'], errors='coerce')\n",
        "numerical['T3'] = pd.to_numeric(numerical['T3'], errors='coerce')\n",
        "numerical['TT4'] = pd.to_numeric(numerical['TT4'], errors='coerce')\n",
        "numerical['T4U'] = pd.to_numeric(numerical['T4U'], errors='coerce')\n",
        "numerical['FTI'] = pd.to_numeric(numerical['FTI'], errors='coerce')\n",
        "numerical['TBG'] = pd.to_numeric(numerical['TBG'], errors='coerce')"
      ],
      "execution_count": 10,
      "outputs": []
    },
    {
      "cell_type": "code",
      "metadata": {
        "colab": {
          "base_uri": "https://localhost:8080/"
        },
        "id": "R6DmjHAvab0D",
        "outputId": "7d6ca0d9-b666-4188-b7cd-2ec4e89f4566"
      },
      "source": [
        "numerical.isnull().sum()"
      ],
      "execution_count": 11,
      "outputs": [
        {
          "output_type": "execute_result",
          "data": {
            "text/plain": [
              "age     446\n",
              "TSH     468\n",
              "T3      695\n",
              "TT4     249\n",
              "T4U     248\n",
              "FTI     247\n",
              "TBG    2903\n",
              "dtype: int64"
            ]
          },
          "metadata": {},
          "execution_count": 11
        }
      ]
    },
    {
      "cell_type": "markdown",
      "metadata": {
        "id": "RlEFoH3Zcb3F"
      },
      "source": [
        "We find that by converting the columns to integers, we get a lot of null values in our columns which came from the '?' values. We cannot drop them because they cover a large proportion of our data. I find that the best way to fill the missing values is by replacing them with the mean value in their respective columns."
      ]
    },
    {
      "cell_type": "code",
      "metadata": {
        "id": "c56M7YnPdIBX"
      },
      "source": [
        "# Filling each missing value in each column with the mean value of their respective columns.\n",
        "\n",
        "numerical['age']=numerical['age'].fillna(numerical['age'].mean()).astype('int')\n",
        "numerical['TSH']=numerical['TSH'].fillna(numerical['TSH'].mean()).astype('int')\n",
        "numerical['T3']=numerical['T3'].fillna(numerical['T3'].mean()).astype('int')\n",
        "numerical['TT4']=numerical['TT4'].fillna(numerical['TT4'].mean()).astype('int')\n",
        "numerical['T4U']=numerical['T4U'].fillna(numerical['T4U'].mean()).astype('int')\n",
        "numerical['FTI']=numerical['FTI'].fillna(numerical['FTI'].mean()).astype('int')\n",
        "numerical['TBG']=numerical['TBG'].fillna(numerical['TBG'].mean()).astype('int')"
      ],
      "execution_count": 12,
      "outputs": []
    },
    {
      "cell_type": "code",
      "metadata": {
        "colab": {
          "base_uri": "https://localhost:8080/"
        },
        "id": "qd2rrsx2e0sw",
        "outputId": "b3f348bb-f2d4-4b6e-c4fb-aaba8be09261"
      },
      "source": [
        "numerical.isnull().sum()\n",
        "\n",
        "# The missing values have been succesfully replaced."
      ],
      "execution_count": 13,
      "outputs": [
        {
          "output_type": "execute_result",
          "data": {
            "text/plain": [
              "age    0\n",
              "TSH    0\n",
              "T3     0\n",
              "TT4    0\n",
              "T4U    0\n",
              "FTI    0\n",
              "TBG    0\n",
              "dtype: int64"
            ]
          },
          "metadata": {},
          "execution_count": 13
        }
      ]
    },
    {
      "cell_type": "code",
      "metadata": {
        "colab": {
          "base_uri": "https://localhost:8080/",
          "height": 226
        },
        "id": "oohQUyv4CX9U",
        "outputId": "167cde88-d25f-4e02-fe37-288b0f753e45"
      },
      "source": [
        "# Joining the two datasets\n",
        "\n",
        "df_final=encoded.join(numerical)\n",
        "df_final.head()"
      ],
      "execution_count": 14,
      "outputs": [
        {
          "output_type": "execute_result",
          "data": {
            "text/html": [
              "<div>\n",
              "<style scoped>\n",
              "    .dataframe tbody tr th:only-of-type {\n",
              "        vertical-align: middle;\n",
              "    }\n",
              "\n",
              "    .dataframe tbody tr th {\n",
              "        vertical-align: top;\n",
              "    }\n",
              "\n",
              "    .dataframe thead th {\n",
              "        text-align: right;\n",
              "    }\n",
              "</style>\n",
              "<table border=\"1\" class=\"dataframe\">\n",
              "  <thead>\n",
              "    <tr style=\"text-align: right;\">\n",
              "      <th></th>\n",
              "      <th>status</th>\n",
              "      <th>sex</th>\n",
              "      <th>on_thyroxine</th>\n",
              "      <th>query_on_thyroxine</th>\n",
              "      <th>on_antithyroid_medication</th>\n",
              "      <th>thyroid_surgery</th>\n",
              "      <th>query_hypothyroid</th>\n",
              "      <th>query_hyperthyroid</th>\n",
              "      <th>pregnant</th>\n",
              "      <th>sick</th>\n",
              "      <th>tumor</th>\n",
              "      <th>lithium</th>\n",
              "      <th>goitre</th>\n",
              "      <th>TSH_measured</th>\n",
              "      <th>T3_measured</th>\n",
              "      <th>TT4_measured</th>\n",
              "      <th>T4U_measured</th>\n",
              "      <th>FTI_measured</th>\n",
              "      <th>TBG_measured</th>\n",
              "      <th>age</th>\n",
              "      <th>TSH</th>\n",
              "      <th>T3</th>\n",
              "      <th>TT4</th>\n",
              "      <th>T4U</th>\n",
              "      <th>FTI</th>\n",
              "      <th>TBG</th>\n",
              "    </tr>\n",
              "  </thead>\n",
              "  <tbody>\n",
              "    <tr>\n",
              "      <th>0</th>\n",
              "      <td>0</td>\n",
              "      <td>2</td>\n",
              "      <td>0</td>\n",
              "      <td>0</td>\n",
              "      <td>0</td>\n",
              "      <td>0</td>\n",
              "      <td>0</td>\n",
              "      <td>0</td>\n",
              "      <td>0</td>\n",
              "      <td>0</td>\n",
              "      <td>0</td>\n",
              "      <td>0</td>\n",
              "      <td>0</td>\n",
              "      <td>1</td>\n",
              "      <td>1</td>\n",
              "      <td>1</td>\n",
              "      <td>1</td>\n",
              "      <td>1</td>\n",
              "      <td>0</td>\n",
              "      <td>72</td>\n",
              "      <td>30</td>\n",
              "      <td>0</td>\n",
              "      <td>15</td>\n",
              "      <td>1</td>\n",
              "      <td>10</td>\n",
              "      <td>31</td>\n",
              "    </tr>\n",
              "    <tr>\n",
              "      <th>1</th>\n",
              "      <td>0</td>\n",
              "      <td>1</td>\n",
              "      <td>1</td>\n",
              "      <td>0</td>\n",
              "      <td>0</td>\n",
              "      <td>0</td>\n",
              "      <td>0</td>\n",
              "      <td>0</td>\n",
              "      <td>0</td>\n",
              "      <td>0</td>\n",
              "      <td>0</td>\n",
              "      <td>0</td>\n",
              "      <td>0</td>\n",
              "      <td>1</td>\n",
              "      <td>1</td>\n",
              "      <td>1</td>\n",
              "      <td>1</td>\n",
              "      <td>1</td>\n",
              "      <td>0</td>\n",
              "      <td>15</td>\n",
              "      <td>145</td>\n",
              "      <td>1</td>\n",
              "      <td>19</td>\n",
              "      <td>1</td>\n",
              "      <td>17</td>\n",
              "      <td>31</td>\n",
              "    </tr>\n",
              "    <tr>\n",
              "      <th>2</th>\n",
              "      <td>0</td>\n",
              "      <td>2</td>\n",
              "      <td>0</td>\n",
              "      <td>0</td>\n",
              "      <td>0</td>\n",
              "      <td>0</td>\n",
              "      <td>0</td>\n",
              "      <td>0</td>\n",
              "      <td>0</td>\n",
              "      <td>0</td>\n",
              "      <td>0</td>\n",
              "      <td>0</td>\n",
              "      <td>0</td>\n",
              "      <td>1</td>\n",
              "      <td>1</td>\n",
              "      <td>1</td>\n",
              "      <td>1</td>\n",
              "      <td>1</td>\n",
              "      <td>0</td>\n",
              "      <td>24</td>\n",
              "      <td>0</td>\n",
              "      <td>0</td>\n",
              "      <td>4</td>\n",
              "      <td>1</td>\n",
              "      <td>0</td>\n",
              "      <td>31</td>\n",
              "    </tr>\n",
              "    <tr>\n",
              "      <th>3</th>\n",
              "      <td>0</td>\n",
              "      <td>1</td>\n",
              "      <td>0</td>\n",
              "      <td>0</td>\n",
              "      <td>0</td>\n",
              "      <td>0</td>\n",
              "      <td>0</td>\n",
              "      <td>0</td>\n",
              "      <td>0</td>\n",
              "      <td>0</td>\n",
              "      <td>0</td>\n",
              "      <td>0</td>\n",
              "      <td>0</td>\n",
              "      <td>1</td>\n",
              "      <td>1</td>\n",
              "      <td>1</td>\n",
              "      <td>1</td>\n",
              "      <td>1</td>\n",
              "      <td>0</td>\n",
              "      <td>24</td>\n",
              "      <td>430</td>\n",
              "      <td>0</td>\n",
              "      <td>6</td>\n",
              "      <td>1</td>\n",
              "      <td>6</td>\n",
              "      <td>31</td>\n",
              "    </tr>\n",
              "    <tr>\n",
              "      <th>4</th>\n",
              "      <td>0</td>\n",
              "      <td>2</td>\n",
              "      <td>0</td>\n",
              "      <td>0</td>\n",
              "      <td>0</td>\n",
              "      <td>0</td>\n",
              "      <td>0</td>\n",
              "      <td>0</td>\n",
              "      <td>0</td>\n",
              "      <td>0</td>\n",
              "      <td>0</td>\n",
              "      <td>0</td>\n",
              "      <td>0</td>\n",
              "      <td>1</td>\n",
              "      <td>1</td>\n",
              "      <td>1</td>\n",
              "      <td>1</td>\n",
              "      <td>1</td>\n",
              "      <td>0</td>\n",
              "      <td>77</td>\n",
              "      <td>7</td>\n",
              "      <td>1</td>\n",
              "      <td>57</td>\n",
              "      <td>1</td>\n",
              "      <td>44</td>\n",
              "      <td>31</td>\n",
              "    </tr>\n",
              "  </tbody>\n",
              "</table>\n",
              "</div>"
            ],
            "text/plain": [
              "   status  sex  on_thyroxine  query_on_thyroxine  ...  TT4  T4U  FTI  TBG\n",
              "0       0    2             0                   0  ...   15    1   10   31\n",
              "1       0    1             1                   0  ...   19    1   17   31\n",
              "2       0    2             0                   0  ...    4    1    0   31\n",
              "3       0    1             0                   0  ...    6    1    6   31\n",
              "4       0    2             0                   0  ...   57    1   44   31\n",
              "\n",
              "[5 rows x 26 columns]"
            ]
          },
          "metadata": {},
          "execution_count": 14
        }
      ]
    },
    {
      "cell_type": "code",
      "metadata": {
        "colab": {
          "base_uri": "https://localhost:8080/"
        },
        "id": "HATwTWkEEAUD",
        "outputId": "15ebc834-2fd7-4c30-8e4b-ca6d87bd46bc"
      },
      "source": [
        "# Checking the data types of our columns\n",
        "\n",
        "df_final.dtypes"
      ],
      "execution_count": 15,
      "outputs": [
        {
          "output_type": "execute_result",
          "data": {
            "text/plain": [
              "status                       int64\n",
              "sex                          int64\n",
              "on_thyroxine                 int64\n",
              "query_on_thyroxine           int64\n",
              "on_antithyroid_medication    int64\n",
              "thyroid_surgery              int64\n",
              "query_hypothyroid            int64\n",
              "query_hyperthyroid           int64\n",
              "pregnant                     int64\n",
              "sick                         int64\n",
              "tumor                        int64\n",
              "lithium                      int64\n",
              "goitre                       int64\n",
              "TSH_measured                 int64\n",
              "T3_measured                  int64\n",
              "TT4_measured                 int64\n",
              "T4U_measured                 int64\n",
              "FTI_measured                 int64\n",
              "TBG_measured                 int64\n",
              "age                          int64\n",
              "TSH                          int64\n",
              "T3                           int64\n",
              "TT4                          int64\n",
              "T4U                          int64\n",
              "FTI                          int64\n",
              "TBG                          int64\n",
              "dtype: object"
            ]
          },
          "metadata": {},
          "execution_count": 15
        }
      ]
    },
    {
      "cell_type": "markdown",
      "metadata": {
        "id": "e82lIzRdgXWC"
      },
      "source": [
        "**RANDOM FOREST**\n",
        "\n",
        "What Random Forest does is combine the simplicity of Decision Trees with flexibility. Flexibility improves the accuracy of our model whereby we can still use the model when it comes to classifying new samples. Random Forest uses a boostrapped dataset which is created from randomly selecting samples from the original dataset. The same samples can be selected more than once."
      ]
    },
    {
      "cell_type": "markdown",
      "metadata": {
        "id": "FjTFDRkZEtjj"
      },
      "source": [
        "Since this is a classification, we are going to use a random forest classifier."
      ]
    },
    {
      "cell_type": "code",
      "metadata": {
        "id": "81vdCppOTNIj"
      },
      "source": [
        "# Importing the libraries.\n",
        "\n",
        "from sklearn.metrics import accuracy_score\n",
        "from sklearn.metrics import confusion_matrix\n",
        "from sklearn.model_selection import train_test_split\n",
        "from sklearn.ensemble import RandomForestClassifier"
      ],
      "execution_count": 16,
      "outputs": []
    },
    {
      "cell_type": "code",
      "metadata": {
        "id": "AoyIB-rtTu_x"
      },
      "source": [
        "# Separating the dependent variable and the independent variables.\n",
        "\n",
        "X=df_final.drop('status',axis=1).values\n",
        "y=df_final['status'].values\n",
        "\n",
        "# Creating a list of our test features\n",
        "features=df_final.columns.to_list()\n",
        "features.remove('status')\n",
        "\n",
        "# Separating our train and test sets and testing 20% of our data\n",
        "X_train, X_test, y_train, y_test=train_test_split(X,y, test_size=0.2, random_state=42)"
      ],
      "execution_count": 17,
      "outputs": []
    },
    {
      "cell_type": "markdown",
      "metadata": {
        "id": "0OBQnkPvk97q"
      },
      "source": [
        "Before training our model, we need to establish the best parameters we are going to use to optimize our model's performance. We can find the best parameters by performing grid search."
      ]
    },
    {
      "cell_type": "code",
      "metadata": {
        "colab": {
          "base_uri": "https://localhost:8080/"
        },
        "id": "EviEqDrelZux",
        "outputId": "14f2aec9-958a-4431-a41d-a0b34474d2fc"
      },
      "source": [
        "from sklearn.model_selection import GridSearchCV\n",
        "\n",
        "# Creating a parameter grid of the best parameters we want to look for.\n",
        "param_grid = {\n",
        "    'bootstrap':[True],\n",
        "    'max_depth': [5,6,7,8],\n",
        "    'max_features': [2, 3],\n",
        "    'min_samples_split': [10,20,30],\n",
        "    'n_estimators': [100, 200, 300]\n",
        "}\n",
        "\n",
        "forest=RandomForestClassifier(random_state=42)\n",
        "\n",
        "# Building our grid search model to find the best parameters.\n",
        "CV_forest = GridSearchCV(estimator = forest, param_grid = param_grid, cv = 5)\n",
        "CV_forest.fit(X_train, y_train)"
      ],
      "execution_count": 18,
      "outputs": [
        {
          "output_type": "execute_result",
          "data": {
            "text/plain": [
              "GridSearchCV(cv=5, error_score='raise-deprecating',\n",
              "       estimator=RandomForestClassifier(bootstrap=True, class_weight=None, criterion='gini',\n",
              "            max_depth=None, max_features='auto', max_leaf_nodes=None,\n",
              "            min_impurity_decrease=0.0, min_impurity_split=None,\n",
              "            min_samples_leaf=1, min_samples_split=2,\n",
              "            min_weight_fraction_leaf=0.0, n_estimators='warn', n_jobs=None,\n",
              "            oob_score=False, random_state=42, verbose=0, warm_start=False),\n",
              "       fit_params=None, iid='warn', n_jobs=None,\n",
              "       param_grid={'bootstrap': [True], 'max_depth': [5, 6, 7, 8], 'max_features': [2, 3], 'min_samples_split': [10, 20, 30], 'n_estimators': [100, 200, 300]},\n",
              "       pre_dispatch='2*n_jobs', refit=True, return_train_score='warn',\n",
              "       scoring=None, verbose=0)"
            ]
          },
          "metadata": {},
          "execution_count": 18
        }
      ]
    },
    {
      "cell_type": "code",
      "metadata": {
        "colab": {
          "base_uri": "https://localhost:8080/"
        },
        "id": "BJ3ixoJrKP5u",
        "outputId": "f4e133e3-e6c4-440a-bf67-c5e2e716113a"
      },
      "source": [
        "# Now to look for the best parameters we are going to use in our model.\n",
        "\n",
        "CV_forest.best_params_\n"
      ],
      "execution_count": 19,
      "outputs": [
        {
          "output_type": "execute_result",
          "data": {
            "text/plain": [
              "{'bootstrap': True,\n",
              " 'max_depth': 7,\n",
              " 'max_features': 3,\n",
              " 'min_samples_split': 10,\n",
              " 'n_estimators': 300}"
            ]
          },
          "metadata": {},
          "execution_count": 19
        }
      ]
    },
    {
      "cell_type": "code",
      "metadata": {
        "id": "fg0muz6jGmyH"
      },
      "source": [
        "# Fitting the best parameters in our random forest\n",
        "\n",
        "rforest = RandomForestClassifier(n_estimators = 300, random_state=42, min_samples_split = 10, max_depth=7,max_features=3)\n",
        "rforest = rforest.fit(X_train, y_train)"
      ],
      "execution_count": 20,
      "outputs": []
    },
    {
      "cell_type": "code",
      "metadata": {
        "colab": {
          "base_uri": "https://localhost:8080/",
          "height": 423
        },
        "id": "2TLO-xmE9PBh",
        "outputId": "99affaf2-62c6-41f9-efea-283875fca520"
      },
      "source": [
        "# Predicting using our trained model\n",
        "\n",
        "y_pred=rforest.predict(X_test)\n",
        "\n",
        "comparison=pd.DataFrame({'Actual': y_test.flatten(),'Prediction':y_pred.flatten()})\n",
        "comparison\n"
      ],
      "execution_count": 21,
      "outputs": [
        {
          "output_type": "execute_result",
          "data": {
            "text/html": [
              "<div>\n",
              "<style scoped>\n",
              "    .dataframe tbody tr th:only-of-type {\n",
              "        vertical-align: middle;\n",
              "    }\n",
              "\n",
              "    .dataframe tbody tr th {\n",
              "        vertical-align: top;\n",
              "    }\n",
              "\n",
              "    .dataframe thead th {\n",
              "        text-align: right;\n",
              "    }\n",
              "</style>\n",
              "<table border=\"1\" class=\"dataframe\">\n",
              "  <thead>\n",
              "    <tr style=\"text-align: right;\">\n",
              "      <th></th>\n",
              "      <th>Actual</th>\n",
              "      <th>Prediction</th>\n",
              "    </tr>\n",
              "  </thead>\n",
              "  <tbody>\n",
              "    <tr>\n",
              "      <th>0</th>\n",
              "      <td>1</td>\n",
              "      <td>1</td>\n",
              "    </tr>\n",
              "    <tr>\n",
              "      <th>1</th>\n",
              "      <td>1</td>\n",
              "      <td>1</td>\n",
              "    </tr>\n",
              "    <tr>\n",
              "      <th>2</th>\n",
              "      <td>1</td>\n",
              "      <td>1</td>\n",
              "    </tr>\n",
              "    <tr>\n",
              "      <th>3</th>\n",
              "      <td>1</td>\n",
              "      <td>1</td>\n",
              "    </tr>\n",
              "    <tr>\n",
              "      <th>4</th>\n",
              "      <td>1</td>\n",
              "      <td>1</td>\n",
              "    </tr>\n",
              "    <tr>\n",
              "      <th>...</th>\n",
              "      <td>...</td>\n",
              "      <td>...</td>\n",
              "    </tr>\n",
              "    <tr>\n",
              "      <th>628</th>\n",
              "      <td>1</td>\n",
              "      <td>1</td>\n",
              "    </tr>\n",
              "    <tr>\n",
              "      <th>629</th>\n",
              "      <td>1</td>\n",
              "      <td>1</td>\n",
              "    </tr>\n",
              "    <tr>\n",
              "      <th>630</th>\n",
              "      <td>1</td>\n",
              "      <td>1</td>\n",
              "    </tr>\n",
              "    <tr>\n",
              "      <th>631</th>\n",
              "      <td>1</td>\n",
              "      <td>1</td>\n",
              "    </tr>\n",
              "    <tr>\n",
              "      <th>632</th>\n",
              "      <td>1</td>\n",
              "      <td>1</td>\n",
              "    </tr>\n",
              "  </tbody>\n",
              "</table>\n",
              "<p>633 rows × 2 columns</p>\n",
              "</div>"
            ],
            "text/plain": [
              "     Actual  Prediction\n",
              "0         1           1\n",
              "1         1           1\n",
              "2         1           1\n",
              "3         1           1\n",
              "4         1           1\n",
              "..      ...         ...\n",
              "628       1           1\n",
              "629       1           1\n",
              "630       1           1\n",
              "631       1           1\n",
              "632       1           1\n",
              "\n",
              "[633 rows x 2 columns]"
            ]
          },
          "metadata": {},
          "execution_count": 21
        }
      ]
    },
    {
      "cell_type": "code",
      "metadata": {
        "colab": {
          "base_uri": "https://localhost:8080/"
        },
        "id": "AEecZrK9PPmw",
        "outputId": "a1b8e63b-4d73-4c4b-a343-590737b0a236"
      },
      "source": [
        "print(accuracy_score(y_test,y_pred))"
      ],
      "execution_count": 22,
      "outputs": [
        {
          "output_type": "stream",
          "name": "stdout",
          "text": [
            "0.9826224328593997\n"
          ]
        }
      ]
    },
    {
      "cell_type": "markdown",
      "metadata": {
        "id": "QIQZkqLFh7Mo"
      },
      "source": [
        "Our Random Forest gives us a really high accuracy score of about **98.3%**. Even though Random Forests are set to improve our model accuracy, we cannot rule out the possibility that our model is overfitting our training set. "
      ]
    },
    {
      "cell_type": "code",
      "metadata": {
        "colab": {
          "base_uri": "https://localhost:8080/"
        },
        "id": "ryJy5Z0EPV5-",
        "outputId": "c4976ea7-b020-4984-acc3-8ece6df6e3a2"
      },
      "source": [
        "print(confusion_matrix(y_test,y_pred))"
      ],
      "execution_count": 23,
      "outputs": [
        {
          "output_type": "stream",
          "name": "stdout",
          "text": [
            "[[ 27  10]\n",
            " [  1 595]]\n"
          ]
        }
      ]
    },
    {
      "cell_type": "markdown",
      "metadata": {
        "id": "GabwEvQei0s2"
      },
      "source": [
        "11 of our total data points have been incorrectly prdicted while 622 have been correctly predicted. Even though not 100% accurate, a good number of correct predictions have been made."
      ]
    },
    {
      "cell_type": "code",
      "metadata": {
        "colab": {
          "base_uri": "https://localhost:8080/"
        },
        "id": "X5dloULV9-rS",
        "outputId": "f5d7741b-d838-46c1-9b86-41e7287cca97"
      },
      "source": [
        "from sklearn import metrics\n",
        "\n",
        "# And now we assess the errors\n",
        "print('Mean Absolute Error:', metrics.mean_absolute_error(y_test, y_pred))  \n",
        "print('Mean Squared Error:', metrics.mean_squared_error(y_test, y_pred))  \n",
        "print('Root Mean Squared Error:', np.sqrt(metrics.mean_squared_error(y_test, y_pred)))"
      ],
      "execution_count": 24,
      "outputs": [
        {
          "output_type": "stream",
          "name": "stdout",
          "text": [
            "Mean Absolute Error: 0.017377567140600316\n",
            "Mean Squared Error: 0.017377567140600316\n",
            "Root Mean Squared Error: 0.13182400062431848\n"
          ]
        }
      ]
    },
    {
      "cell_type": "markdown",
      "metadata": {
        "id": "UBz2hFLSjqRA"
      },
      "source": [
        "Our RMSE is about 13%. Our predictions range from 0 to 1. Not a very big gap between our minimum and maximum range, but an RMSE of 13% is still pretty good."
      ]
    },
    {
      "cell_type": "code",
      "metadata": {
        "colab": {
          "base_uri": "https://localhost:8080/",
          "height": 971
        },
        "id": "4UAmsEgiAOYz",
        "outputId": "5fec9e63-21bf-4dc8-9173-5ae6f2cfca1a"
      },
      "source": [
        "# Lets look at how 50 trees in our random forest look loke to determine which features are the most important in determining if someone has hypothyroid.\n",
        "\n",
        "from sklearn.tree import export_graphviz\n",
        "!pip install --upgrade scikit-learn==0.20.3\n",
        "from sklearn.externals.six import StringIO  \n",
        "from IPython.display import Image  \n",
        "import pydotplus\n",
        "\n",
        "dot_data = StringIO()\n",
        "tree = rforest.estimators_[50]\n",
        "\n",
        "export_graphviz(tree, out_file=dot_data,  \n",
        "                filled=True, rounded=True,\n",
        "                special_characters=True,feature_names = features)\n",
        "graph = pydotplus.graph_from_dot_data(dot_data.getvalue())  \n",
        "graph.write_png('hypothyroid_forest.png')\n",
        "Image(graph.create_png())"
      ],
      "execution_count": 25,
      "outputs": [
        {
          "output_type": "stream",
          "name": "stdout",
          "text": [
            "Requirement already satisfied: scikit-learn==0.20.3 in /usr/local/lib/python3.7/dist-packages (0.20.3)\n",
            "Requirement already satisfied: scipy>=0.13.3 in /usr/local/lib/python3.7/dist-packages (from scikit-learn==0.20.3) (1.4.1)\n",
            "Requirement already satisfied: numpy>=1.8.2 in /usr/local/lib/python3.7/dist-packages (from scikit-learn==0.20.3) (1.19.5)\n"
          ]
        },
        {
          "output_type": "execute_result",
          "data": {
            "image/png": "[encoded data removed]",
            "text/plain": [
              "<IPython.core.display.Image object>"
            ]
          },
          "metadata": {},
          "execution_count": 25
        }
      ]
    },
    {
      "cell_type": "markdown",
      "metadata": {
        "id": "llK7TB9iWtMJ"
      },
      "source": [
        "From our random forest, we can see that we have meaningful information gain because on the left side, majority of the nodes are orange indicating one class and a few blue nodes indicating a different class and on the right side of our tree most of the tree nodes are blue nodes."
      ]
    },
    {
      "cell_type": "code",
      "metadata": {
        "colab": {
          "base_uri": "https://localhost:8080/"
        },
        "id": "CyzMFG0D-KiX",
        "outputId": "7d483b24-6a76-4db1-fe87-134a300f7a8a"
      },
      "source": [
        "# Let us find the numerical features that are important.\n",
        "importances = list(tree.feature_importances_)\n",
        "\n",
        "# List of tuples with variable and importance\n",
        "feature_importances = [(feature, round(importance, 2)) for feature, importance in zip(features, importances)]\n",
        "\n",
        "print(feature_importances) #this already has all the information we need, but it can be tricky to see when there are too many features.\n",
        "print()\n",
        "\n",
        "# Sorting the values in descending order\n",
        "feature_importances = sorted(feature_importances, key = lambda x: x[1], reverse = True)\n",
        "\n",
        "# Print out the feature and importances \n",
        "[print('Variable: {:20} Importance: {}'.format(*pair)) for pair in feature_importances];"
      ],
      "execution_count": 26,
      "outputs": [
        {
          "output_type": "stream",
          "name": "stdout",
          "text": [
            "[('sex', 0.0), ('on_thyroxine', 0.0), ('query_on_thyroxine', 0.0), ('on_antithyroid_medication', 0.0), ('thyroid_surgery', 0.0), ('query_hypothyroid', 0.01), ('query_hyperthyroid', 0.0), ('pregnant', 0.0), ('sick', 0.0), ('tumor', 0.0), ('lithium', 0.0), ('goitre', 0.0), ('TSH_measured', 0.0), ('T3_measured', 0.0), ('TT4_measured', 0.0), ('T4U_measured', 0.0), ('FTI_measured', 0.0), ('TBG_measured', 0.0), ('age', 0.02), ('TSH', 0.26), ('T3', 0.0), ('TT4', 0.01), ('T4U', 0.01), ('FTI', 0.69), ('TBG', 0.0)]\n",
            "\n",
            "Variable: FTI                  Importance: 0.69\n",
            "Variable: TSH                  Importance: 0.26\n",
            "Variable: age                  Importance: 0.02\n",
            "Variable: query_hypothyroid    Importance: 0.01\n",
            "Variable: TT4                  Importance: 0.01\n",
            "Variable: T4U                  Importance: 0.01\n",
            "Variable: sex                  Importance: 0.0\n",
            "Variable: on_thyroxine         Importance: 0.0\n",
            "Variable: query_on_thyroxine   Importance: 0.0\n",
            "Variable: on_antithyroid_medication Importance: 0.0\n",
            "Variable: thyroid_surgery      Importance: 0.0\n",
            "Variable: query_hyperthyroid   Importance: 0.0\n",
            "Variable: pregnant             Importance: 0.0\n",
            "Variable: sick                 Importance: 0.0\n",
            "Variable: tumor                Importance: 0.0\n",
            "Variable: lithium              Importance: 0.0\n",
            "Variable: goitre               Importance: 0.0\n",
            "Variable: TSH_measured         Importance: 0.0\n",
            "Variable: T3_measured          Importance: 0.0\n",
            "Variable: TT4_measured         Importance: 0.0\n",
            "Variable: T4U_measured         Importance: 0.0\n",
            "Variable: FTI_measured         Importance: 0.0\n",
            "Variable: TBG_measured         Importance: 0.0\n",
            "Variable: T3                   Importance: 0.0\n",
            "Variable: TBG                  Importance: 0.0\n"
          ]
        }
      ]
    },
    {
      "cell_type": "code",
      "metadata": {
        "colab": {
          "base_uri": "https://localhost:8080/",
          "height": 417
        },
        "id": "bY-D-52t_v5_",
        "outputId": "03e04481-4a63-4c9d-800b-e75e49b0ac2d"
      },
      "source": [
        "import matplotlib.pyplot as plt\n",
        "\n",
        "# list of x locations for plotting\n",
        "x_values = list(range(len(importances)))\n",
        "# Creating a bar chart\n",
        "plt.bar(x_values, importances, orientation = 'vertical')\n",
        "# Tick labels for x axis\n",
        "plt.xticks(x_values, features, rotation='vertical')\n",
        "# Axis labels and title\n",
        "plt.ylabel('Importance'); plt.xlabel('Variable'); plt.title('Variable Importances');"
      ],
      "execution_count": 27,
      "outputs": [
        {
          "output_type": "display_data",
          "data": {
            "image/png": "[encoded data removed]",
            "text/plain": [
              "<Figure size 432x288 with 1 Axes>"
            ]
          },
          "metadata": {
            "needs_background": "light"
          }
        }
      ]
    },
    {
      "cell_type": "markdown",
      "metadata": {
        "id": "3l_fiLxhD6Wi"
      },
      "source": [
        "From the visualisation, we can see that most of the features are not vital in our classification. The best features to use are FTI and TSH."
      ]
    },
    {
      "cell_type": "markdown",
      "metadata": {
        "id": "uIGJa__3D6MK"
      },
      "source": [
        "**GRADIENT BOOST**"
      ]
    },
    {
      "cell_type": "code",
      "metadata": {
        "id": "MCKXSk1E-KA8"
      },
      "source": [
        "# Splitting our dataset.\n",
        "\n",
        "from sklearn.ensemble import GradientBoostingClassifier\n",
        "import matplotlib.pyplot as plt\n",
        "from sklearn.model_selection import train_test_split\n",
        "\n",
        "X=df_final.drop('status',axis=1).values\n",
        "y=df_final['status'].values\n",
        "\n",
        "# Creating a list of our test features\n",
        "features=df_final.columns.to_list()\n",
        "features.remove('status')"
      ],
      "execution_count": 28,
      "outputs": []
    },
    {
      "cell_type": "code",
      "metadata": {
        "id": "wKttZsx_G_6r",
        "colab": {
          "base_uri": "https://localhost:8080/"
        },
        "outputId": "2237cb24-f8b3-4967-dc8c-69cb835c886a"
      },
      "source": [
        "# Creating our train and test sets.\n",
        "\n",
        "from sklearn.model_selection import GridSearchCV\n",
        "\n",
        "X_train,X_test,y_train,y_test=train_test_split(X,y, test_size=0.2, random_state=0)\n",
        "\n",
        "gb=GradientBoostingClassifier()\n",
        "\n",
        "# Creating a parameter grid of the best parameters we want to look for.\n",
        "param_grid = {\n",
        "    'max_depth': [4,5,6],\n",
        "    'learning_rate': [0.3,0.4,0.5],\n",
        "    'n_estimators': [100,200, 400]\n",
        "}\n",
        "\n",
        "# Fit the Grid search model on the training set.\n",
        "boost=GridSearchCV(estimator=gb, param_grid=param_grid, cv=5)\n",
        "boost.fit(X_train,y_train)"
      ],
      "execution_count": 29,
      "outputs": [
        {
          "output_type": "execute_result",
          "data": {
            "text/plain": [
              "GridSearchCV(cv=5, error_score='raise-deprecating',\n",
              "       estimator=GradientBoostingClassifier(criterion='friedman_mse', init=None,\n",
              "              learning_rate=0.1, loss='deviance', max_depth=3,\n",
              "              max_features=None, max_leaf_nodes=None,\n",
              "              min_impurity_decrease=0.0, min_impurity_split=None,\n",
              "              min_samples_leaf=1, min_sampl...      subsample=1.0, tol=0.0001, validation_fraction=0.1,\n",
              "              verbose=0, warm_start=False),\n",
              "       fit_params=None, iid='warn', n_jobs=None,\n",
              "       param_grid={'max_depth': [4, 5, 6], 'learning_rate': [0.3, 0.4, 0.5], 'n_estimators': [100, 200, 400]},\n",
              "       pre_dispatch='2*n_jobs', refit=True, return_train_score='warn',\n",
              "       scoring=None, verbose=0)"
            ]
          },
          "metadata": {},
          "execution_count": 29
        }
      ]
    },
    {
      "cell_type": "code",
      "metadata": {
        "colab": {
          "base_uri": "https://localhost:8080/"
        },
        "id": "sOcXHnrNV-Ax",
        "outputId": "9fc59ee4-d4a3-4b3f-8b56-0b1ab96064de"
      },
      "source": [
        "# Finding the best parameters to use.\n",
        "\n",
        "boost.best_params_"
      ],
      "execution_count": 30,
      "outputs": [
        {
          "output_type": "execute_result",
          "data": {
            "text/plain": [
              "{'learning_rate': 0.3, 'max_depth': 5, 'n_estimators': 200}"
            ]
          },
          "metadata": {},
          "execution_count": 30
        }
      ]
    },
    {
      "cell_type": "code",
      "metadata": {
        "id": "nlVMp2TOXiQX"
      },
      "source": [
        "# Fitting our Gradient boost model with the best parameters.\n",
        "\n",
        "gbr = GradientBoostingClassifier(n_estimators=200, learning_rate=0.3, max_depth=5)\n",
        "gbr = gbr.fit(X_train, y_train)"
      ],
      "execution_count": 31,
      "outputs": []
    },
    {
      "cell_type": "code",
      "metadata": {
        "id": "hte4cPdLX546"
      },
      "source": [
        "y_pred=gbr.predict(X_test)"
      ],
      "execution_count": 32,
      "outputs": []
    },
    {
      "cell_type": "code",
      "metadata": {
        "colab": {
          "base_uri": "https://localhost:8080/",
          "height": 423
        },
        "id": "IPl_4hbrYFxa",
        "outputId": "78723236-6d80-4597-abde-66857e3e6cae"
      },
      "source": [
        "comparison=pd.DataFrame({'Actual': y_test.flatten(),'Prediction':y_pred.flatten()})\n",
        "comparison"
      ],
      "execution_count": 33,
      "outputs": [
        {
          "output_type": "execute_result",
          "data": {
            "text/html": [
              "<div>\n",
              "<style scoped>\n",
              "    .dataframe tbody tr th:only-of-type {\n",
              "        vertical-align: middle;\n",
              "    }\n",
              "\n",
              "    .dataframe tbody tr th {\n",
              "        vertical-align: top;\n",
              "    }\n",
              "\n",
              "    .dataframe thead th {\n",
              "        text-align: right;\n",
              "    }\n",
              "</style>\n",
              "<table border=\"1\" class=\"dataframe\">\n",
              "  <thead>\n",
              "    <tr style=\"text-align: right;\">\n",
              "      <th></th>\n",
              "      <th>Actual</th>\n",
              "      <th>Prediction</th>\n",
              "    </tr>\n",
              "  </thead>\n",
              "  <tbody>\n",
              "    <tr>\n",
              "      <th>0</th>\n",
              "      <td>1</td>\n",
              "      <td>1</td>\n",
              "    </tr>\n",
              "    <tr>\n",
              "      <th>1</th>\n",
              "      <td>1</td>\n",
              "      <td>1</td>\n",
              "    </tr>\n",
              "    <tr>\n",
              "      <th>2</th>\n",
              "      <td>1</td>\n",
              "      <td>1</td>\n",
              "    </tr>\n",
              "    <tr>\n",
              "      <th>3</th>\n",
              "      <td>1</td>\n",
              "      <td>1</td>\n",
              "    </tr>\n",
              "    <tr>\n",
              "      <th>4</th>\n",
              "      <td>1</td>\n",
              "      <td>1</td>\n",
              "    </tr>\n",
              "    <tr>\n",
              "      <th>...</th>\n",
              "      <td>...</td>\n",
              "      <td>...</td>\n",
              "    </tr>\n",
              "    <tr>\n",
              "      <th>628</th>\n",
              "      <td>1</td>\n",
              "      <td>1</td>\n",
              "    </tr>\n",
              "    <tr>\n",
              "      <th>629</th>\n",
              "      <td>1</td>\n",
              "      <td>1</td>\n",
              "    </tr>\n",
              "    <tr>\n",
              "      <th>630</th>\n",
              "      <td>1</td>\n",
              "      <td>1</td>\n",
              "    </tr>\n",
              "    <tr>\n",
              "      <th>631</th>\n",
              "      <td>1</td>\n",
              "      <td>1</td>\n",
              "    </tr>\n",
              "    <tr>\n",
              "      <th>632</th>\n",
              "      <td>1</td>\n",
              "      <td>1</td>\n",
              "    </tr>\n",
              "  </tbody>\n",
              "</table>\n",
              "<p>633 rows × 2 columns</p>\n",
              "</div>"
            ],
            "text/plain": [
              "     Actual  Prediction\n",
              "0         1           1\n",
              "1         1           1\n",
              "2         1           1\n",
              "3         1           1\n",
              "4         1           1\n",
              "..      ...         ...\n",
              "628       1           1\n",
              "629       1           1\n",
              "630       1           1\n",
              "631       1           1\n",
              "632       1           1\n",
              "\n",
              "[633 rows x 2 columns]"
            ]
          },
          "metadata": {},
          "execution_count": 33
        }
      ]
    },
    {
      "cell_type": "code",
      "metadata": {
        "colab": {
          "base_uri": "https://localhost:8080/"
        },
        "id": "hXsdU-TkYrKc",
        "outputId": "e76ee73e-ae03-4d00-9c19-3045b558af71"
      },
      "source": [
        "# Checking for the accuracy of our model.\n",
        "print(accuracy_score(y_test,y_pred))\n",
        "\n",
        "# Checking for the number of correct predictions.\n",
        "print(confusion_matrix(y_test,y_pred))"
      ],
      "execution_count": 34,
      "outputs": [
        {
          "output_type": "stream",
          "name": "stdout",
          "text": [
            "0.9873617693522907\n",
            "[[ 23   3]\n",
            " [  5 602]]\n"
          ]
        }
      ]
    },
    {
      "cell_type": "markdown",
      "metadata": {
        "id": "jZ-EOlNEnBB1"
      },
      "source": [
        "Our Gradient Boost tree has a high accuracy score of about **98.7%**. This tree is what we get as our perfect fit."
      ]
    },
    {
      "cell_type": "code",
      "metadata": {
        "colab": {
          "base_uri": "https://localhost:8080/"
        },
        "id": "hqYi79w_iVPm",
        "outputId": "7a6af729-95e3-4903-dfae-e4f004f887e0"
      },
      "source": [
        "from sklearn import metrics\n",
        "\n",
        "# And now we assess the errors\n",
        "print('Mean Absolute Error:', metrics.mean_absolute_error(y_test, y_pred))  \n",
        "print('Mean Squared Error:', metrics.mean_squared_error(y_test, y_pred))  \n",
        "print('Root Mean Squared Error:', np.sqrt(metrics.mean_squared_error(y_test, y_pred)))"
      ],
      "execution_count": 35,
      "outputs": [
        {
          "output_type": "stream",
          "name": "stdout",
          "text": [
            "Mean Absolute Error: 0.01263823064770932\n",
            "Mean Squared Error: 0.01263823064770932\n",
            "Root Mean Squared Error: 0.11241988546386854\n"
          ]
        }
      ]
    },
    {
      "cell_type": "markdown",
      "metadata": {
        "id": "oDG05oofnlhD"
      },
      "source": [
        "It also has a low RMSE of **11.2%**. Using a range of 0 to 1, this is not a bad error to work with."
      ]
    },
    {
      "cell_type": "markdown",
      "metadata": {
        "id": "Zq0mnHHCjO0L"
      },
      "source": [
        "**SUPPORT VECTOR MACHINES**"
      ]
    },
    {
      "cell_type": "markdown",
      "metadata": {
        "id": "p66WT9wLkfZd"
      },
      "source": [
        "In Support Vector Machines are very sensitive to outliers. Outliers can cause a lot of misclassifications and also they tend to cause overfitting since data is noisy. In the kernels we are going to create, we will use a parameter grid with parameters with a small range because using a big range in the parameters is very time consuming. This is one of the disadvantages of Support Vector Machines. In our Support Vector Machine models, we are going to deal with 2 Dimensional data."
      ]
    },
    {
      "cell_type": "markdown",
      "metadata": {
        "id": "KM76NfwSlqlk"
      },
      "source": [
        "From our Random Forest, we see that to classify whether a patient has hypothyroid or not, two columns are vital. The FTI and TSH columns. They are the most impactful in influencing prediction. We are therefore going to use the two columns in our Support Vector Machine."
      ]
    },
    {
      "cell_type": "code",
      "metadata": {
        "colab": {
          "base_uri": "https://localhost:8080/"
        },
        "id": "jruHiTdwm-J8",
        "outputId": "adb18b2c-a61b-4f47-cb7d-a6b264bff381"
      },
      "source": [
        "# Checking for duplicates.\n",
        "\n",
        "df_final.duplicated().sum()"
      ],
      "execution_count": 36,
      "outputs": [
        {
          "output_type": "execute_result",
          "data": {
            "text/plain": [
              "86"
            ]
          },
          "metadata": {},
          "execution_count": 36
        }
      ]
    },
    {
      "cell_type": "markdown",
      "metadata": {
        "id": "_y9fJdv5nFtp"
      },
      "source": [
        "We can see that we have duplicated values in our dataset. Since we are  going to be visualising our data, we do not want different data points overlying each other. We need each data point to be clearly represented on its own position in the visualisation. We are therefore going to drop the duplicates."
      ]
    },
    {
      "cell_type": "code",
      "metadata": {
        "colab": {
          "base_uri": "https://localhost:8080/"
        },
        "id": "Kx8TwXJ0np44",
        "outputId": "a84c9b30-1ddb-4e24-ef9e-13e2dfb0f5d1"
      },
      "source": [
        "# Dropping the duplicates.\n",
        "\n",
        "df_final.drop_duplicates(inplace=True)\n",
        "df_final.duplicated().sum()"
      ],
      "execution_count": 37,
      "outputs": [
        {
          "output_type": "execute_result",
          "data": {
            "text/plain": [
              "0"
            ]
          },
          "metadata": {},
          "execution_count": 37
        }
      ]
    },
    {
      "cell_type": "code",
      "metadata": {
        "colab": {
          "base_uri": "https://localhost:8080/",
          "height": 423
        },
        "id": "VDpCnua-xWLd",
        "outputId": "6fdf1c8b-4204-46ed-81fc-67cafdca3532"
      },
      "source": [
        "# We are going to use FTI and TSH as our classifying criteria. So we plot the two columns to see if we can apply svm on them\n",
        "# Plot two ingredients\n",
        "sns.lmplot('FTI', 'TSH', data=df_final, hue='status',\n",
        "           palette='Set1', fit_reg=False, scatter_kws={\"s\": 70});"
      ],
      "execution_count": 38,
      "outputs": [
        {
          "output_type": "stream",
          "name": "stderr",
          "text": [
            "/usr/local/lib/python3.7/dist-packages/seaborn/_decorators.py:43: FutureWarning: Pass the following variables as keyword args: x, y. From version 0.12, the only valid positional argument will be `data`, and passing other arguments without an explicit keyword will result in an error or misinterpretation.\n",
            "  FutureWarning\n"
          ]
        },
        {
          "output_type": "display_data",
          "data": {
            "image/png": "[encoded data removed]",
            "text/plain": [
              "<Figure size 402.375x360 with 1 Axes>"
            ]
          },
          "metadata": {
            "needs_background": "light"
          }
        }
      ]
    },
    {
      "cell_type": "markdown",
      "metadata": {
        "id": "lv8yzN7Ax_uI"
      },
      "source": [
        "From our graph we can see that using FTI and TSH as our main columns creates two groups. Red dots represent patients with hypothyroid and the blue dots represent patients without hypothyroid.  "
      ]
    },
    {
      "cell_type": "code",
      "metadata": {
        "colab": {
          "base_uri": "https://localhost:8080/",
          "height": 351
        },
        "id": "LIVYwS_GjQ4w",
        "outputId": "68879d23-ccac-4f9e-d678-d5a83fd5de83"
      },
      "source": [
        "# Checking for outliers\n",
        "\n",
        "import seaborn as sns\n",
        "import matplotlib.pyplot as plt\n",
        "plt.figure(figsize=(10,5))\n",
        "sns.boxplot(data=df_final, x='FTI')"
      ],
      "execution_count": 39,
      "outputs": [
        {
          "output_type": "execute_result",
          "data": {
            "text/plain": [
              "<matplotlib.axes._subplots.AxesSubplot at 0x7f310b80b5d0>"
            ]
          },
          "metadata": {},
          "execution_count": 39
        },
        {
          "output_type": "display_data",
          "data": {
            "image/png": "[encoded data removed]",
            "text/plain": [
              "<Figure size 720x360 with 1 Axes>"
            ]
          },
          "metadata": {
            "needs_background": "light"
          }
        }
      ]
    },
    {
      "cell_type": "code",
      "metadata": {
        "colab": {
          "base_uri": "https://localhost:8080/",
          "height": 351
        },
        "id": "qoj50n5YkJm9",
        "outputId": "45d5b196-3322-4bca-ee9d-9c6171cc98c6"
      },
      "source": [
        "plt.figure(figsize=(10,5))\n",
        "sns.boxplot(data=df_final,x='TSH')"
      ],
      "execution_count": 40,
      "outputs": [
        {
          "output_type": "execute_result",
          "data": {
            "text/plain": [
              "<matplotlib.axes._subplots.AxesSubplot at 0x7f310b70c990>"
            ]
          },
          "metadata": {},
          "execution_count": 40
        },
        {
          "output_type": "display_data",
          "data": {
            "image/png": "[encoded data removed]",
            "text/plain": [
              "<Figure size 720x360 with 1 Axes>"
            ]
          },
          "metadata": {
            "needs_background": "light"
          }
        }
      ]
    },
    {
      "cell_type": "markdown",
      "metadata": {
        "id": "BLmp8xs7pPJQ"
      },
      "source": [
        "A large proportion of our dataset has outliers. Removing the outliers will not be ideal in our scenario since we might not have enough data points for our classification and removing the data points might cause underfitting in our model. Plus, Support Vector Machines can deal with outliers by allowing misclassifications."
      ]
    },
    {
      "cell_type": "code",
      "metadata": {
        "id": "QUrbDojTpemc"
      },
      "source": [
        "# Importing our libraries.\n",
        "\n",
        "import seaborn as sns; sns.set(font_scale=1.2)\n",
        "from sklearn.svm import SVC\n",
        "from sklearn.decomposition import PCA"
      ],
      "execution_count": 41,
      "outputs": []
    },
    {
      "cell_type": "code",
      "metadata": {
        "id": "MjABbKxfqEWy"
      },
      "source": [
        "# Defining our independent and dependent variables.\n",
        "\n",
        "X=df_final[['TSH','FTI']]\n",
        "y=df_final['status']\n"
      ],
      "execution_count": 42,
      "outputs": []
    },
    {
      "cell_type": "code",
      "metadata": {
        "id": "SQmXUhTesjFR"
      },
      "source": [
        "# Creating our train and test sets.\n",
        "\n",
        "X_train,X_test,y_train,y_test=train_test_split(X,y,test_size=0.2, random_state=42)"
      ],
      "execution_count": 43,
      "outputs": []
    },
    {
      "cell_type": "code",
      "metadata": {
        "colab": {
          "base_uri": "https://localhost:8080/"
        },
        "id": "UcDp21AavviT",
        "outputId": "5114e1c9-a496-498d-8dcb-6e53d7e114a9"
      },
      "source": [
        "df_final.status.unique()"
      ],
      "execution_count": 44,
      "outputs": [
        {
          "output_type": "execute_result",
          "data": {
            "text/plain": [
              "array([0, 1])"
            ]
          },
          "metadata": {},
          "execution_count": 44
        }
      ]
    },
    {
      "cell_type": "code",
      "metadata": {
        "colab": {
          "base_uri": "https://localhost:8080/"
        },
        "id": "xP8ZFIems-we",
        "outputId": "43b3492c-c9af-49b6-baa3-6b7cac146bb8"
      },
      "source": [
        "# Defining the best parameters.\n",
        "import warnings\n",
        "warnings.filterwarnings('ignore')\n",
        "\n",
        "param_grid = {'C': [2**-5,2**-4,2**0],\n",
        "              'kernel': ['linear']}\n",
        "\n",
        "linear_grid = GridSearchCV(SVC(), param_grid, refit = True, verbose = 3)\n",
        " \n",
        "# fitting the model for grid search\n",
        "linear_grid.fit(X_train, y_train)"
      ],
      "execution_count": 45,
      "outputs": [
        {
          "output_type": "stream",
          "name": "stdout",
          "text": [
            "Fitting 3 folds for each of 3 candidates, totalling 9 fits\n",
            "[CV] C=0.03125, kernel=linear ........................................\n",
            "[CV]  C=0.03125, kernel=linear, score=0.9780755176613886, total=   0.0s\n",
            "[CV] C=0.03125, kernel=linear ........................................\n",
            "[CV]  C=0.03125, kernel=linear, score=0.9817073170731707, total=   0.0s\n",
            "[CV] C=0.03125, kernel=linear ........................................\n",
            "[CV]  C=0.03125, kernel=linear, score=0.9841463414634146, total=   0.0s\n",
            "[CV] C=0.0625, kernel=linear .........................................\n",
            "[CV]  C=0.0625, kernel=linear, score=0.9780755176613886, total=   0.0s\n",
            "[CV] C=0.0625, kernel=linear .........................................\n",
            "[CV]  C=0.0625, kernel=linear, score=0.9817073170731707, total=   0.0s\n",
            "[CV] C=0.0625, kernel=linear .........................................\n",
            "[CV]  C=0.0625, kernel=linear, score=0.9841463414634146, total=   0.0s\n",
            "[CV] C=1, kernel=linear ..............................................\n"
          ]
        },
        {
          "output_type": "stream",
          "name": "stderr",
          "text": [
            "[Parallel(n_jobs=1)]: Using backend SequentialBackend with 1 concurrent workers.\n",
            "[Parallel(n_jobs=1)]: Done   1 out of   1 | elapsed:    0.0s remaining:    0.0s\n",
            "[Parallel(n_jobs=1)]: Done   2 out of   2 | elapsed:    0.0s remaining:    0.0s\n"
          ]
        },
        {
          "output_type": "stream",
          "name": "stdout",
          "text": [
            "[CV] ..... C=1, kernel=linear, score=0.9780755176613886, total=   0.1s\n",
            "[CV] C=1, kernel=linear ..............................................\n",
            "[CV] ..... C=1, kernel=linear, score=0.9817073170731707, total=   0.1s\n",
            "[CV] C=1, kernel=linear ..............................................\n",
            "[CV] ..... C=1, kernel=linear, score=0.9841463414634146, total=   0.1s\n"
          ]
        },
        {
          "output_type": "stream",
          "name": "stderr",
          "text": [
            "[Parallel(n_jobs=1)]: Done   9 out of   9 | elapsed:    0.5s finished\n"
          ]
        },
        {
          "output_type": "execute_result",
          "data": {
            "text/plain": [
              "GridSearchCV(cv='warn', error_score='raise-deprecating',\n",
              "       estimator=SVC(C=1.0, cache_size=200, class_weight=None, coef0=0.0,\n",
              "  decision_function_shape='ovr', degree=3, gamma='auto_deprecated',\n",
              "  kernel='rbf', max_iter=-1, probability=False, random_state=None,\n",
              "  shrinking=True, tol=0.001, verbose=False),\n",
              "       fit_params=None, iid='warn', n_jobs=None,\n",
              "       param_grid={'C': [0.03125, 0.0625, 1], 'kernel': ['linear']},\n",
              "       pre_dispatch='2*n_jobs', refit=True, return_train_score='warn',\n",
              "       scoring=None, verbose=3)"
            ]
          },
          "metadata": {},
          "execution_count": 45
        }
      ]
    },
    {
      "cell_type": "code",
      "metadata": {
        "colab": {
          "base_uri": "https://localhost:8080/"
        },
        "id": "DLIWJzOBxb4L",
        "outputId": "1170ca54-cd25-43bf-8e83-e32494df6700"
      },
      "source": [
        "# Finding the best parameters.\n",
        "\n",
        "print(linear_grid.best_params_)"
      ],
      "execution_count": 46,
      "outputs": [
        {
          "output_type": "stream",
          "name": "stdout",
          "text": [
            "{'C': 0.03125, 'kernel': 'linear'}\n"
          ]
        }
      ]
    },
    {
      "cell_type": "code",
      "metadata": {
        "colab": {
          "base_uri": "https://localhost:8080/"
        },
        "id": "gkxmQmQ4xrdH",
        "outputId": "6bec47dd-7b56-48d5-e7d0-4c66b4486bce"
      },
      "source": [
        "# Our C parameter will help us decide how much we want to penalize misclassified points. A low C value prioritizes simplicity and with \n",
        "# our small C value form our grid search, we expect a lot of misclassifications since a small C parameter produces a soft margin.\n",
        "\n",
        "Linear=SVC(kernel='linear', C=0.03125)\n",
        "Linear.fit(X_train,y_train)"
      ],
      "execution_count": 47,
      "outputs": [
        {
          "output_type": "execute_result",
          "data": {
            "text/plain": [
              "SVC(C=0.03125, cache_size=200, class_weight=None, coef0=0.0,\n",
              "  decision_function_shape='ovr', degree=3, gamma='auto_deprecated',\n",
              "  kernel='linear', max_iter=-1, probability=False, random_state=None,\n",
              "  shrinking=True, tol=0.001, verbose=False)"
            ]
          },
          "metadata": {},
          "execution_count": 47
        }
      ]
    },
    {
      "cell_type": "code",
      "metadata": {
        "id": "A-t2v1BkyhY9",
        "colab": {
          "base_uri": "https://localhost:8080/"
        },
        "outputId": "0c7409ee-a428-47d0-a90f-9743f84f6872"
      },
      "source": [
        "y_pred=Linear.predict(X_test)\n",
        "y_pred"
      ],
      "execution_count": 48,
      "outputs": [
        {
          "output_type": "execute_result",
          "data": {
            "text/plain": [
              "array([0, 1, 1, 1, 1, 1, 1, 1, 1, 1, 1, 1, 1, 1, 1, 1, 1, 1, 1, 1, 1, 1,\n",
              "       1, 1, 1, 1, 1, 1, 1, 1, 1, 1, 1, 1, 1, 1, 1, 1, 1, 1, 1, 1, 1, 1,\n",
              "       1, 1, 1, 1, 1, 1, 1, 1, 1, 1, 1, 1, 0, 1, 0, 1, 1, 1, 1, 1, 1, 1,\n",
              "       1, 1, 1, 1, 1, 1, 1, 1, 1, 1, 1, 1, 1, 1, 1, 1, 1, 1, 1, 1, 1, 1,\n",
              "       1, 1, 1, 1, 1, 1, 1, 1, 1, 1, 1, 1, 1, 1, 1, 1, 1, 1, 1, 1, 1, 1,\n",
              "       1, 1, 1, 1, 1, 1, 1, 1, 1, 1, 1, 1, 1, 1, 1, 1, 1, 1, 0, 1, 1, 1,\n",
              "       1, 1, 1, 1, 0, 0, 1, 1, 1, 1, 1, 1, 1, 1, 1, 1, 1, 1, 1, 1, 1, 1,\n",
              "       1, 1, 1, 1, 1, 1, 1, 1, 1, 1, 1, 1, 1, 1, 1, 1, 1, 1, 1, 1, 1, 1,\n",
              "       1, 1, 1, 1, 1, 1, 1, 1, 1, 1, 1, 1, 0, 1, 1, 1, 1, 1, 1, 1, 1, 1,\n",
              "       1, 1, 1, 1, 1, 1, 1, 1, 1, 1, 1, 1, 1, 1, 1, 1, 1, 1, 1, 1, 1, 1,\n",
              "       1, 1, 1, 1, 1, 1, 1, 1, 1, 1, 1, 1, 1, 1, 1, 1, 1, 1, 1, 1, 1, 1,\n",
              "       1, 1, 0, 1, 1, 1, 1, 1, 1, 1, 1, 1, 1, 1, 1, 1, 1, 1, 1, 1, 1, 1,\n",
              "       1, 1, 1, 1, 1, 1, 0, 1, 1, 1, 1, 1, 1, 1, 1, 1, 1, 1, 1, 1, 1, 1,\n",
              "       1, 1, 1, 1, 1, 1, 1, 1, 1, 1, 1, 1, 1, 1, 1, 1, 1, 1, 1, 1, 1, 1,\n",
              "       1, 1, 1, 1, 1, 1, 1, 1, 1, 1, 1, 1, 1, 1, 1, 1, 1, 1, 1, 1, 1, 1,\n",
              "       1, 1, 1, 1, 1, 1, 1, 1, 1, 1, 1, 1, 1, 1, 1, 1, 1, 1, 1, 1, 1, 1,\n",
              "       1, 1, 1, 1, 1, 1, 1, 1, 1, 0, 1, 1, 1, 1, 1, 1, 1, 1, 1, 1, 1, 1,\n",
              "       1, 1, 1, 1, 1, 1, 1, 1, 1, 0, 1, 1, 1, 1, 1, 1, 1, 1, 1, 1, 1, 1,\n",
              "       1, 1, 1, 1, 1, 1, 1, 1, 1, 1, 1, 1, 1, 1, 1, 1, 1, 1, 1, 1, 1, 1,\n",
              "       1, 1, 1, 1, 1, 1, 1, 1, 1, 1, 1, 1, 1, 1, 1, 1, 1, 1, 1, 1, 1, 1,\n",
              "       1, 1, 1, 1, 1, 1, 1, 1, 1, 1, 1, 1, 1, 1, 1, 1, 1, 1, 1, 1, 1, 1,\n",
              "       1, 1, 1, 1, 1, 1, 1, 1, 1, 1, 1, 1, 1, 0, 1, 1, 1, 1, 0, 1, 1, 1,\n",
              "       1, 1, 1, 1, 1, 1, 1, 1, 1, 1, 1, 1, 1, 1, 1, 1, 1, 1, 1, 1, 1, 1,\n",
              "       1, 1, 1, 1, 1, 1, 1, 1, 1, 1, 1, 1, 1, 1, 1, 1, 1, 1, 0, 1, 1, 1,\n",
              "       1, 1, 1, 1, 1, 1, 1, 1, 1, 1, 1, 1, 1, 0, 1, 1, 1, 1, 1, 1, 1, 1,\n",
              "       0, 1, 1, 1, 1, 1, 1, 0, 0, 1, 1, 1, 1, 1, 1, 1, 1, 1, 1, 1, 1, 1,\n",
              "       1, 1, 1, 1, 1, 1, 1, 1, 1, 1, 1, 1, 1, 1, 1, 1, 1, 1, 1, 1, 1, 1,\n",
              "       1, 1, 1, 1, 1, 1, 1, 1, 1, 1, 1, 1, 1, 1, 1, 1, 1, 1, 1, 1, 1, 1])"
            ]
          },
          "metadata": {},
          "execution_count": 48
        }
      ]
    },
    {
      "cell_type": "code",
      "metadata": {
        "colab": {
          "base_uri": "https://localhost:8080/"
        },
        "id": "zoyL1JExz23y",
        "outputId": "2f092010-96eb-4cd1-add8-2964a2090a2e"
      },
      "source": [
        "print(accuracy_score(y_test,y_pred))\n",
        "print(confusion_matrix(y_test,y_pred))"
      ],
      "execution_count": 49,
      "outputs": [
        {
          "output_type": "stream",
          "name": "stdout",
          "text": [
            "0.9805194805194806\n",
            "[[ 18  12]\n",
            " [  0 586]]\n"
          ]
        }
      ]
    },
    {
      "cell_type": "markdown",
      "metadata": {
        "id": "ku1_CRY40UCV"
      },
      "source": [
        "Our Linear kernel an accuracy score of **98%**. Most of the data points have been correctly predicted while a few points have been incorrectly predicted."
      ]
    },
    {
      "cell_type": "markdown",
      "metadata": {
        "id": "liMxAeokDXBQ"
      },
      "source": [
        "**Polynomial kernel**"
      ]
    },
    {
      "cell_type": "code",
      "metadata": {
        "id": "JqQLCvKsDAU8",
        "colab": {
          "base_uri": "https://localhost:8080/"
        },
        "outputId": "75909246-b54f-4700-b293-88e3aeb37dd0"
      },
      "source": [
        "# Looking for the best parameters to use in our polymial kernel.\n",
        "\n",
        "param_grid = {'C': [0.01, 1.0],\n",
        "              'gamma': [0.01, 0.05],\n",
        "              'kernel': ['poly']}\n",
        "\n",
        "poly_grid = GridSearchCV(SVC(), param_grid, refit = True, verbose = 3)\n",
        " \n",
        "# Fitting the grid model to find the best parameters.\n",
        "poly_grid.fit(X_train, y_train)"
      ],
      "execution_count": 50,
      "outputs": [
        {
          "output_type": "stream",
          "name": "stdout",
          "text": [
            "Fitting 3 folds for each of 4 candidates, totalling 12 fits\n",
            "[CV] C=0.01, gamma=0.01, kernel=poly .................................\n"
          ]
        },
        {
          "output_type": "stream",
          "name": "stderr",
          "text": [
            "[Parallel(n_jobs=1)]: Using backend SequentialBackend with 1 concurrent workers.\n"
          ]
        },
        {
          "output_type": "stream",
          "name": "stdout",
          "text": [
            "[CV]  C=0.01, gamma=0.01, kernel=poly, score=0.976857490864799, total=   1.3s\n",
            "[CV] C=0.01, gamma=0.01, kernel=poly .................................\n"
          ]
        },
        {
          "output_type": "stream",
          "name": "stderr",
          "text": [
            "[Parallel(n_jobs=1)]: Done   1 out of   1 | elapsed:    1.3s remaining:    0.0s\n"
          ]
        },
        {
          "output_type": "stream",
          "name": "stdout",
          "text": [
            "[CV]  C=0.01, gamma=0.01, kernel=poly, score=0.9804878048780488, total=   4.7s\n",
            "[CV] C=0.01, gamma=0.01, kernel=poly .................................\n",
            "[CV]  C=0.01, gamma=0.01, kernel=poly, score=0.9829268292682927, total=   0.1s\n",
            "[CV] C=0.01, gamma=0.05, kernel=poly .................................\n"
          ]
        },
        {
          "output_type": "stream",
          "name": "stderr",
          "text": [
            "[Parallel(n_jobs=1)]: Done   2 out of   2 | elapsed:    6.0s remaining:    0.0s\n"
          ]
        },
        {
          "output_type": "stream",
          "name": "stdout",
          "text": [
            "[CV]  C=0.01, gamma=0.05, kernel=poly, score=0.976857490864799, total= 1.7min\n",
            "[CV] C=0.01, gamma=0.05, kernel=poly .................................\n",
            "[CV]  C=0.01, gamma=0.05, kernel=poly, score=0.9817073170731707, total=  25.0s\n",
            "[CV] C=0.01, gamma=0.05, kernel=poly .................................\n",
            "[CV]  C=0.01, gamma=0.05, kernel=poly, score=0.9829268292682927, total=   3.1s\n",
            "[CV] C=1.0, gamma=0.01, kernel=poly ..................................\n",
            "[CV]  C=1.0, gamma=0.01, kernel=poly, score=0.976857490864799, total=  36.6s\n",
            "[CV] C=1.0, gamma=0.01, kernel=poly ..................................\n",
            "[CV]  C=1.0, gamma=0.01, kernel=poly, score=0.9804878048780488, total= 1.1min\n",
            "[CV] C=1.0, gamma=0.01, kernel=poly ..................................\n",
            "[CV]  C=1.0, gamma=0.01, kernel=poly, score=0.9841463414634146, total=   1.3s\n",
            "[CV] C=1.0, gamma=0.05, kernel=poly ..................................\n",
            "[CV]  C=1.0, gamma=0.05, kernel=poly, score=0.9707673568818515, total=10.2min\n",
            "[CV] C=1.0, gamma=0.05, kernel=poly ..................................\n",
            "[CV]  C=1.0, gamma=0.05, kernel=poly, score=0.9780487804878049, total= 4.3min\n",
            "[CV] C=1.0, gamma=0.05, kernel=poly ..................................\n",
            "[CV]  C=1.0, gamma=0.05, kernel=poly, score=0.9804878048780488, total= 2.1min\n"
          ]
        },
        {
          "output_type": "stream",
          "name": "stderr",
          "text": [
            "[Parallel(n_jobs=1)]: Done  12 out of  12 | elapsed: 20.6min finished\n"
          ]
        },
        {
          "output_type": "execute_result",
          "data": {
            "text/plain": [
              "GridSearchCV(cv='warn', error_score='raise-deprecating',\n",
              "       estimator=SVC(C=1.0, cache_size=200, class_weight=None, coef0=0.0,\n",
              "  decision_function_shape='ovr', degree=3, gamma='auto_deprecated',\n",
              "  kernel='rbf', max_iter=-1, probability=False, random_state=None,\n",
              "  shrinking=True, tol=0.001, verbose=False),\n",
              "       fit_params=None, iid='warn', n_jobs=None,\n",
              "       param_grid={'C': [0.01, 1.0], 'gamma': [0.01, 0.05], 'kernel': ['poly']},\n",
              "       pre_dispatch='2*n_jobs', refit=True, return_train_score='warn',\n",
              "       scoring=None, verbose=3)"
            ]
          },
          "metadata": {},
          "execution_count": 50
        }
      ]
    },
    {
      "cell_type": "code",
      "metadata": {
        "id": "8gypHPeKE64I",
        "colab": {
          "base_uri": "https://localhost:8080/"
        },
        "outputId": "5b28ef2f-a6c5-4ec5-a7f7-3ebd49a903d1"
      },
      "source": [
        "# Finding the best parameters.\n",
        "\n",
        "print(poly_grid.best_params_)"
      ],
      "execution_count": 51,
      "outputs": [
        {
          "output_type": "stream",
          "name": "stdout",
          "text": [
            "{'C': 0.01, 'gamma': 0.05, 'kernel': 'poly'}\n"
          ]
        }
      ]
    },
    {
      "cell_type": "code",
      "metadata": {
        "id": "wf58xMwGE_6g",
        "colab": {
          "base_uri": "https://localhost:8080/"
        },
        "outputId": "e45a3577-7ba5-4759-fcff-e842234b9fac"
      },
      "source": [
        "# Building the polynomial model.\n",
        "polyclassifier = SVC(kernel='poly',degree=2,gamma=0.05,C=0.01)\n",
        "\n",
        "# Fitting the polynomial model in our train sets.\n",
        "polyclassifier.fit(X_train, y_train)"
      ],
      "execution_count": 52,
      "outputs": [
        {
          "output_type": "execute_result",
          "data": {
            "text/plain": [
              "SVC(C=0.01, cache_size=200, class_weight=None, coef0=0.0,\n",
              "  decision_function_shape='ovr', degree=2, gamma=0.05, kernel='poly',\n",
              "  max_iter=-1, probability=False, random_state=None, shrinking=True,\n",
              "  tol=0.001, verbose=False)"
            ]
          },
          "metadata": {},
          "execution_count": 52
        }
      ]
    },
    {
      "cell_type": "code",
      "metadata": {
        "colab": {
          "base_uri": "https://localhost:8080/"
        },
        "id": "GRY_JvTK6NyF",
        "outputId": "14d9f143-76ce-4508-e5e3-e54ad7207bbe"
      },
      "source": [
        "y_pred=polyclassifier.predict(X_test)\n",
        "y_pred"
      ],
      "execution_count": 54,
      "outputs": [
        {
          "output_type": "execute_result",
          "data": {
            "text/plain": [
              "array([0, 1, 1, 1, 1, 1, 1, 1, 1, 1, 1, 1, 1, 1, 1, 1, 1, 1, 1, 1, 1, 1,\n",
              "       1, 1, 1, 1, 1, 1, 1, 1, 1, 1, 1, 1, 1, 1, 1, 1, 1, 1, 1, 1, 1, 1,\n",
              "       1, 1, 1, 1, 1, 1, 1, 1, 1, 1, 1, 1, 0, 1, 0, 1, 1, 1, 1, 1, 1, 1,\n",
              "       1, 1, 1, 1, 1, 1, 1, 1, 1, 1, 1, 1, 1, 1, 1, 1, 1, 1, 1, 1, 1, 1,\n",
              "       1, 1, 1, 1, 1, 1, 1, 1, 1, 1, 1, 1, 1, 1, 1, 1, 1, 1, 1, 1, 1, 1,\n",
              "       1, 1, 0, 1, 1, 1, 1, 1, 1, 1, 1, 1, 1, 1, 1, 1, 1, 1, 0, 1, 1, 1,\n",
              "       1, 1, 1, 1, 0, 0, 1, 1, 1, 1, 1, 1, 1, 1, 1, 1, 1, 1, 1, 1, 1, 1,\n",
              "       1, 1, 1, 0, 1, 1, 1, 1, 1, 1, 1, 1, 1, 1, 1, 1, 1, 1, 1, 1, 1, 1,\n",
              "       1, 1, 1, 1, 1, 1, 1, 1, 1, 1, 1, 1, 0, 1, 1, 1, 1, 1, 1, 1, 1, 1,\n",
              "       1, 1, 1, 1, 1, 1, 1, 1, 1, 1, 1, 1, 1, 1, 1, 1, 1, 1, 1, 1, 1, 1,\n",
              "       1, 1, 1, 1, 1, 1, 1, 1, 1, 1, 1, 1, 1, 1, 1, 1, 1, 1, 1, 1, 1, 1,\n",
              "       1, 1, 0, 1, 1, 1, 1, 1, 1, 1, 1, 1, 1, 1, 1, 1, 1, 0, 1, 1, 1, 1,\n",
              "       1, 1, 1, 1, 1, 1, 0, 1, 1, 1, 1, 1, 1, 1, 1, 1, 1, 1, 1, 1, 1, 1,\n",
              "       1, 1, 1, 1, 1, 1, 1, 1, 1, 1, 1, 1, 1, 1, 1, 1, 1, 1, 1, 1, 1, 1,\n",
              "       1, 1, 1, 1, 1, 1, 1, 1, 1, 1, 1, 1, 1, 1, 1, 1, 1, 1, 1, 1, 1, 1,\n",
              "       1, 1, 1, 1, 1, 1, 1, 1, 1, 1, 1, 1, 1, 1, 1, 1, 1, 1, 1, 1, 1, 1,\n",
              "       1, 1, 1, 1, 1, 1, 1, 1, 1, 0, 1, 1, 1, 1, 1, 1, 1, 1, 1, 1, 1, 1,\n",
              "       1, 1, 1, 1, 1, 1, 1, 1, 1, 0, 1, 1, 1, 1, 1, 1, 1, 1, 1, 1, 1, 1,\n",
              "       1, 1, 1, 1, 1, 1, 1, 1, 1, 1, 1, 1, 1, 1, 1, 1, 1, 1, 1, 1, 1, 1,\n",
              "       1, 1, 1, 1, 1, 1, 1, 1, 1, 1, 1, 1, 1, 1, 1, 1, 1, 1, 0, 1, 1, 1,\n",
              "       1, 1, 1, 1, 1, 1, 1, 1, 1, 1, 1, 1, 1, 1, 1, 1, 1, 1, 1, 1, 1, 1,\n",
              "       1, 1, 1, 1, 1, 1, 1, 1, 1, 1, 1, 1, 1, 0, 1, 1, 1, 1, 0, 1, 1, 1,\n",
              "       1, 1, 1, 1, 1, 1, 1, 1, 1, 1, 1, 1, 1, 1, 1, 1, 1, 1, 1, 1, 1, 1,\n",
              "       1, 1, 1, 1, 1, 1, 1, 1, 1, 1, 1, 1, 1, 1, 1, 1, 1, 1, 0, 1, 1, 1,\n",
              "       1, 1, 1, 1, 1, 1, 1, 1, 1, 1, 1, 1, 1, 0, 1, 1, 1, 1, 1, 1, 1, 1,\n",
              "       0, 1, 1, 1, 1, 1, 1, 0, 0, 1, 1, 1, 1, 1, 1, 1, 1, 1, 1, 1, 1, 1,\n",
              "       1, 1, 1, 1, 1, 1, 1, 1, 1, 1, 1, 1, 1, 1, 1, 1, 1, 1, 1, 1, 1, 1,\n",
              "       1, 1, 1, 1, 1, 1, 1, 1, 1, 1, 1, 1, 1, 1, 1, 1, 1, 1, 1, 1, 1, 1])"
            ]
          },
          "metadata": {},
          "execution_count": 54
        }
      ]
    },
    {
      "cell_type": "code",
      "metadata": {
        "colab": {
          "base_uri": "https://localhost:8080/"
        },
        "id": "4fn1qb9RFc2_",
        "outputId": "1e1d5bd6-7185-48ac-843a-ed5699a47343"
      },
      "source": [
        "print(accuracy_score(y_test,y_pred))\n",
        "print(confusion_matrix(y_test,y_pred))"
      ],
      "execution_count": 57,
      "outputs": [
        {
          "output_type": "stream",
          "name": "stdout",
          "text": [
            "0.9837662337662337\n",
            "[[ 21   9]\n",
            " [  1 585]]\n"
          ]
        }
      ]
    },
    {
      "cell_type": "markdown",
      "metadata": {
        "id": "dEql29GmFquD"
      },
      "source": [
        "Our polynomial kernel has an accuracy score of about **98.4%** and looking at our confusion matrix, most of the data points have been correctly classified."
      ]
    },
    {
      "cell_type": "markdown",
      "metadata": {
        "id": "1djoCuCmFEK8"
      },
      "source": [
        "**RBF kernel**"
      ]
    },
    {
      "cell_type": "code",
      "metadata": {
        "id": "ce7uPM1X_JzL"
      },
      "source": [
        "X=df_final[['TSH','FTI']]\n",
        "y=df_final['status']\n",
        "\n",
        "\n",
        "# Creating our train and test sets.\n",
        "\n",
        "X_train,X_test,y_train,y_test=train_test_split(X,y,test_size=0.2, random_state=42)"
      ],
      "execution_count": 58,
      "outputs": []
    },
    {
      "cell_type": "code",
      "metadata": {
        "id": "2pbOcNJkFIVE",
        "colab": {
          "base_uri": "https://localhost:8080/"
        },
        "outputId": "06f20500-633e-40ad-c87d-5b4cd6b6c01a"
      },
      "source": [
        "param_grid = {'C': [0.001, 0.1 ,1,5],\n",
        "              'gamma': [0.01, 0.05],\n",
        "              'kernel': ['rbf']}\n",
        "\n",
        "rbf_grid = GridSearchCV(SVC(), param_grid, refit = True, verbose = 3)\n",
        " \n",
        "# fitting the model for grid search\n",
        "rbf_grid.fit(X_train, y_train)"
      ],
      "execution_count": 59,
      "outputs": [
        {
          "output_type": "stream",
          "name": "stdout",
          "text": [
            "Fitting 3 folds for each of 8 candidates, totalling 24 fits\n",
            "[CV] C=0.001, gamma=0.01, kernel=rbf .................................\n",
            "[CV]  C=0.001, gamma=0.01, kernel=rbf, score=0.9549330085261876, total=   0.0s\n",
            "[CV] C=0.001, gamma=0.01, kernel=rbf .................................\n",
            "[CV]  C=0.001, gamma=0.01, kernel=rbf, score=0.9548780487804878, total=   0.0s\n",
            "[CV] C=0.001, gamma=0.01, kernel=rbf .................................\n",
            "[CV]  C=0.001, gamma=0.01, kernel=rbf, score=0.9548780487804878, total=   0.0s\n",
            "[CV] C=0.001, gamma=0.05, kernel=rbf .................................\n",
            "[CV]  C=0.001, gamma=0.05, kernel=rbf, score=0.9549330085261876, total=   0.0s\n",
            "[CV] C=0.001, gamma=0.05, kernel=rbf .................................\n",
            "[CV]  C=0.001, gamma=0.05, kernel=rbf, score=0.9548780487804878, total=   0.0s\n",
            "[CV] C=0.001, gamma=0.05, kernel=rbf .................................\n",
            "[CV]  C=0.001, gamma=0.05, kernel=rbf, score=0.9548780487804878, total=   0.0s\n",
            "[CV] C=0.1, gamma=0.01, kernel=rbf ...................................\n"
          ]
        },
        {
          "output_type": "stream",
          "name": "stderr",
          "text": [
            "[Parallel(n_jobs=1)]: Using backend SequentialBackend with 1 concurrent workers.\n",
            "[Parallel(n_jobs=1)]: Done   1 out of   1 | elapsed:    0.0s remaining:    0.0s\n",
            "[Parallel(n_jobs=1)]: Done   2 out of   2 | elapsed:    0.1s remaining:    0.0s\n"
          ]
        },
        {
          "output_type": "stream",
          "name": "stdout",
          "text": [
            "[CV]  C=0.1, gamma=0.01, kernel=rbf, score=0.9549330085261876, total=   0.0s\n",
            "[CV] C=0.1, gamma=0.01, kernel=rbf ...................................\n",
            "[CV]  C=0.1, gamma=0.01, kernel=rbf, score=0.9548780487804878, total=   0.0s\n",
            "[CV] C=0.1, gamma=0.01, kernel=rbf ...................................\n",
            "[CV]  C=0.1, gamma=0.01, kernel=rbf, score=0.9548780487804878, total=   0.0s\n",
            "[CV] C=0.1, gamma=0.05, kernel=rbf ...................................\n",
            "[CV]  C=0.1, gamma=0.05, kernel=rbf, score=0.9549330085261876, total=   0.0s\n",
            "[CV] C=0.1, gamma=0.05, kernel=rbf ...................................\n",
            "[CV]  C=0.1, gamma=0.05, kernel=rbf, score=0.9548780487804878, total=   0.0s\n",
            "[CV] C=0.1, gamma=0.05, kernel=rbf ...................................\n",
            "[CV]  C=0.1, gamma=0.05, kernel=rbf, score=0.9548780487804878, total=   0.0s\n",
            "[CV] C=1, gamma=0.01, kernel=rbf .....................................\n",
            "[CV]  C=1, gamma=0.01, kernel=rbf, score=0.9829476248477467, total=   0.0s\n",
            "[CV] C=1, gamma=0.01, kernel=rbf .....................................\n",
            "[CV]  C=1, gamma=0.01, kernel=rbf, score=0.9780487804878049, total=   0.0s\n",
            "[CV] C=1, gamma=0.01, kernel=rbf .....................................\n",
            "[CV]  C=1, gamma=0.01, kernel=rbf, score=0.9792682926829268, total=   0.0s\n",
            "[CV] C=1, gamma=0.05, kernel=rbf .....................................\n",
            "[CV]  C=1, gamma=0.05, kernel=rbf, score=0.9683313032886723, total=   0.1s\n",
            "[CV] C=1, gamma=0.05, kernel=rbf .....................................\n",
            "[CV]  C=1, gamma=0.05, kernel=rbf, score=0.9658536585365853, total=   0.1s\n",
            "[CV] C=1, gamma=0.05, kernel=rbf .....................................\n",
            "[CV]  C=1, gamma=0.05, kernel=rbf, score=0.9707317073170731, total=   0.0s\n",
            "[CV] C=5, gamma=0.01, kernel=rbf .....................................\n",
            "[CV]  C=5, gamma=0.01, kernel=rbf, score=0.9817295980511571, total=   0.0s\n",
            "[CV] C=5, gamma=0.01, kernel=rbf .....................................\n",
            "[CV]  C=5, gamma=0.01, kernel=rbf, score=0.975609756097561, total=   0.0s\n",
            "[CV] C=5, gamma=0.01, kernel=rbf .....................................\n",
            "[CV]  C=5, gamma=0.01, kernel=rbf, score=0.9829268292682927, total=   0.0s\n",
            "[CV] C=5, gamma=0.05, kernel=rbf .....................................\n",
            "[CV]  C=5, gamma=0.05, kernel=rbf, score=0.9695493300852619, total=   0.1s\n",
            "[CV] C=5, gamma=0.05, kernel=rbf .....................................\n",
            "[CV]  C=5, gamma=0.05, kernel=rbf, score=0.9658536585365853, total=   0.1s\n",
            "[CV] C=5, gamma=0.05, kernel=rbf .....................................\n",
            "[CV]  C=5, gamma=0.05, kernel=rbf, score=0.9707317073170731, total=   0.1s\n"
          ]
        },
        {
          "output_type": "stream",
          "name": "stderr",
          "text": [
            "[Parallel(n_jobs=1)]: Done  24 out of  24 | elapsed:    1.1s finished\n"
          ]
        },
        {
          "output_type": "execute_result",
          "data": {
            "text/plain": [
              "GridSearchCV(cv='warn', error_score='raise-deprecating',\n",
              "       estimator=SVC(C=1.0, cache_size=200, class_weight=None, coef0=0.0,\n",
              "  decision_function_shape='ovr', degree=3, gamma='auto_deprecated',\n",
              "  kernel='rbf', max_iter=-1, probability=False, random_state=None,\n",
              "  shrinking=True, tol=0.001, verbose=False),\n",
              "       fit_params=None, iid='warn', n_jobs=None,\n",
              "       param_grid={'C': [0.001, 0.1, 1, 5], 'gamma': [0.01, 0.05], 'kernel': ['rbf']},\n",
              "       pre_dispatch='2*n_jobs', refit=True, return_train_score='warn',\n",
              "       scoring=None, verbose=3)"
            ]
          },
          "metadata": {},
          "execution_count": 59
        }
      ]
    },
    {
      "cell_type": "code",
      "metadata": {
        "id": "MxhCLj83FcGJ",
        "colab": {
          "base_uri": "https://localhost:8080/"
        },
        "outputId": "ed4cebfd-4d5c-4394-aefd-6243e7d280f3"
      },
      "source": [
        "print(rbf_grid.best_params_)"
      ],
      "execution_count": 60,
      "outputs": [
        {
          "output_type": "stream",
          "name": "stdout",
          "text": [
            "{'C': 1, 'gamma': 0.01, 'kernel': 'rbf'}\n"
          ]
        }
      ]
    },
    {
      "cell_type": "code",
      "metadata": {
        "colab": {
          "base_uri": "https://localhost:8080/"
        },
        "id": "jpt4fyLm6VP8",
        "outputId": "5753f849-4921-4134-c7ed-66dd9f14bf43"
      },
      "source": [
        "# Building the model \n",
        "rbfclassifier = SVC(kernel='rbf', gamma=0.01, C=1)\n",
        "\n",
        "# Training the model using the training set\n",
        "rbfclassifier.fit(X_train, y_train)"
      ],
      "execution_count": 61,
      "outputs": [
        {
          "output_type": "execute_result",
          "data": {
            "text/plain": [
              "SVC(C=1, cache_size=200, class_weight=None, coef0=0.0,\n",
              "  decision_function_shape='ovr', degree=3, gamma=0.01, kernel='rbf',\n",
              "  max_iter=-1, probability=False, random_state=None, shrinking=True,\n",
              "  tol=0.001, verbose=False)"
            ]
          },
          "metadata": {},
          "execution_count": 61
        }
      ]
    },
    {
      "cell_type": "code",
      "metadata": {
        "colab": {
          "base_uri": "https://localhost:8080/"
        },
        "id": "_KzVX0kD6iC7",
        "outputId": "7b057bf6-7fa9-4aa0-8e09-024e417fc6f8"
      },
      "source": [
        "y_pred=rbfclassifier.predict(X_test)\n",
        "y_pred"
      ],
      "execution_count": 62,
      "outputs": [
        {
          "output_type": "execute_result",
          "data": {
            "text/plain": [
              "array([0, 1, 1, 1, 1, 1, 1, 1, 1, 1, 1, 1, 1, 1, 1, 1, 1, 1, 1, 1, 1, 1,\n",
              "       1, 1, 1, 1, 1, 1, 1, 1, 1, 1, 1, 1, 1, 1, 1, 1, 1, 1, 1, 1, 1, 1,\n",
              "       1, 1, 1, 0, 1, 1, 1, 1, 1, 1, 1, 1, 0, 1, 0, 1, 1, 0, 1, 1, 1, 1,\n",
              "       1, 1, 1, 1, 1, 1, 1, 1, 1, 1, 1, 1, 1, 1, 1, 1, 1, 1, 1, 1, 1, 1,\n",
              "       1, 1, 1, 1, 1, 1, 1, 1, 1, 1, 1, 1, 1, 1, 1, 1, 1, 1, 1, 1, 1, 1,\n",
              "       1, 1, 0, 1, 1, 1, 1, 1, 1, 1, 1, 1, 1, 1, 1, 1, 1, 1, 0, 1, 1, 1,\n",
              "       1, 1, 0, 1, 0, 0, 1, 1, 1, 1, 1, 1, 1, 1, 1, 1, 1, 1, 1, 1, 1, 1,\n",
              "       1, 1, 1, 0, 1, 1, 1, 1, 1, 1, 1, 1, 1, 1, 1, 1, 1, 1, 1, 1, 1, 1,\n",
              "       1, 1, 1, 1, 1, 1, 1, 1, 1, 1, 1, 1, 0, 1, 1, 1, 1, 1, 1, 1, 1, 1,\n",
              "       1, 1, 1, 1, 1, 1, 1, 1, 1, 1, 1, 1, 1, 1, 1, 1, 1, 1, 1, 1, 1, 1,\n",
              "       1, 1, 1, 1, 1, 1, 1, 1, 1, 1, 1, 1, 1, 1, 1, 1, 1, 1, 1, 1, 1, 1,\n",
              "       1, 1, 0, 1, 1, 1, 1, 1, 1, 1, 1, 1, 1, 1, 1, 1, 1, 0, 1, 1, 1, 1,\n",
              "       1, 1, 1, 1, 1, 1, 1, 1, 1, 1, 1, 1, 1, 1, 1, 1, 1, 1, 1, 1, 1, 0,\n",
              "       1, 1, 1, 1, 1, 1, 1, 1, 1, 1, 1, 1, 1, 1, 1, 1, 1, 1, 1, 1, 1, 1,\n",
              "       1, 1, 1, 1, 1, 1, 1, 1, 1, 1, 1, 1, 1, 1, 1, 1, 1, 1, 1, 1, 1, 1,\n",
              "       1, 1, 1, 1, 1, 1, 1, 1, 1, 1, 1, 1, 1, 1, 1, 1, 1, 1, 1, 1, 1, 1,\n",
              "       1, 1, 1, 1, 1, 1, 1, 1, 1, 0, 1, 1, 1, 1, 1, 1, 1, 1, 1, 1, 1, 1,\n",
              "       1, 1, 1, 1, 1, 1, 1, 1, 1, 0, 1, 1, 1, 1, 1, 1, 1, 1, 1, 1, 1, 1,\n",
              "       1, 1, 1, 1, 1, 1, 1, 1, 1, 1, 1, 1, 1, 1, 1, 1, 1, 1, 1, 1, 1, 1,\n",
              "       1, 1, 1, 1, 1, 1, 1, 1, 1, 1, 1, 1, 1, 1, 1, 1, 1, 1, 1, 1, 1, 1,\n",
              "       1, 1, 1, 1, 1, 1, 1, 0, 1, 1, 1, 1, 1, 1, 1, 1, 1, 1, 1, 1, 1, 1,\n",
              "       1, 1, 1, 1, 1, 1, 1, 1, 1, 1, 1, 1, 1, 0, 1, 1, 1, 1, 0, 1, 1, 1,\n",
              "       1, 1, 1, 1, 1, 1, 1, 1, 1, 1, 1, 1, 1, 1, 1, 1, 1, 1, 1, 1, 1, 1,\n",
              "       1, 1, 1, 1, 1, 1, 1, 1, 1, 1, 1, 1, 1, 1, 1, 1, 1, 1, 1, 1, 1, 1,\n",
              "       1, 1, 1, 1, 1, 1, 1, 1, 1, 1, 1, 1, 1, 1, 1, 1, 1, 1, 1, 1, 1, 1,\n",
              "       0, 1, 1, 1, 1, 1, 1, 0, 0, 1, 1, 1, 1, 1, 1, 1, 1, 1, 1, 1, 1, 1,\n",
              "       1, 1, 1, 1, 1, 1, 1, 1, 1, 1, 1, 1, 1, 1, 1, 1, 1, 1, 1, 1, 1, 1,\n",
              "       1, 1, 1, 1, 1, 1, 1, 1, 1, 1, 1, 1, 1, 1, 1, 1, 1, 1, 1, 1, 1, 1])"
            ]
          },
          "metadata": {},
          "execution_count": 62
        }
      ]
    },
    {
      "cell_type": "code",
      "metadata": {
        "colab": {
          "base_uri": "https://localhost:8080/"
        },
        "id": "IxFs1aj06Ev-",
        "outputId": "a20b9f59-6f7a-4ba7-ff7f-d5454a5069ea"
      },
      "source": [
        "print(accuracy_score(y_test,y_pred))\n",
        "print(confusion_matrix(y_test,y_pred))"
      ],
      "execution_count": 63,
      "outputs": [
        {
          "output_type": "stream",
          "name": "stdout",
          "text": [
            "0.9853896103896104\n",
            "[[ 22   8]\n",
            " [  1 585]]\n"
          ]
        }
      ]
    },
    {
      "cell_type": "markdown",
      "metadata": {
        "id": "GsZAciGs6Rq-"
      },
      "source": [
        "Our RBF kernel has a high accuracy score of **98.5%** and majority of our data points have been correctly classified while a few have been incorrectly classified."
      ]
    },
    {
      "cell_type": "markdown",
      "metadata": {
        "id": "D6xjOsya-Kbx"
      },
      "source": [
        "We are now going to use the best kernel to make our predictions using all the variables and compare the results with using the two major variables. Our rbf kernel has the highest accuracy score. We are therefor going to use this kernel."
      ]
    },
    {
      "cell_type": "code",
      "metadata": {
        "id": "yDATM4qr-J70"
      },
      "source": [
        "X=df_final.drop('status',axis=1)\n",
        "y=df_final['status']\n",
        "\n",
        "X_train,X_test, y_train,y_test=train_test_split(X,y, test_size=.2, random_state=42)"
      ],
      "execution_count": 64,
      "outputs": []
    },
    {
      "cell_type": "code",
      "metadata": {
        "colab": {
          "base_uri": "https://localhost:8080/"
        },
        "id": "U04sA9r2GUkB",
        "outputId": "9177b6f8-4b16-4b6e-e794-ebc6db6c7d1c"
      },
      "source": [
        "# Building the model \n",
        "rbfclassifier = SVC(kernel='rbf', gamma=0.01, C=1)\n",
        "\n",
        "# Training the model using the training set\n",
        "rbfclassifier.fit(X_train, y_train)"
      ],
      "execution_count": 65,
      "outputs": [
        {
          "output_type": "execute_result",
          "data": {
            "text/plain": [
              "SVC(C=1, cache_size=200, class_weight=None, coef0=0.0,\n",
              "  decision_function_shape='ovr', degree=3, gamma=0.01, kernel='rbf',\n",
              "  max_iter=-1, probability=False, random_state=None, shrinking=True,\n",
              "  tol=0.001, verbose=False)"
            ]
          },
          "metadata": {},
          "execution_count": 65
        }
      ]
    },
    {
      "cell_type": "code",
      "metadata": {
        "colab": {
          "base_uri": "https://localhost:8080/"
        },
        "id": "XrzgXu7KGknq",
        "outputId": "c78fa015-af78-4bd8-dab2-7619e24fe407"
      },
      "source": [
        "y_pred=rbfclassifier.predict(X_test)\n",
        "y_pred"
      ],
      "execution_count": 66,
      "outputs": [
        {
          "output_type": "execute_result",
          "data": {
            "text/plain": [
              "array([1, 1, 1, 1, 1, 1, 1, 1, 1, 1, 1, 1, 1, 1, 1, 1, 1, 1, 1, 1, 1, 1,\n",
              "       1, 1, 1, 1, 1, 1, 1, 1, 1, 1, 1, 1, 1, 1, 1, 1, 1, 1, 1, 1, 1, 1,\n",
              "       1, 1, 1, 0, 1, 1, 1, 1, 1, 1, 1, 1, 1, 1, 1, 1, 1, 1, 1, 1, 1, 1,\n",
              "       1, 1, 1, 1, 1, 1, 1, 1, 1, 1, 1, 1, 1, 1, 1, 1, 1, 1, 1, 1, 1, 1,\n",
              "       1, 1, 1, 1, 1, 1, 1, 1, 1, 1, 1, 1, 1, 1, 1, 1, 1, 1, 1, 1, 1, 1,\n",
              "       1, 1, 0, 1, 1, 1, 1, 1, 1, 1, 1, 1, 1, 1, 1, 1, 1, 1, 1, 1, 1, 1,\n",
              "       1, 1, 1, 1, 1, 1, 1, 1, 1, 1, 1, 1, 1, 1, 1, 1, 1, 1, 1, 1, 1, 1,\n",
              "       1, 1, 1, 1, 1, 1, 1, 1, 1, 1, 1, 1, 1, 1, 1, 1, 1, 1, 1, 1, 1, 1,\n",
              "       1, 1, 1, 1, 1, 1, 1, 1, 1, 1, 1, 1, 1, 1, 1, 1, 1, 1, 1, 1, 1, 1,\n",
              "       1, 1, 1, 1, 1, 1, 1, 1, 1, 1, 1, 1, 1, 1, 1, 1, 1, 1, 1, 1, 1, 1,\n",
              "       1, 1, 1, 1, 1, 1, 1, 1, 1, 1, 1, 1, 1, 1, 1, 1, 1, 1, 1, 1, 1, 1,\n",
              "       1, 1, 0, 1, 1, 1, 1, 1, 1, 1, 1, 0, 1, 1, 1, 1, 1, 1, 1, 1, 1, 1,\n",
              "       1, 1, 1, 1, 1, 1, 1, 1, 1, 1, 1, 1, 1, 1, 1, 1, 1, 1, 1, 1, 1, 0,\n",
              "       1, 1, 1, 1, 1, 1, 1, 1, 1, 1, 1, 1, 1, 1, 1, 1, 1, 1, 1, 1, 1, 1,\n",
              "       1, 1, 1, 1, 1, 1, 1, 1, 1, 1, 1, 1, 1, 1, 1, 1, 1, 1, 1, 1, 1, 1,\n",
              "       1, 1, 1, 1, 1, 1, 1, 1, 1, 1, 1, 1, 1, 1, 1, 1, 1, 1, 1, 1, 1, 1,\n",
              "       1, 1, 1, 1, 1, 1, 1, 1, 1, 0, 1, 1, 1, 1, 1, 1, 1, 1, 1, 1, 1, 1,\n",
              "       1, 1, 1, 1, 1, 1, 1, 1, 1, 1, 1, 1, 1, 1, 1, 1, 1, 1, 1, 1, 1, 1,\n",
              "       1, 1, 1, 1, 1, 1, 1, 1, 1, 1, 1, 1, 1, 1, 1, 1, 1, 1, 1, 1, 1, 1,\n",
              "       1, 1, 1, 1, 1, 1, 1, 1, 1, 1, 1, 1, 1, 1, 1, 1, 1, 1, 1, 1, 1, 1,\n",
              "       1, 1, 1, 1, 1, 1, 1, 0, 1, 1, 1, 1, 1, 1, 1, 1, 1, 1, 1, 1, 1, 1,\n",
              "       1, 1, 1, 1, 1, 1, 1, 1, 1, 1, 1, 1, 1, 1, 1, 1, 1, 1, 1, 1, 1, 1,\n",
              "       1, 1, 1, 1, 1, 1, 1, 1, 1, 1, 1, 1, 1, 1, 1, 1, 1, 1, 1, 1, 1, 1,\n",
              "       1, 1, 1, 1, 1, 1, 1, 1, 1, 1, 1, 1, 1, 1, 1, 1, 1, 1, 1, 1, 1, 1,\n",
              "       1, 1, 1, 1, 1, 1, 1, 1, 1, 1, 1, 1, 1, 1, 1, 1, 1, 1, 1, 1, 1, 1,\n",
              "       1, 1, 1, 1, 1, 1, 1, 0, 1, 1, 1, 1, 1, 1, 1, 1, 1, 1, 1, 1, 1, 1,\n",
              "       1, 1, 1, 1, 1, 1, 1, 1, 1, 1, 1, 1, 1, 1, 1, 1, 1, 1, 1, 1, 1, 1,\n",
              "       1, 1, 1, 1, 1, 1, 1, 1, 1, 1, 1, 1, 1, 1, 1, 1, 1, 1, 1, 1, 1, 1])"
            ]
          },
          "metadata": {},
          "execution_count": 66
        }
      ]
    },
    {
      "cell_type": "code",
      "metadata": {
        "colab": {
          "base_uri": "https://localhost:8080/"
        },
        "id": "Wh5yxfkOGua-",
        "outputId": "8203935e-d85a-4de3-ea2c-bda25d853fd8"
      },
      "source": [
        "print(accuracy_score(y_test,y_pred))\n",
        "print(confusion_matrix(y_test,y_pred))"
      ],
      "execution_count": 67,
      "outputs": [
        {
          "output_type": "stream",
          "name": "stdout",
          "text": [
            "0.9577922077922078\n",
            "[[  6  24]\n",
            " [  2 584]]\n"
          ]
        }
      ]
    },
    {
      "cell_type": "markdown",
      "metadata": {
        "id": "M8zRmAxsG6Ly"
      },
      "source": [
        "Using all the variables in our rbf kernel, the accuracy score drops to about **95.8%**. That is about a **2.7%** drop from our rbf kernel with 2 features. There are more incorrect predictions using more features than when using 2 features."
      ]
    },
    {
      "cell_type": "markdown",
      "metadata": {
        "id": "ai_23fg2HrtM"
      },
      "source": [
        "**CONCLUSION**\n",
        "\n",
        "Even though using more variables leads to a lower accuracy score than when using the 2 key features, If we intend on picking the best model, we should would go with the **95.7%** accurate model. Using 2 features, our model is nearly **100%** accurate and this tends to overfit our model to the training data. It will not be able to perform well in predicting new data. The model with more variables still has a really high accuracy score, but in this case it will be the best one to go with since it has more bias than the **98.5%** model. It will perform slightly better on unseen data than the model with the higher accuracy."
      ]
    }
  ]
}
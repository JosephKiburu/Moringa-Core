{
  "nbformat": 4,
  "nbformat_minor": 0,
  "metadata": {
    "colab": {
      "name": "WEEK 2 IP",
      "provenance": [],
      "collapsed_sections": [],
      "authorship_tag": "ABX9TyMwq0mI1Iv2/CASZPiu5Xq8",
      "include_colab_link": true
    },
    "kernelspec": {
      "name": "python3",
      "display_name": "Python 3"
    },
    "language_info": {
      "name": "python"
    }
  },
  "cells": [
    {
      "cell_type": "markdown",
      "metadata": {
        "id": "view-in-github",
        "colab_type": "text"
      },
      "source": [
        "<a href=\"https://colab.research.google.com/github/JosephKiburu/Moringa-Core/blob/main/WEEK_2_IP.ipynb\" target=\"_parent\"><img src=\"https://colab.research.google.com/assets/colab-badge.svg\" alt=\"Open In Colab\"/></a>"
      ]
    },
    {
      "cell_type": "code",
      "metadata": {
        "id": "No8n_Pl8TNot"
      },
      "source": [
        "# loading our libraries\n",
        "\n",
        "import pandas as pd\n",
        "import numpy as np\n",
        "import seaborn as sns\n",
        "sns.set_style()\n",
        "import matplotlib.pyplot as plt\n",
        "% matplotlib inline"
      ],
      "execution_count": 780,
      "outputs": []
    },
    {
      "cell_type": "code",
      "metadata": {
        "id": "a-U6wkTGR-VT",
        "colab": {
          "base_uri": "https://localhost:8080/",
          "height": 335
        },
        "outputId": "3b71e914-b7ec-4afd-a201-3415ac5e64ed"
      },
      "source": [
        "# loading our dataset\n",
        "\n",
        "df=pd.read_csv('/content/Financial Dataset - 1.csv')\n",
        "df.head()"
      ],
      "execution_count": 781,
      "outputs": [
        {
          "output_type": "execute_result",
          "data": {
            "text/html": [
              "<div>\n",
              "<style scoped>\n",
              "    .dataframe tbody tr th:only-of-type {\n",
              "        vertical-align: middle;\n",
              "    }\n",
              "\n",
              "    .dataframe tbody tr th {\n",
              "        vertical-align: top;\n",
              "    }\n",
              "\n",
              "    .dataframe thead th {\n",
              "        text-align: right;\n",
              "    }\n",
              "</style>\n",
              "<table border=\"1\" class=\"dataframe\">\n",
              "  <thead>\n",
              "    <tr style=\"text-align: right;\">\n",
              "      <th></th>\n",
              "      <th>country</th>\n",
              "      <th>year</th>\n",
              "      <th>uniqueid</th>\n",
              "      <th>Has a Bank account</th>\n",
              "      <th>Type of Location</th>\n",
              "      <th>Cell Phone Access</th>\n",
              "      <th>household_size</th>\n",
              "      <th>Respondent Age</th>\n",
              "      <th>gender_of_respondent</th>\n",
              "      <th>The relathip with head</th>\n",
              "      <th>marital_status</th>\n",
              "      <th>Level of Educuation</th>\n",
              "      <th>Type of Job</th>\n",
              "    </tr>\n",
              "  </thead>\n",
              "  <tbody>\n",
              "    <tr>\n",
              "      <th>0</th>\n",
              "      <td>Kenya</td>\n",
              "      <td>2018</td>\n",
              "      <td>uniqueid_1</td>\n",
              "      <td>Yes</td>\n",
              "      <td>Rural</td>\n",
              "      <td>Yes</td>\n",
              "      <td>3.0</td>\n",
              "      <td>24.0</td>\n",
              "      <td>Female</td>\n",
              "      <td>Spouse</td>\n",
              "      <td>Married/Living together</td>\n",
              "      <td>Secondary education</td>\n",
              "      <td>Self employed</td>\n",
              "    </tr>\n",
              "    <tr>\n",
              "      <th>1</th>\n",
              "      <td>Kenya</td>\n",
              "      <td>2018</td>\n",
              "      <td>uniqueid_2</td>\n",
              "      <td>No</td>\n",
              "      <td>Rural</td>\n",
              "      <td>No</td>\n",
              "      <td>5.0</td>\n",
              "      <td>70.0</td>\n",
              "      <td>Female</td>\n",
              "      <td>Head of Household</td>\n",
              "      <td>Widowed</td>\n",
              "      <td>No formal education</td>\n",
              "      <td>Government Dependent</td>\n",
              "    </tr>\n",
              "    <tr>\n",
              "      <th>2</th>\n",
              "      <td>Kenya</td>\n",
              "      <td>2018</td>\n",
              "      <td>uniqueid_3</td>\n",
              "      <td>Yes</td>\n",
              "      <td>Urban</td>\n",
              "      <td>Yes</td>\n",
              "      <td>5.0</td>\n",
              "      <td>26.0</td>\n",
              "      <td>Male</td>\n",
              "      <td>Other relative</td>\n",
              "      <td>Single/Never Married</td>\n",
              "      <td>Vocational/Specialised training</td>\n",
              "      <td>Self employed</td>\n",
              "    </tr>\n",
              "    <tr>\n",
              "      <th>3</th>\n",
              "      <td>Kenya</td>\n",
              "      <td>2018</td>\n",
              "      <td>uniqueid_4</td>\n",
              "      <td>No</td>\n",
              "      <td>Rural</td>\n",
              "      <td>Yes</td>\n",
              "      <td>5.0</td>\n",
              "      <td>34.0</td>\n",
              "      <td>Female</td>\n",
              "      <td>Head of Household</td>\n",
              "      <td>Married/Living together</td>\n",
              "      <td>Primary education</td>\n",
              "      <td>Formally employed Private</td>\n",
              "    </tr>\n",
              "    <tr>\n",
              "      <th>4</th>\n",
              "      <td>Kenya</td>\n",
              "      <td>2018</td>\n",
              "      <td>uniqueid_5</td>\n",
              "      <td>No</td>\n",
              "      <td>Urban</td>\n",
              "      <td>No</td>\n",
              "      <td>8.0</td>\n",
              "      <td>26.0</td>\n",
              "      <td>Male</td>\n",
              "      <td>Child</td>\n",
              "      <td>Single/Never Married</td>\n",
              "      <td>Primary education</td>\n",
              "      <td>Informally employed</td>\n",
              "    </tr>\n",
              "  </tbody>\n",
              "</table>\n",
              "</div>"
            ],
            "text/plain": [
              "  country  year  ...              Level of Educuation                Type of Job\n",
              "0   Kenya  2018  ...              Secondary education              Self employed\n",
              "1   Kenya  2018  ...              No formal education       Government Dependent\n",
              "2   Kenya  2018  ...  Vocational/Specialised training              Self employed\n",
              "3   Kenya  2018  ...                Primary education  Formally employed Private\n",
              "4   Kenya  2018  ...                Primary education        Informally employed\n",
              "\n",
              "[5 rows x 13 columns]"
            ]
          },
          "metadata": {},
          "execution_count": 781
        }
      ]
    },
    {
      "cell_type": "code",
      "metadata": {
        "id": "nEezAxFuWjfn",
        "colab": {
          "base_uri": "https://localhost:8080/"
        },
        "outputId": "057e517c-0b7e-4c60-dbd2-6a07e5b4da06"
      },
      "source": [
        "# checking the data types for each column\n",
        "\n",
        "df.dtypes\n"
      ],
      "execution_count": 782,
      "outputs": [
        {
          "output_type": "execute_result",
          "data": {
            "text/plain": [
              "country                    object\n",
              "year                        int64\n",
              "uniqueid                   object\n",
              "Has a Bank account         object\n",
              "Type of Location           object\n",
              "Cell Phone Access          object\n",
              "household_size            float64\n",
              "Respondent Age            float64\n",
              "gender_of_respondent       object\n",
              "The relathip with head     object\n",
              "marital_status             object\n",
              "Level of Educuation        object\n",
              "Type of Job                object\n",
              "dtype: object"
            ]
          },
          "metadata": {},
          "execution_count": 782
        }
      ]
    },
    {
      "cell_type": "markdown",
      "metadata": {
        "id": "NCfxQUphXWKs"
      },
      "source": [
        "# **TIDYING OUR DATASET**"
      ]
    },
    {
      "cell_type": "code",
      "metadata": {
        "id": "NJPsnfc4YLt3",
        "colab": {
          "base_uri": "https://localhost:8080/",
          "height": 334
        },
        "outputId": "e4423635-3b06-48b4-8f41-54975e9035d8"
      },
      "source": [
        "# checking for outliers\n",
        "\n",
        "sns.boxplot(df['year'])\n",
        "plt.show()"
      ],
      "execution_count": 783,
      "outputs": [
        {
          "output_type": "stream",
          "name": "stderr",
          "text": [
            "/usr/local/lib/python3.7/dist-packages/seaborn/_decorators.py:43: FutureWarning: Pass the following variable as a keyword arg: x. From version 0.12, the only valid positional argument will be `data`, and passing other arguments without an explicit keyword will result in an error or misinterpretation.\n",
            "  FutureWarning\n"
          ]
        },
        {
          "output_type": "display_data",
          "data": {
            "image/png": "[encoded data removed]",
            "text/plain": [
              "<Figure size 432x288 with 1 Axes>"
            ]
          },
          "metadata": {
            "needs_background": "light"
          }
        }
      ]
    },
    {
      "cell_type": "code",
      "metadata": {
        "colab": {
          "base_uri": "https://localhost:8080/",
          "height": 335
        },
        "id": "MleCMADNbThM",
        "outputId": "60b7a9b4-0f1e-47ec-892e-7efec993ce9e"
      },
      "source": [
        "sns.boxplot(df['household_size'])\n",
        "plt.show()\n"
      ],
      "execution_count": 784,
      "outputs": [
        {
          "output_type": "stream",
          "name": "stderr",
          "text": [
            "/usr/local/lib/python3.7/dist-packages/seaborn/_decorators.py:43: FutureWarning: Pass the following variable as a keyword arg: x. From version 0.12, the only valid positional argument will be `data`, and passing other arguments without an explicit keyword will result in an error or misinterpretation.\n",
            "  FutureWarning\n"
          ]
        },
        {
          "output_type": "display_data",
          "data": {
            "image/png": "[encoded data removed]",
            "text/plain": [
              "<Figure size 432x288 with 1 Axes>"
            ]
          },
          "metadata": {
            "needs_background": "light"
          }
        }
      ]
    },
    {
      "cell_type": "code",
      "metadata": {
        "colab": {
          "base_uri": "https://localhost:8080/",
          "height": 334
        },
        "id": "DjBhs23MbXZh",
        "outputId": "d6704a11-0cff-499c-8b80-02a5698bd269"
      },
      "source": [
        "sns.boxplot(df['Respondent Age'])\n",
        "plt.show()"
      ],
      "execution_count": 785,
      "outputs": [
        {
          "output_type": "stream",
          "name": "stderr",
          "text": [
            "/usr/local/lib/python3.7/dist-packages/seaborn/_decorators.py:43: FutureWarning: Pass the following variable as a keyword arg: x. From version 0.12, the only valid positional argument will be `data`, and passing other arguments without an explicit keyword will result in an error or misinterpretation.\n",
            "  FutureWarning\n"
          ]
        },
        {
          "output_type": "display_data",
          "data": {
            "image/png": "[encoded data removed]",
            "text/plain": [
              "<Figure size 432x288 with 1 Axes>"
            ]
          },
          "metadata": {
            "needs_background": "light"
          }
        }
      ]
    },
    {
      "cell_type": "code",
      "metadata": {
        "id": "z6aMxnaC_8ra",
        "colab": {
          "base_uri": "https://localhost:8080/"
        },
        "outputId": "c509c419-b8a9-4931-9b8d-16430d534c10"
      },
      "source": [
        "# checking for any missing data\n",
        "df.isnull().sum()"
      ],
      "execution_count": 786,
      "outputs": [
        {
          "output_type": "execute_result",
          "data": {
            "text/plain": [
              "country                   14\n",
              "year                       0\n",
              "uniqueid                   0\n",
              "Has a Bank account        36\n",
              "Type of Location          15\n",
              "Cell Phone Access         11\n",
              "household_size            28\n",
              "Respondent Age            34\n",
              "gender_of_respondent      34\n",
              "The relathip with head     4\n",
              "marital_status            32\n",
              "Level of Educuation       29\n",
              "Type of Job               30\n",
              "dtype: int64"
            ]
          },
          "metadata": {},
          "execution_count": 786
        }
      ]
    },
    {
      "cell_type": "code",
      "metadata": {
        "id": "O298WUl4IJcR",
        "colab": {
          "base_uri": "https://localhost:8080/"
        },
        "outputId": "34ebbd2b-c1b6-49db-9f35-5526fd14c1ea"
      },
      "source": [
        "# checking our datasets records\n",
        "\n",
        "df.shape"
      ],
      "execution_count": 787,
      "outputs": [
        {
          "output_type": "execute_result",
          "data": {
            "text/plain": [
              "(23524, 13)"
            ]
          },
          "metadata": {},
          "execution_count": 787
        }
      ]
    },
    {
      "cell_type": "code",
      "metadata": {
        "id": "0potwRfqIWxr"
      },
      "source": [
        "# dropping the missing values\n",
        "\n",
        "df=df.dropna()"
      ],
      "execution_count": 788,
      "outputs": []
    },
    {
      "cell_type": "code",
      "metadata": {
        "id": "jEG0Z8wlJqQm",
        "colab": {
          "base_uri": "https://localhost:8080/"
        },
        "outputId": "124c5b7a-51a9-4ca3-8372-ad100d498f4d"
      },
      "source": [
        "# checking our records after dropping the missing values\n",
        "\n",
        "df.shape"
      ],
      "execution_count": 789,
      "outputs": [
        {
          "output_type": "execute_result",
          "data": {
            "text/plain": [
              "(23343, 13)"
            ]
          },
          "metadata": {},
          "execution_count": 789
        }
      ]
    },
    {
      "cell_type": "code",
      "metadata": {
        "id": "xRmUuiUU_82r",
        "colab": {
          "base_uri": "https://localhost:8080/"
        },
        "outputId": "3d5ea114-b3f6-43ae-e08d-acaa5c52ef3c"
      },
      "source": [
        "# checking for any duplicated data\n",
        "\n",
        "df.duplicated().sum()"
      ],
      "execution_count": 790,
      "outputs": [
        {
          "output_type": "execute_result",
          "data": {
            "text/plain": [
              "0"
            ]
          },
          "metadata": {},
          "execution_count": 790
        }
      ]
    },
    {
      "cell_type": "code",
      "metadata": {
        "id": "0xxd9oL7KSKu"
      },
      "source": [
        "# fixing any typos on the column  names\n",
        "\n",
        "df.rename(columns={'The relathip with head':'The relationship with the head','Level of Educuation':'Level of Education'}, inplace=True)"
      ],
      "execution_count": 791,
      "outputs": []
    },
    {
      "cell_type": "code",
      "metadata": {
        "id": "YLcE6pcZLnYO"
      },
      "source": [
        "df.columns=df.columns.str.replace(' ','_').str.lower()"
      ],
      "execution_count": 792,
      "outputs": []
    },
    {
      "cell_type": "code",
      "metadata": {
        "id": "1rz0f9O0TkDF",
        "colab": {
          "base_uri": "https://localhost:8080/"
        },
        "outputId": "da521a5e-84d5-41cf-e89b-cb8fa56f51c7"
      },
      "source": [
        "# checking the values in the years column\n",
        "\n",
        "df['year'].unique()"
      ],
      "execution_count": 793,
      "outputs": [
        {
          "output_type": "execute_result",
          "data": {
            "text/plain": [
              "array([2018, 2029, 2056, 2016, 2039, 2017])"
            ]
          },
          "metadata": {},
          "execution_count": 793
        }
      ]
    },
    {
      "cell_type": "code",
      "metadata": {
        "id": "gRUaFk_xYRK-",
        "colab": {
          "base_uri": "https://localhost:8080/"
        },
        "outputId": "5cc75204-7c17-4ad3-be61-e81713f8f7a6"
      },
      "source": [
        "# we have year 2029, 2056 and 2039 in our dataset which should not be included in our dataset\n",
        "# since our data should only involve years 2016, 2017 and 2018\n",
        "\n",
        "value_list=['2016','2017','2018']\n",
        "df=df[df.year.isin(value_list)]\n",
        "df['year'].unique()"
      ],
      "execution_count": 794,
      "outputs": [
        {
          "output_type": "execute_result",
          "data": {
            "text/plain": [
              "array([2018, 2016, 2017])"
            ]
          },
          "metadata": {},
          "execution_count": 794
        }
      ]
    },
    {
      "cell_type": "code",
      "metadata": {
        "id": "IPXQQjQZOxZ9",
        "colab": {
          "base_uri": "https://localhost:8080/",
          "height": 322
        },
        "outputId": "8b0bc882-ade4-4160-fecb-21d38b38ecaa"
      },
      "source": [
        "# previewing the cleaned dataset\n",
        "\n",
        "df.head()"
      ],
      "execution_count": 795,
      "outputs": [
        {
          "output_type": "execute_result",
          "data": {
            "text/html": [
              "<div>\n",
              "<style scoped>\n",
              "    .dataframe tbody tr th:only-of-type {\n",
              "        vertical-align: middle;\n",
              "    }\n",
              "\n",
              "    .dataframe tbody tr th {\n",
              "        vertical-align: top;\n",
              "    }\n",
              "\n",
              "    .dataframe thead th {\n",
              "        text-align: right;\n",
              "    }\n",
              "</style>\n",
              "<table border=\"1\" class=\"dataframe\">\n",
              "  <thead>\n",
              "    <tr style=\"text-align: right;\">\n",
              "      <th></th>\n",
              "      <th>country</th>\n",
              "      <th>year</th>\n",
              "      <th>uniqueid</th>\n",
              "      <th>has_a_bank_account</th>\n",
              "      <th>type_of_location</th>\n",
              "      <th>cell_phone_access</th>\n",
              "      <th>household_size</th>\n",
              "      <th>respondent_age</th>\n",
              "      <th>gender_of_respondent</th>\n",
              "      <th>the_relationship_with_the_head</th>\n",
              "      <th>marital_status</th>\n",
              "      <th>level_of_education</th>\n",
              "      <th>type_of_job</th>\n",
              "    </tr>\n",
              "  </thead>\n",
              "  <tbody>\n",
              "    <tr>\n",
              "      <th>0</th>\n",
              "      <td>Kenya</td>\n",
              "      <td>2018</td>\n",
              "      <td>uniqueid_1</td>\n",
              "      <td>Yes</td>\n",
              "      <td>Rural</td>\n",
              "      <td>Yes</td>\n",
              "      <td>3.0</td>\n",
              "      <td>24.0</td>\n",
              "      <td>Female</td>\n",
              "      <td>Spouse</td>\n",
              "      <td>Married/Living together</td>\n",
              "      <td>Secondary education</td>\n",
              "      <td>Self employed</td>\n",
              "    </tr>\n",
              "    <tr>\n",
              "      <th>1</th>\n",
              "      <td>Kenya</td>\n",
              "      <td>2018</td>\n",
              "      <td>uniqueid_2</td>\n",
              "      <td>No</td>\n",
              "      <td>Rural</td>\n",
              "      <td>No</td>\n",
              "      <td>5.0</td>\n",
              "      <td>70.0</td>\n",
              "      <td>Female</td>\n",
              "      <td>Head of Household</td>\n",
              "      <td>Widowed</td>\n",
              "      <td>No formal education</td>\n",
              "      <td>Government Dependent</td>\n",
              "    </tr>\n",
              "    <tr>\n",
              "      <th>2</th>\n",
              "      <td>Kenya</td>\n",
              "      <td>2018</td>\n",
              "      <td>uniqueid_3</td>\n",
              "      <td>Yes</td>\n",
              "      <td>Urban</td>\n",
              "      <td>Yes</td>\n",
              "      <td>5.0</td>\n",
              "      <td>26.0</td>\n",
              "      <td>Male</td>\n",
              "      <td>Other relative</td>\n",
              "      <td>Single/Never Married</td>\n",
              "      <td>Vocational/Specialised training</td>\n",
              "      <td>Self employed</td>\n",
              "    </tr>\n",
              "    <tr>\n",
              "      <th>3</th>\n",
              "      <td>Kenya</td>\n",
              "      <td>2018</td>\n",
              "      <td>uniqueid_4</td>\n",
              "      <td>No</td>\n",
              "      <td>Rural</td>\n",
              "      <td>Yes</td>\n",
              "      <td>5.0</td>\n",
              "      <td>34.0</td>\n",
              "      <td>Female</td>\n",
              "      <td>Head of Household</td>\n",
              "      <td>Married/Living together</td>\n",
              "      <td>Primary education</td>\n",
              "      <td>Formally employed Private</td>\n",
              "    </tr>\n",
              "    <tr>\n",
              "      <th>4</th>\n",
              "      <td>Kenya</td>\n",
              "      <td>2018</td>\n",
              "      <td>uniqueid_5</td>\n",
              "      <td>No</td>\n",
              "      <td>Urban</td>\n",
              "      <td>No</td>\n",
              "      <td>8.0</td>\n",
              "      <td>26.0</td>\n",
              "      <td>Male</td>\n",
              "      <td>Child</td>\n",
              "      <td>Single/Never Married</td>\n",
              "      <td>Primary education</td>\n",
              "      <td>Informally employed</td>\n",
              "    </tr>\n",
              "  </tbody>\n",
              "</table>\n",
              "</div>"
            ],
            "text/plain": [
              "  country  year  ...               level_of_education                type_of_job\n",
              "0   Kenya  2018  ...              Secondary education              Self employed\n",
              "1   Kenya  2018  ...              No formal education       Government Dependent\n",
              "2   Kenya  2018  ...  Vocational/Specialised training              Self employed\n",
              "3   Kenya  2018  ...                Primary education  Formally employed Private\n",
              "4   Kenya  2018  ...                Primary education        Informally employed\n",
              "\n",
              "[5 rows x 13 columns]"
            ]
          },
          "metadata": {},
          "execution_count": 795
        }
      ]
    },
    {
      "cell_type": "markdown",
      "metadata": {
        "id": "lialT91IPI-H"
      },
      "source": [
        "# **UNIVARIATE ANALYSIS**"
      ]
    },
    {
      "cell_type": "markdown",
      "metadata": {
        "id": "xd9LJjr_8vA1"
      },
      "source": [
        "The country with the highest number of individuals with access to bank accounts"
      ]
    },
    {
      "cell_type": "code",
      "metadata": {
        "id": "JGnHxW-WPWc6",
        "colab": {
          "base_uri": "https://localhost:8080/",
          "height": 328
        },
        "outputId": "2332ceee-f847-4c1e-e7c0-a73bf87e3c6b"
      },
      "source": [
        "# creating a new table with column 'has a bank account set to ONLY Yes\n",
        "\n",
        "df_country=df[df['has_a_bank_account']=='Yes']\n",
        "df_country['country'].value_counts().plot.bar()\n",
        "plt.xlabel('Country')\n",
        "plt.ylabel('Frequency')\n",
        "plt.title('Country vs Frequency')\n",
        "plt.show()"
      ],
      "execution_count": 796,
      "outputs": [
        {
          "output_type": "display_data",
          "data": {
            "image/png": "[encoded data removed]",
            "text/plain": [
              "<Figure size 432x288 with 1 Axes>"
            ]
          },
          "metadata": {
            "needs_background": "light"
          }
        }
      ]
    },
    {
      "cell_type": "markdown",
      "metadata": {
        "id": "7EtT6QeP9Wr2"
      },
      "source": [
        "The type of location with the highest number of individuals having access to bank accounts in the four countries ( Rural or Urban?)"
      ]
    },
    {
      "cell_type": "code",
      "metadata": {
        "id": "e9W11NbJ9dwr",
        "colab": {
          "base_uri": "https://localhost:8080/",
          "height": 315
        },
        "outputId": "02aa6606-69ff-4b1f-bb30-9f96bdcbf6d8"
      },
      "source": [
        "# set the 'has a bank account' column to Yes\n",
        "\n",
        "Type_of_location=df[df['has_a_bank_account']=='Yes']\n",
        "Type_of_location['type_of_location'].value_counts().plot.bar(color='Red')\n",
        "plt.xlabel('Rural/Urban')\n",
        "plt.ylabel('Frequency')\n",
        "plt.title('Rural/Urban vs Frequency')\n",
        "plt.show()"
      ],
      "execution_count": 797,
      "outputs": [
        {
          "output_type": "display_data",
          "data": {
            "image/png": "[encoded data removed]",
            "text/plain": [
              "<Figure size 432x288 with 1 Axes>"
            ]
          },
          "metadata": {
            "needs_background": "light"
          }
        }
      ]
    },
    {
      "cell_type": "markdown",
      "metadata": {
        "id": "nIuLrizWBuvt"
      },
      "source": [
        "The country with the highest number of individuals coming from Rural areas having access to bank accounts"
      ]
    },
    {
      "cell_type": "code",
      "metadata": {
        "id": "hnB271BsEbow",
        "colab": {
          "base_uri": "https://localhost:8080/",
          "height": 294
        },
        "outputId": "e9e66690-817a-4b89-f5ad-9e0618dae32e"
      },
      "source": [
        "# set the column 'has a bank account' to yes and 'type of location' to Rural\n",
        "\n",
        "Rural=df[(df['has_a_bank_account']=='Yes') & (df['type_of_location']=='Rural')]\n",
        "Rural['country'].value_counts().plot.barh()\n",
        "plt.xlabel('Individuals from Rural areas')\n",
        "plt.ylabel('Country')\n",
        "plt.title('Country Vs Individuals from areas')\n",
        "plt.show()"
      ],
      "execution_count": 798,
      "outputs": [
        {
          "output_type": "display_data",
          "data": {
            "image/png": "[encoded data removed]",
            "text/plain": [
              "<Figure size 432x288 with 1 Axes>"
            ]
          },
          "metadata": {
            "needs_background": "light"
          }
        }
      ]
    },
    {
      "cell_type": "markdown",
      "metadata": {
        "id": "BTy7_WTcGf9H"
      },
      "source": [
        "The age group with the highest financial inclusion"
      ]
    },
    {
      "cell_type": "code",
      "metadata": {
        "id": "7Z8K43QkGlav",
        "colab": {
          "base_uri": "https://localhost:8080/",
          "height": 282
        },
        "outputId": "6f11807c-3294-431e-e419-23bc3ea18392"
      },
      "source": [
        "# set the has a bank account column to yes\n",
        "\n",
        "age=df[df['has_a_bank_account']=='Yes']\n",
        "age['respondent_age'].plot.hist(color='Green', bins=6, histtype='bar', rwidth=1)"
      ],
      "execution_count": 799,
      "outputs": [
        {
          "output_type": "execute_result",
          "data": {
            "text/plain": [
              "<matplotlib.axes._subplots.AxesSubplot at 0x7f8b35f39790>"
            ]
          },
          "metadata": {},
          "execution_count": 799
        },
        {
          "output_type": "display_data",
          "data": {
            "image/png": "[encoded data removed]",
            "text/plain": [
              "<Figure size 432x288 with 1 Axes>"
            ]
          },
          "metadata": {
            "needs_background": "light"
          }
        }
      ]
    },
    {
      "cell_type": "markdown",
      "metadata": {
        "id": "r12-QoS8MteL"
      },
      "source": [
        "Access to bank accounts over the years\n"
      ]
    },
    {
      "cell_type": "code",
      "metadata": {
        "colab": {
          "base_uri": "https://localhost:8080/",
          "height": 294
        },
        "id": "n9B2emfdMx5a",
        "outputId": "295b524f-85e2-4758-c624-2e0f3a0eb23b"
      },
      "source": [
        "# set the has a bank account column to yes\n",
        "\n",
        "years=df[df['has_a_bank_account']=='Yes']\n",
        "years['year'].value_counts().plot.barh(color='Purple')\n",
        "plt.xlabel('Frequency')\n",
        "plt.ylabel('Years')\n",
        "plt.title('Years vs Frequency')\n",
        "plt.show()"
      ],
      "execution_count": 800,
      "outputs": [
        {
          "output_type": "display_data",
          "data": {
            "image/png": "[encoded data removed]",
            "text/plain": [
              "<Figure size 432x288 with 1 Axes>"
            ]
          },
          "metadata": {
            "needs_background": "light"
          }
        }
      ]
    },
    {
      "cell_type": "markdown",
      "metadata": {
        "id": "0PfFcyxAcuQx"
      },
      "source": [
        "Gender with the highest financial inclusion"
      ]
    },
    {
      "cell_type": "code",
      "metadata": {
        "colab": {
          "base_uri": "https://localhost:8080/",
          "height": 321
        },
        "id": "E_6u857_c3CC",
        "outputId": "ba238aac-d2b2-4e1e-c96c-a4c7308aa53c"
      },
      "source": [
        "# set the 'has a bank account' column to Yes\n",
        "\n",
        "Gender=df[df['has_a_bank_account']=='Yes']\n",
        "Gender['gender_of_respondent'].value_counts().plot.bar()\n",
        "plt.xlabel('Gender')\n",
        "plt.ylabel('Frequency')\n",
        "plt.title('Gender Vs Frequency')\n",
        "plt.show()"
      ],
      "execution_count": 801,
      "outputs": [
        {
          "output_type": "display_data",
          "data": {
            "image/png": "[encoded data removed]",
            "text/plain": [
              "<Figure size 432x288 with 1 Axes>"
            ]
          },
          "metadata": {
            "needs_background": "light"
          }
        }
      ]
    },
    {
      "cell_type": "markdown",
      "metadata": {
        "id": "XyadtLsThwrz"
      },
      "source": [
        "The relation between having cell phone access to financial inclusion"
      ]
    },
    {
      "cell_type": "code",
      "metadata": {
        "colab": {
          "base_uri": "https://localhost:8080/",
          "height": 318
        },
        "id": "a88KwoZnh-OA",
        "outputId": "54bcd3c3-77e4-4805-e76b-61a75f2fc76d"
      },
      "source": [
        "# set the 'has a bank account' column to Yes\n",
        "\n",
        "cell_access=df[df['has_a_bank_account']=='Yes']\n",
        "cell_access['cell_phone_access'].value_counts().plot.bar()\n",
        "plt.xlabel('Cell Phone Access')\n",
        "plt.ylabel('Frequency')\n",
        "plt.title('Cell Phone Access Vs Frequency')"
      ],
      "execution_count": 802,
      "outputs": [
        {
          "output_type": "execute_result",
          "data": {
            "text/plain": [
              "Text(0.5, 1.0, 'Cell Phone Access Vs Frequency')"
            ]
          },
          "metadata": {},
          "execution_count": 802
        },
        {
          "output_type": "display_data",
          "data": {
            "image/png": "[encoded data removed]",
            "text/plain": [
              "<Figure size 432x288 with 1 Axes>"
            ]
          },
          "metadata": {
            "needs_background": "light"
          }
        }
      ]
    },
    {
      "cell_type": "markdown",
      "metadata": {
        "id": "oUCl-16njqv_"
      },
      "source": [
        "**Measures of Central Tendency**"
      ]
    },
    {
      "cell_type": "code",
      "metadata": {
        "colab": {
          "base_uri": "https://localhost:8080/"
        },
        "id": "-EPguY7ojvza",
        "outputId": "745adaaa-d763-49c9-d6f0-c7a43fb17624"
      },
      "source": [
        "# The mean age of individuals with a bank account\n",
        "# first we are going to create a dataset 'age' with only individuals with bank accounts\n",
        "#\n",
        "\n",
        "age=df[df['has_a_bank_account']=='Yes']\n",
        "age['respondent_age'].mean()"
      ],
      "execution_count": 803,
      "outputs": [
        {
          "output_type": "execute_result",
          "data": {
            "text/plain": [
              "39.605582524271846"
            ]
          },
          "metadata": {},
          "execution_count": 803
        }
      ]
    },
    {
      "cell_type": "code",
      "metadata": {
        "colab": {
          "base_uri": "https://localhost:8080/"
        },
        "id": "o3rthrFirezD",
        "outputId": "4713da3d-c60c-4073-955b-9926031aeabf"
      },
      "source": [
        "# The age that appears the most among individuals with a bank account.\n",
        "\n",
        "age['respondent_age'].mode()"
      ],
      "execution_count": 804,
      "outputs": [
        {
          "output_type": "execute_result",
          "data": {
            "text/plain": [
              "0    30.0\n",
              "dtype: float64"
            ]
          },
          "metadata": {},
          "execution_count": 804
        }
      ]
    },
    {
      "cell_type": "code",
      "metadata": {
        "colab": {
          "base_uri": "https://localhost:8080/"
        },
        "id": "q884mGGYrk2U",
        "outputId": "a88d310c-d621-4ccc-abf1-7e9c41b0e4d7"
      },
      "source": [
        "# The age that divides the age dataset into two equal parts.\n",
        "\n",
        "age['respondent_age'].median()"
      ],
      "execution_count": 805,
      "outputs": [
        {
          "output_type": "execute_result",
          "data": {
            "text/plain": [
              "36.0"
            ]
          },
          "metadata": {},
          "execution_count": 805
        }
      ]
    },
    {
      "cell_type": "code",
      "metadata": {
        "colab": {
          "base_uri": "https://localhost:8080/"
        },
        "id": "HuWDYF2EtkAV",
        "outputId": "7e76ca6b-3e96-45cf-8aaa-ed599dfcf754"
      },
      "source": [
        "# The average size of households with individuals with NO bank accounts\n",
        "# creating a dataset having only individuals with no bank accounts\n",
        "\n",
        "household=df[df['has_a_bank_account']=='No']\n",
        "household['household_size'].mean()"
      ],
      "execution_count": 806,
      "outputs": [
        {
          "output_type": "execute_result",
          "data": {
            "text/plain": [
              "3.70988824585911"
            ]
          },
          "metadata": {},
          "execution_count": 806
        }
      ]
    },
    {
      "cell_type": "code",
      "metadata": {
        "colab": {
          "base_uri": "https://localhost:8080/"
        },
        "id": "4IRWr-TguYu9",
        "outputId": "e57479bc-ec3f-4f9d-e666-c78c6d358bc6"
      },
      "source": [
        "# The size household that appears the most among individuals with NO bank accounts\n",
        "\n",
        "household['household_size'].mode()"
      ],
      "execution_count": 807,
      "outputs": [
        {
          "output_type": "execute_result",
          "data": {
            "text/plain": [
              "0    2.0\n",
              "dtype: float64"
            ]
          },
          "metadata": {},
          "execution_count": 807
        }
      ]
    },
    {
      "cell_type": "code",
      "metadata": {
        "colab": {
          "base_uri": "https://localhost:8080/"
        },
        "id": "ldmo2cFPuniV",
        "outputId": "d9360a15-879c-4b13-ea5e-6b14a98325f0"
      },
      "source": [
        "# The household that divides the household dataset into equal parts\n",
        "\n",
        "household['household_size'].median()"
      ],
      "execution_count": 808,
      "outputs": [
        {
          "output_type": "execute_result",
          "data": {
            "text/plain": [
              "3.0"
            ]
          },
          "metadata": {},
          "execution_count": 808
        }
      ]
    },
    {
      "cell_type": "markdown",
      "metadata": {
        "id": "8uUhKk3L1sZj"
      },
      "source": [
        "**Measures of Dispersion**"
      ]
    },
    {
      "cell_type": "code",
      "metadata": {
        "colab": {
          "base_uri": "https://localhost:8080/"
        },
        "id": "61AEsZLc1zPD",
        "outputId": "9caeff8e-8261-45f9-c81f-ef9128e34000"
      },
      "source": [
        "# Finding the average distance between each age and the mean age using standard deviation\n",
        "\n",
        "age['respondent_age'].std()"
      ],
      "execution_count": 809,
      "outputs": [
        {
          "output_type": "execute_result",
          "data": {
            "text/plain": [
              "14.346347288084722"
            ]
          },
          "metadata": {},
          "execution_count": 809
        }
      ]
    },
    {
      "cell_type": "code",
      "metadata": {
        "colab": {
          "base_uri": "https://localhost:8080/"
        },
        "id": "6k3HI-Jd4C87",
        "outputId": "379c018e-8109-474a-f8a1-d1e71ae8e885"
      },
      "source": [
        "# Finding out how spread out the age dataset is using variance\n",
        "\n",
        "age['respondent_age'].var()"
      ],
      "execution_count": 810,
      "outputs": [
        {
          "output_type": "execute_result",
          "data": {
            "text/plain": [
              "205.81768051033583"
            ]
          },
          "metadata": {},
          "execution_count": 810
        }
      ]
    },
    {
      "cell_type": "code",
      "metadata": {
        "colab": {
          "base_uri": "https://localhost:8080/"
        },
        "id": "4ysD8vKm42NU",
        "outputId": "84b17419-ce8a-443b-be88-a3f83bc14c1e"
      },
      "source": [
        "# Finding the difference between the highest age and the lowest value\n",
        "\n",
        "max_age=age['respondent_age'].max()\n",
        "min_age=age['respondent_age'].min()\n",
        "max_age-min_age"
      ],
      "execution_count": 811,
      "outputs": [
        {
          "output_type": "execute_result",
          "data": {
            "text/plain": [
              "79.0"
            ]
          },
          "metadata": {},
          "execution_count": 811
        }
      ]
    },
    {
      "cell_type": "code",
      "metadata": {
        "colab": {
          "base_uri": "https://localhost:8080/"
        },
        "id": "4vvdrHo957Mc",
        "outputId": "646eea85-ee0e-4e8a-9194-1dc4f1295118"
      },
      "source": [
        "# Checking whether the age distribution is positive skewed or negative skewed\n",
        "\n",
        "age['respondent_age'].skew()\n",
        "\n",
        "# The distribution is positive skewed meaning the tail on the right side of the curve\n",
        "# is longer than that of the left side. Also possibility of outliers present."
      ],
      "execution_count": 812,
      "outputs": [
        {
          "output_type": "execute_result",
          "data": {
            "text/plain": [
              "0.935625840226677"
            ]
          },
          "metadata": {},
          "execution_count": 812
        }
      ]
    },
    {
      "cell_type": "code",
      "metadata": {
        "colab": {
          "base_uri": "https://localhost:8080/"
        },
        "id": "QYD2jy_y6dal",
        "outputId": "dc4e7c0e-123f-41e7-a204-3d390395dbc7"
      },
      "source": [
        "# Checking whether the data is heavy tailed or light tailed\n",
        "\n",
        "age['respondent_age'].kurt()\n",
        "\n",
        "# The kurtosis is closer to zero thus assuming a normal distributrion of our data."
      ],
      "execution_count": 813,
      "outputs": [
        {
          "output_type": "execute_result",
          "data": {
            "text/plain": [
              "0.4652661144893111"
            ]
          },
          "metadata": {},
          "execution_count": 813
        }
      ]
    },
    {
      "cell_type": "code",
      "metadata": {
        "colab": {
          "base_uri": "https://localhost:8080/"
        },
        "id": "gabIn2FU-bbl",
        "outputId": "56535825-aecd-41a0-a9f5-e42d16c71577"
      },
      "source": [
        "# Summary statistics of the age dataframe\n",
        "\n",
        "age['respondent_age'].describe()"
      ],
      "execution_count": 814,
      "outputs": [
        {
          "output_type": "execute_result",
          "data": {
            "text/plain": [
              "count    3296.000000\n",
              "mean       39.605583\n",
              "std        14.346347\n",
              "min        16.000000\n",
              "25%        29.000000\n",
              "50%        36.000000\n",
              "75%        48.000000\n",
              "max        95.000000\n",
              "Name: respondent_age, dtype: float64"
            ]
          },
          "metadata": {},
          "execution_count": 814
        }
      ]
    },
    {
      "cell_type": "markdown",
      "metadata": {
        "id": "TAIYaWbv-rjF"
      },
      "source": [
        "# **BIVARIATE ANALYSIS**"
      ]
    },
    {
      "cell_type": "code",
      "metadata": {
        "colab": {
          "base_uri": "https://localhost:8080/",
          "height": 351
        },
        "id": "3M-WgnWLhyvV",
        "outputId": "faf3f63a-8483-4538-a9c7-33357ce7305e"
      },
      "source": [
        "# Finding the relation between household size and the respondent's age\n",
        "\n",
        "plt.figure(figsize=(10,5))\n",
        "plt.scatter(df['household_size'], df['respondent_age'])\n",
        "plt.xlabel('Household_Size')\n",
        "plt.ylabel('Respondent_Age')\n",
        "plt.title('Household_Size vs Respondent_Age')\n",
        "plt.show()\n"
      ],
      "execution_count": 815,
      "outputs": [
        {
          "output_type": "display_data",
          "data": {
            "image/png": "[encoded data removed]",
            "text/plain": [
              "<Figure size 720x360 with 1 Axes>"
            ]
          },
          "metadata": {
            "needs_background": "light"
          }
        }
      ]
    },
    {
      "cell_type": "code",
      "metadata": {
        "colab": {
          "base_uri": "https://localhost:8080/",
          "height": 350
        },
        "id": "m9eSY9U5iJIK",
        "outputId": "930b3b1f-239b-429b-cbdc-2a41b0ab1fd3"
      },
      "source": [
        "# Relation between year and household size\n",
        "\n",
        "plt.figure(figsize=(10,5))\n",
        "plt.scatter(df['year'], df['household_size'])\n",
        "plt.xlabel('Year')\n",
        "plt.ylabel('Household Size')\n",
        "plt.title('Year vs Household Size')\n",
        "plt.show()"
      ],
      "execution_count": 816,
      "outputs": [
        {
          "output_type": "display_data",
          "data": {
            "image/png": "[encoded data removed]",
            "text/plain": [
              "<Figure size 720x360 with 1 Axes>"
            ]
          },
          "metadata": {
            "needs_background": "light"
          }
        }
      ]
    },
    {
      "cell_type": "code",
      "metadata": {
        "colab": {
          "base_uri": "https://localhost:8080/",
          "height": 337
        },
        "id": "M3FrqJDNiXvJ",
        "outputId": "eb1fcf03-5cef-4c2d-86d7-ffe32288b3f5"
      },
      "source": [
        "# Relation between an individuals level of education and his household size\n",
        "\n",
        "plt.figure(figsize=(20,5))\n",
        "plt.scatter(df['level_of_education'],df['household_size'])"
      ],
      "execution_count": 817,
      "outputs": [
        {
          "output_type": "execute_result",
          "data": {
            "text/plain": [
              "<matplotlib.collections.PathCollection at 0x7f8b35e5a210>"
            ]
          },
          "metadata": {},
          "execution_count": 817
        },
        {
          "output_type": "display_data",
          "data": {
            "image/png": "[encoded data removed]",
            "text/plain": [
              "<Figure size 1440x360 with 1 Axes>"
            ]
          },
          "metadata": {
            "needs_background": "light"
          }
        }
      ]
    },
    {
      "cell_type": "code",
      "metadata": {
        "id": "UNC-ueuh-0eW",
        "colab": {
          "base_uri": "https://localhost:8080/",
          "height": 294
        },
        "outputId": "56c66c44-069f-4052-de81-d7c59f4a4cef"
      },
      "source": [
        "# Relation between whether an individual has a bank account and his age\n",
        "\n",
        "plt.scatter(df['has_a_bank_account'], df['respondent_age'])\n",
        "plt.xlabel('Yes/No')\n",
        "plt.ylabel('Age')\n",
        "plt.title('Yes/No Vs Age')\n",
        "plt.show()"
      ],
      "execution_count": 818,
      "outputs": [
        {
          "output_type": "display_data",
          "data": {
            "image/png": "[encoded data removed]",
            "text/plain": [
              "<Figure size 432x288 with 1 Axes>"
            ]
          },
          "metadata": {
            "needs_background": "light"
          }
        }
      ]
    },
    {
      "cell_type": "code",
      "metadata": {
        "id": "1ge3_y_BeNLV",
        "colab": {
          "base_uri": "https://localhost:8080/",
          "height": 294
        },
        "outputId": "85b60de2-bae3-46c0-83a9-c7958e86c8c9"
      },
      "source": [
        "# Relation between an individual's country and his household size\n",
        "\n",
        "plt.scatter(df['country'],df['household_size'])\n",
        "plt.xlabel('Country')\n",
        "plt.ylabel('Household Size')\n",
        "plt.title('Country Vs Household Size')\n",
        "plt.show()"
      ],
      "execution_count": 819,
      "outputs": [
        {
          "output_type": "display_data",
          "data": {
            "image/png": "[encoded data removed]",
            "text/plain": [
              "<Figure size 432x288 with 1 Axes>"
            ]
          },
          "metadata": {
            "needs_background": "light"
          }
        }
      ]
    },
    {
      "cell_type": "code",
      "metadata": {
        "id": "vqfjv_7Ieerk",
        "colab": {
          "base_uri": "https://localhost:8080/",
          "height": 294
        },
        "outputId": "d66f9d73-a0fe-4c85-efb1-f4510589c595"
      },
      "source": [
        "# Relation between the type of location and the household size\n",
        "\n",
        "plt.scatter(df['type_of_location'],df['household_size'])\n",
        "plt.xlabel('Rural/Urban')\n",
        "plt.ylabel('household_size')\n",
        "plt.title('Rural/Urban Vs Household Size')\n",
        "plt.show()"
      ],
      "execution_count": 820,
      "outputs": [
        {
          "output_type": "display_data",
          "data": {
            "image/png": "[encoded data removed]",
            "text/plain": [
              "<Figure size 432x288 with 1 Axes>"
            ]
          },
          "metadata": {
            "needs_background": "light"
          }
        }
      ]
    },
    {
      "cell_type": "code",
      "metadata": {
        "id": "cmuzSnDqkP7j",
        "colab": {
          "base_uri": "https://localhost:8080/",
          "height": 497
        },
        "outputId": "4c54391d-784c-4978-b1e9-88df21a3ea65"
      },
      "source": [
        "# Creating a line graph of household size over time\n",
        "\n",
        "plt.figure(figsize=(10,8))\n",
        "\n",
        "sns.lineplot(data=df, x='household_size', y='year', label='household_size', color='Green')\n",
        "plt.legend(bbox_to_anchor=(1,1))\n",
        "plt.show()"
      ],
      "execution_count": 821,
      "outputs": [
        {
          "output_type": "display_data",
          "data": {
            "image/png": "[encoded data removed]",
            "text/plain": [
              "<Figure size 720x576 with 1 Axes>"
            ]
          },
          "metadata": {
            "needs_background": "light"
          }
        }
      ]
    },
    {
      "cell_type": "code",
      "metadata": {
        "id": "lVFbUBXfsNC7",
        "colab": {
          "base_uri": "https://localhost:8080/",
          "height": 334
        },
        "outputId": "4c6cb8f1-e3ac-43f6-cda4-9b7746ae7f73"
      },
      "source": [
        "# Creating a line graph of age over time\n",
        "\n",
        "plt.figure(figsize=(10,5))\n",
        "sns.lineplot(data=df, x='respondent_age', y='year', label='respondent_age', color='red')\n",
        "plt.legend(bbox_to_anchor=(1,1))\n",
        "plt.show()\n"
      ],
      "execution_count": 822,
      "outputs": [
        {
          "output_type": "display_data",
          "data": {
            "image/png": "[encoded data removed]",
            "text/plain": [
              "<Figure size 720x360 with 1 Axes>"
            ]
          },
          "metadata": {
            "needs_background": "light"
          }
        }
      ]
    },
    {
      "cell_type": "code",
      "metadata": {
        "id": "2Qlyu8FKsqIt",
        "colab": {
          "base_uri": "https://localhost:8080/"
        },
        "outputId": "a2f5b0bb-d269-4854-89ce-739a71bad2f6"
      },
      "source": [
        "# Calculating the pearson coefficient between year and respondent age\n",
        "\n",
        "coefficient=df['year'].corr(df['respondent_age'], method='pearson')\n",
        "coefficient\n",
        "\n",
        "# year and the respondents' age are weakly correlated"
      ],
      "execution_count": 823,
      "outputs": [
        {
          "output_type": "execute_result",
          "data": {
            "text/plain": [
              "-0.018554208106743474"
            ]
          },
          "metadata": {},
          "execution_count": 823
        }
      ]
    },
    {
      "cell_type": "code",
      "metadata": {
        "id": "o5mrLSiytoL1",
        "colab": {
          "base_uri": "https://localhost:8080/"
        },
        "outputId": "8fc01769-5200-489e-ef0a-ffec2fc3f2ea"
      },
      "source": [
        "# Calculating the pearson coefficient between year and household size\n",
        "\n",
        "coefficient2=df['year'].corr(df['household_size'], method='pearson')\n",
        "coefficient2\n",
        "\n",
        "# year and household size are weakly correlated"
      ],
      "execution_count": 824,
      "outputs": [
        {
          "output_type": "execute_result",
          "data": {
            "text/plain": [
              "-0.05248406515317324"
            ]
          },
          "metadata": {},
          "execution_count": 824
        }
      ]
    },
    {
      "cell_type": "code",
      "metadata": {
        "id": "50y1htftuKAU",
        "colab": {
          "base_uri": "https://localhost:8080/"
        },
        "outputId": "e9b34ef7-11c6-4e48-860e-f275693c3ac3"
      },
      "source": [
        "# Calculating the pearson coefficient between household size and respondent age\n",
        "\n",
        "coefficient3=df['household_size'].corr(df['respondent_age'], method='pearson')\n",
        "coefficient3\n",
        "\n",
        "# household size and respondents' age are weakly correlated"
      ],
      "execution_count": 825,
      "outputs": [
        {
          "output_type": "execute_result",
          "data": {
            "text/plain": [
              "-0.1196711523415487"
            ]
          },
          "metadata": {},
          "execution_count": 825
        }
      ]
    },
    {
      "cell_type": "markdown",
      "metadata": {
        "id": "RBzPfHeyu0kf"
      },
      "source": [
        "# **MULTIVARIATE ANALYSIS**"
      ]
    },
    {
      "cell_type": "code",
      "metadata": {
        "id": "ox33UwWfu5FY"
      },
      "source": [
        "# Converting the 'has_a_bank_account' column to an integer\n",
        "\n",
        "has_account= {'has_a_bank_account':{'No': 0, 'Yes':1}}\n",
        "df.replace(has_account, inplace=True)\n",
        "df.head()\n",
        "df['has_a_bank_account']=df['has_a_bank_account'].astype(int)"
      ],
      "execution_count": 826,
      "outputs": []
    },
    {
      "cell_type": "code",
      "metadata": {
        "id": "d-AKcmwcC0vG",
        "colab": {
          "base_uri": "https://localhost:8080/"
        },
        "outputId": "58786aa2-bf60-410e-93c3-343b07fd8f61"
      },
      "source": [
        "df.dtypes"
      ],
      "execution_count": 827,
      "outputs": [
        {
          "output_type": "execute_result",
          "data": {
            "text/plain": [
              "country                            object\n",
              "year                                int64\n",
              "uniqueid                           object\n",
              "has_a_bank_account                  int64\n",
              "type_of_location                   object\n",
              "cell_phone_access                  object\n",
              "household_size                    float64\n",
              "respondent_age                    float64\n",
              "gender_of_respondent               object\n",
              "the_relationship_with_the_head     object\n",
              "marital_status                     object\n",
              "level_of_education                 object\n",
              "type_of_job                        object\n",
              "dtype: object"
            ]
          },
          "metadata": {},
          "execution_count": 827
        }
      ]
    },
    {
      "cell_type": "code",
      "metadata": {
        "id": "PnJ267JUC58I",
        "colab": {
          "base_uri": "https://localhost:8080/",
          "height": 202
        },
        "outputId": "bccaa7e1-dc31-40d2-d7d6-43ebcd872f47"
      },
      "source": [
        "new_df=df[['country','year','has_a_bank_account','household_size','respondent_age']]\n",
        "new_df.head()"
      ],
      "execution_count": 828,
      "outputs": [
        {
          "output_type": "execute_result",
          "data": {
            "text/html": [
              "<div>\n",
              "<style scoped>\n",
              "    .dataframe tbody tr th:only-of-type {\n",
              "        vertical-align: middle;\n",
              "    }\n",
              "\n",
              "    .dataframe tbody tr th {\n",
              "        vertical-align: top;\n",
              "    }\n",
              "\n",
              "    .dataframe thead th {\n",
              "        text-align: right;\n",
              "    }\n",
              "</style>\n",
              "<table border=\"1\" class=\"dataframe\">\n",
              "  <thead>\n",
              "    <tr style=\"text-align: right;\">\n",
              "      <th></th>\n",
              "      <th>country</th>\n",
              "      <th>year</th>\n",
              "      <th>has_a_bank_account</th>\n",
              "      <th>household_size</th>\n",
              "      <th>respondent_age</th>\n",
              "    </tr>\n",
              "  </thead>\n",
              "  <tbody>\n",
              "    <tr>\n",
              "      <th>0</th>\n",
              "      <td>Kenya</td>\n",
              "      <td>2018</td>\n",
              "      <td>1</td>\n",
              "      <td>3.0</td>\n",
              "      <td>24.0</td>\n",
              "    </tr>\n",
              "    <tr>\n",
              "      <th>1</th>\n",
              "      <td>Kenya</td>\n",
              "      <td>2018</td>\n",
              "      <td>0</td>\n",
              "      <td>5.0</td>\n",
              "      <td>70.0</td>\n",
              "    </tr>\n",
              "    <tr>\n",
              "      <th>2</th>\n",
              "      <td>Kenya</td>\n",
              "      <td>2018</td>\n",
              "      <td>1</td>\n",
              "      <td>5.0</td>\n",
              "      <td>26.0</td>\n",
              "    </tr>\n",
              "    <tr>\n",
              "      <th>3</th>\n",
              "      <td>Kenya</td>\n",
              "      <td>2018</td>\n",
              "      <td>0</td>\n",
              "      <td>5.0</td>\n",
              "      <td>34.0</td>\n",
              "    </tr>\n",
              "    <tr>\n",
              "      <th>4</th>\n",
              "      <td>Kenya</td>\n",
              "      <td>2018</td>\n",
              "      <td>0</td>\n",
              "      <td>8.0</td>\n",
              "      <td>26.0</td>\n",
              "    </tr>\n",
              "  </tbody>\n",
              "</table>\n",
              "</div>"
            ],
            "text/plain": [
              "  country  year  has_a_bank_account  household_size  respondent_age\n",
              "0   Kenya  2018                   1             3.0            24.0\n",
              "1   Kenya  2018                   0             5.0            70.0\n",
              "2   Kenya  2018                   1             5.0            26.0\n",
              "3   Kenya  2018                   0             5.0            34.0\n",
              "4   Kenya  2018                   0             8.0            26.0"
            ]
          },
          "metadata": {},
          "execution_count": 828
        }
      ]
    },
    {
      "cell_type": "code",
      "metadata": {
        "id": "b0wINlxEDcWy"
      },
      "source": [
        "# Preprocessing\n",
        "# Dividing the dataset into a feature set and its corresponding labels\n",
        "# \n",
        "X = new_df.drop('country', 1)\n",
        "y = new_df['country']"
      ],
      "execution_count": 829,
      "outputs": []
    },
    {
      "cell_type": "code",
      "metadata": {
        "id": "MGN5W0UJDoQU"
      },
      "source": [
        "# Splitting the dataset into the Training set and Test set\n",
        "# \n",
        "\n",
        "from sklearn.model_selection import train_test_split\n",
        "\n",
        "X_train, X_test, y_train, y_test = train_test_split(X, y, test_size=0.2, random_state=0)"
      ],
      "execution_count": 830,
      "outputs": []
    },
    {
      "cell_type": "code",
      "metadata": {
        "id": "YHA5z4cNDuUS",
        "colab": {
          "base_uri": "https://localhost:8080/"
        },
        "outputId": "b9688233-e23d-4155-c7e4-81f6999b11d7"
      },
      "source": [
        "# Normalization\n",
        "# Normalizing our feature set\n",
        "# \n",
        "from sklearn.preprocessing import StandardScaler\n",
        "\n",
        "sc = StandardScaler()\n",
        "X_train = sc.fit_transform(X_train)\n",
        "X_test = sc.transform(X_test)\n",
        "new_df.dtypes"
      ],
      "execution_count": 831,
      "outputs": [
        {
          "output_type": "execute_result",
          "data": {
            "text/plain": [
              "country                object\n",
              "year                    int64\n",
              "has_a_bank_account      int64\n",
              "household_size        float64\n",
              "respondent_age        float64\n",
              "dtype: object"
            ]
          },
          "metadata": {},
          "execution_count": 831
        }
      ]
    },
    {
      "cell_type": "code",
      "metadata": {
        "id": "pufqPdV7D7Aw"
      },
      "source": [
        "# Applying PCA\n",
        "# Initializing the PCA class by passing the number of components to the constructor.\n",
        "# Calling the fit and then transform methods by passing the feature set to these methods. \n",
        "# \n",
        "from sklearn.decomposition import PCA\n",
        "\n",
        "pca = PCA()\n",
        "X_train = pca.fit_transform(X_train)\n",
        "X_test = pca.transform(X_test)"
      ],
      "execution_count": 832,
      "outputs": []
    },
    {
      "cell_type": "code",
      "metadata": {
        "id": "-g1GyzN8D8zF",
        "colab": {
          "base_uri": "https://localhost:8080/"
        },
        "outputId": "a39ddd89-9265-4a1c-c250-7bdefc68ed36"
      },
      "source": [
        "# Explained Variance Ratio\n",
        "# Returning the variance caused by each of the principal components. \n",
        "# \n",
        "explained_variance = pca.explained_variance_ratio_\n",
        "explained_variance"
      ],
      "execution_count": 833,
      "outputs": [
        {
          "output_type": "execute_result",
          "data": {
            "text/plain": [
              "array([0.28901618, 0.27017644, 0.22888053, 0.21192685])"
            ]
          },
          "metadata": {},
          "execution_count": 833
        }
      ]
    },
    {
      "cell_type": "code",
      "metadata": {
        "id": "76-d-nzhEFLB",
        "colab": {
          "base_uri": "https://localhost:8080/"
        },
        "outputId": "ddbee72c-3bc6-45fa-d226-38b7c780fe67"
      },
      "source": [
        "# Results with the full feature set\n",
        "# Training and Making Predictions using random forest classification\n",
        "# \n",
        "from sklearn.ensemble import RandomForestClassifier\n",
        "\n",
        "classifier = RandomForestClassifier(max_depth=2, random_state=0)\n",
        "classifier.fit(X_train, y_train)\n",
        "y_pred = classifier.predict(X_test)\n",
        "from sklearn.metrics import confusion_matrix\n",
        "from sklearn.metrics import accuracy_score\n",
        "\n",
        "cm = confusion_matrix(y_test, y_pred)\n",
        "print(cm)\n",
        "print('Accuracy' , accuracy_score(y_test, y_pred))\n",
        "\n",
        "# The Principal Component Analysis algorithm has an accuracy of 76.14%\n"
      ],
      "execution_count": 834,
      "outputs": [
        {
          "output_type": "stream",
          "name": "stdout",
          "text": [
            "[[ 871   78  265    0]\n",
            " [  26 1717   33    0]\n",
            " [  97  210  966    0]\n",
            " [ 337   18   50    0]]\n",
            "Accuracy 0.7613538988860326\n"
          ]
        }
      ]
    },
    {
      "cell_type": "markdown",
      "metadata": {
        "id": "CpEb13K3FiMN"
      },
      "source": [
        "# **FACTOR ANALYSIS**"
      ]
    },
    {
      "cell_type": "code",
      "metadata": {
        "id": "h0TZ0wcBFpAF",
        "colab": {
          "base_uri": "https://localhost:8080/",
          "height": 202
        },
        "outputId": "6c1762c7-22f3-40ce-c99b-f50eaa335c1f"
      },
      "source": [
        "new_df.head()"
      ],
      "execution_count": 835,
      "outputs": [
        {
          "output_type": "execute_result",
          "data": {
            "text/html": [
              "<div>\n",
              "<style scoped>\n",
              "    .dataframe tbody tr th:only-of-type {\n",
              "        vertical-align: middle;\n",
              "    }\n",
              "\n",
              "    .dataframe tbody tr th {\n",
              "        vertical-align: top;\n",
              "    }\n",
              "\n",
              "    .dataframe thead th {\n",
              "        text-align: right;\n",
              "    }\n",
              "</style>\n",
              "<table border=\"1\" class=\"dataframe\">\n",
              "  <thead>\n",
              "    <tr style=\"text-align: right;\">\n",
              "      <th></th>\n",
              "      <th>country</th>\n",
              "      <th>year</th>\n",
              "      <th>has_a_bank_account</th>\n",
              "      <th>household_size</th>\n",
              "      <th>respondent_age</th>\n",
              "    </tr>\n",
              "  </thead>\n",
              "  <tbody>\n",
              "    <tr>\n",
              "      <th>0</th>\n",
              "      <td>Kenya</td>\n",
              "      <td>2018</td>\n",
              "      <td>1</td>\n",
              "      <td>3.0</td>\n",
              "      <td>24.0</td>\n",
              "    </tr>\n",
              "    <tr>\n",
              "      <th>1</th>\n",
              "      <td>Kenya</td>\n",
              "      <td>2018</td>\n",
              "      <td>0</td>\n",
              "      <td>5.0</td>\n",
              "      <td>70.0</td>\n",
              "    </tr>\n",
              "    <tr>\n",
              "      <th>2</th>\n",
              "      <td>Kenya</td>\n",
              "      <td>2018</td>\n",
              "      <td>1</td>\n",
              "      <td>5.0</td>\n",
              "      <td>26.0</td>\n",
              "    </tr>\n",
              "    <tr>\n",
              "      <th>3</th>\n",
              "      <td>Kenya</td>\n",
              "      <td>2018</td>\n",
              "      <td>0</td>\n",
              "      <td>5.0</td>\n",
              "      <td>34.0</td>\n",
              "    </tr>\n",
              "    <tr>\n",
              "      <th>4</th>\n",
              "      <td>Kenya</td>\n",
              "      <td>2018</td>\n",
              "      <td>0</td>\n",
              "      <td>8.0</td>\n",
              "      <td>26.0</td>\n",
              "    </tr>\n",
              "  </tbody>\n",
              "</table>\n",
              "</div>"
            ],
            "text/plain": [
              "  country  year  has_a_bank_account  household_size  respondent_age\n",
              "0   Kenya  2018                   1             3.0            24.0\n",
              "1   Kenya  2018                   0             5.0            70.0\n",
              "2   Kenya  2018                   1             5.0            26.0\n",
              "3   Kenya  2018                   0             5.0            34.0\n",
              "4   Kenya  2018                   0             8.0            26.0"
            ]
          },
          "metadata": {},
          "execution_count": 835
        }
      ]
    },
    {
      "cell_type": "code",
      "metadata": {
        "id": "hZrWxZkuHnYs",
        "colab": {
          "base_uri": "https://localhost:8080/"
        },
        "outputId": "ddcd2cc2-54f2-44d1-9019-ec57d409d5a6"
      },
      "source": [
        "# Dropping unnecessary columns\n",
        "\n",
        "new_df.drop(['country', 'year', 'has_a_bank_account'], axis=1, inplace=True)\n",
        "new_df.info()\n"
      ],
      "execution_count": 836,
      "outputs": [
        {
          "output_type": "stream",
          "name": "stdout",
          "text": [
            "<class 'pandas.core.frame.DataFrame'>\n",
            "Int64Index: 23340 entries, 0 to 23523\n",
            "Data columns (total 2 columns):\n",
            " #   Column          Non-Null Count  Dtype  \n",
            "---  ------          --------------  -----  \n",
            " 0   household_size  23340 non-null  float64\n",
            " 1   respondent_age  23340 non-null  float64\n",
            "dtypes: float64(2)\n",
            "memory usage: 547.0 KB\n"
          ]
        },
        {
          "output_type": "stream",
          "name": "stderr",
          "text": [
            "/usr/local/lib/python3.7/dist-packages/pandas/core/frame.py:4174: SettingWithCopyWarning: \n",
            "A value is trying to be set on a copy of a slice from a DataFrame\n",
            "\n",
            "See the caveats in the documentation: https://pandas.pydata.org/pandas-docs/stable/user_guide/indexing.html#returning-a-view-versus-a-copy\n",
            "  errors=errors,\n"
          ]
        }
      ]
    },
    {
      "cell_type": "code",
      "metadata": {
        "id": "bs6iJz9OIa0D",
        "colab": {
          "base_uri": "https://localhost:8080/"
        },
        "outputId": "04f12bc9-df1b-4c83-df1c-cdb586453a1e"
      },
      "source": [
        "# Installing factor analyzer and figuring whether we can find the factors in our dataset by\n",
        "# evaluating the factorability of our dataset\n",
        "\n",
        "!pip install factor_analyzer==0.2.3\n",
        "\n",
        "from factor_analyzer.factor_analyzer import calculate_bartlett_sphericity\n",
        "\n",
        "chi_square_value,p_value=calculate_bartlett_sphericity(new_df)\n",
        "chi_square_value, p_value"
      ],
      "execution_count": 837,
      "outputs": [
        {
          "output_type": "stream",
          "name": "stdout",
          "text": [
            "Requirement already satisfied: factor_analyzer==0.2.3 in /usr/local/lib/python3.7/dist-packages (0.2.3)\n",
            "Requirement already satisfied: scipy in /usr/local/lib/python3.7/dist-packages (from factor_analyzer==0.2.3) (1.4.1)\n",
            "Requirement already satisfied: numpy in /usr/local/lib/python3.7/dist-packages (from factor_analyzer==0.2.3) (1.19.5)\n",
            "Requirement already satisfied: pandas in /usr/local/lib/python3.7/dist-packages (from factor_analyzer==0.2.3) (1.1.5)\n",
            "Requirement already satisfied: python-dateutil>=2.7.3 in /usr/local/lib/python3.7/dist-packages (from pandas->factor_analyzer==0.2.3) (2.8.2)\n",
            "Requirement already satisfied: pytz>=2017.2 in /usr/local/lib/python3.7/dist-packages (from pandas->factor_analyzer==0.2.3) (2018.9)\n",
            "Requirement already satisfied: six>=1.5 in /usr/local/lib/python3.7/dist-packages (from python-dateutil>=2.7.3->pandas->factor_analyzer==0.2.3) (1.15.0)\n"
          ]
        },
        {
          "output_type": "execute_result",
          "data": {
            "text/plain": [
              "(336.6369632249626, 1.7279906927932794e-75)"
            ]
          },
          "metadata": {},
          "execution_count": 837
        }
      ]
    },
    {
      "cell_type": "code",
      "metadata": {
        "id": "1Vnes-S-JD6w",
        "colab": {
          "base_uri": "https://localhost:8080/",
          "height": 110
        },
        "outputId": "14c97d00-eed3-4dc5-90fd-9d3a109c4735"
      },
      "source": [
        "# Choosing the Number of Factors\n",
        "\n",
        "from factor_analyzer.factor_analyzer import FactorAnalyzer\n",
        "\n",
        "fa = FactorAnalyzer()\n",
        "fa.analyze(new_df,2 , rotation=None)\n",
        "\n",
        "# Checking the Eigenvalues\n",
        "ev, v = fa.get_eigenvalues()\n",
        "ev\n",
        "\n",
        "# only 1-factor eigenvalues is greater than one. \n",
        "# It means we need to choose only 1 factor (or unobserved variables)."
      ],
      "execution_count": 838,
      "outputs": [
        {
          "output_type": "execute_result",
          "data": {
            "text/html": [
              "<div>\n",
              "<style scoped>\n",
              "    .dataframe tbody tr th:only-of-type {\n",
              "        vertical-align: middle;\n",
              "    }\n",
              "\n",
              "    .dataframe tbody tr th {\n",
              "        vertical-align: top;\n",
              "    }\n",
              "\n",
              "    .dataframe thead th {\n",
              "        text-align: right;\n",
              "    }\n",
              "</style>\n",
              "<table border=\"1\" class=\"dataframe\">\n",
              "  <thead>\n",
              "    <tr style=\"text-align: right;\">\n",
              "      <th></th>\n",
              "      <th>Original_Eigenvalues</th>\n",
              "    </tr>\n",
              "  </thead>\n",
              "  <tbody>\n",
              "    <tr>\n",
              "      <th>0</th>\n",
              "      <td>1.119671</td>\n",
              "    </tr>\n",
              "    <tr>\n",
              "      <th>1</th>\n",
              "      <td>0.880329</td>\n",
              "    </tr>\n",
              "  </tbody>\n",
              "</table>\n",
              "</div>"
            ],
            "text/plain": [
              "   Original_Eigenvalues\n",
              "0              1.119671\n",
              "1              0.880329"
            ]
          },
          "metadata": {},
          "execution_count": 838
        }
      ]
    },
    {
      "cell_type": "code",
      "metadata": {
        "id": "98tETgT5JsCx",
        "colab": {
          "base_uri": "https://localhost:8080/",
          "height": 294
        },
        "outputId": "33b7afb1-2be5-40d5-def2-48a2181de005"
      },
      "source": [
        "# Creating a scree plot using matplotlib\n",
        "# It will draw only one line since there is only one factor\n",
        "\n",
        "plt.scatter(range(1,new_df.shape[1]+1),ev)\n",
        "plt.plot(range(1,new_df.shape[1]+1),ev)\n",
        "plt.title('Scree Plot')\n",
        "plt.xlabel('Factors')\n",
        "plt.ylabel('Eigenvalue')\n",
        "plt.grid()\n",
        "plt.show()"
      ],
      "execution_count": 839,
      "outputs": [
        {
          "output_type": "display_data",
          "data": {
            "image/png": "[encoded data removed]",
            "text/plain": [
              "<Figure size 432x288 with 1 Axes>"
            ]
          },
          "metadata": {
            "needs_background": "light"
          }
        }
      ]
    },
    {
      "cell_type": "code",
      "metadata": {
        "id": "ok3RrLPIKyO4",
        "colab": {
          "base_uri": "https://localhost:8080/",
          "height": 145
        },
        "outputId": "29777453-87b0-4794-8e72-5685ecbf3e98"
      },
      "source": [
        "# Performing Factor Analysis\n",
        "#\n",
        "fa = FactorAnalyzer()\n",
        "fa.analyze(new_df, 1, rotation=\"varimax\")\n",
        "fa.loadings\n"
      ],
      "execution_count": 840,
      "outputs": [
        {
          "output_type": "stream",
          "name": "stderr",
          "text": [
            "/usr/local/lib/python3.7/dist-packages/factor_analyzer/factor_analyzer.py:770: UserWarning: No rotation will be performed when the number of factors equals 1.\n",
            "  warnings.warn('No rotation will be performed when '\n"
          ]
        },
        {
          "output_type": "execute_result",
          "data": {
            "text/html": [
              "<div>\n",
              "<style scoped>\n",
              "    .dataframe tbody tr th:only-of-type {\n",
              "        vertical-align: middle;\n",
              "    }\n",
              "\n",
              "    .dataframe tbody tr th {\n",
              "        vertical-align: top;\n",
              "    }\n",
              "\n",
              "    .dataframe thead th {\n",
              "        text-align: right;\n",
              "    }\n",
              "</style>\n",
              "<table border=\"1\" class=\"dataframe\">\n",
              "  <thead>\n",
              "    <tr style=\"text-align: right;\">\n",
              "      <th></th>\n",
              "      <th>Factor1</th>\n",
              "    </tr>\n",
              "  </thead>\n",
              "  <tbody>\n",
              "    <tr>\n",
              "      <th>household_size</th>\n",
              "      <td>-0.345935</td>\n",
              "    </tr>\n",
              "    <tr>\n",
              "      <th>respondent_age</th>\n",
              "      <td>0.345935</td>\n",
              "    </tr>\n",
              "  </tbody>\n",
              "</table>\n",
              "</div>"
            ],
            "text/plain": [
              "                 Factor1\n",
              "household_size -0.345935\n",
              "respondent_age  0.345935"
            ]
          },
          "metadata": {},
          "execution_count": 840
        }
      ]
    },
    {
      "cell_type": "code",
      "metadata": {
        "id": "Q64i7zaiLXRx",
        "colab": {
          "base_uri": "https://localhost:8080/",
          "height": 141
        },
        "outputId": "4f7ab50a-691b-4755-af37-fc7badd937cf"
      },
      "source": [
        "# Getting the variance of the one factor\n",
        "\n",
        "fa.get_factor_variance()"
      ],
      "execution_count": 841,
      "outputs": [
        {
          "output_type": "execute_result",
          "data": {
            "text/html": [
              "<div>\n",
              "<style scoped>\n",
              "    .dataframe tbody tr th:only-of-type {\n",
              "        vertical-align: middle;\n",
              "    }\n",
              "\n",
              "    .dataframe tbody tr th {\n",
              "        vertical-align: top;\n",
              "    }\n",
              "\n",
              "    .dataframe thead th {\n",
              "        text-align: right;\n",
              "    }\n",
              "</style>\n",
              "<table border=\"1\" class=\"dataframe\">\n",
              "  <thead>\n",
              "    <tr style=\"text-align: right;\">\n",
              "      <th></th>\n",
              "      <th>Factor1</th>\n",
              "    </tr>\n",
              "  </thead>\n",
              "  <tbody>\n",
              "    <tr>\n",
              "      <th>SS Loadings</th>\n",
              "      <td>0.239342</td>\n",
              "    </tr>\n",
              "    <tr>\n",
              "      <th>Proportion Var</th>\n",
              "      <td>0.119671</td>\n",
              "    </tr>\n",
              "    <tr>\n",
              "      <th>Cumulative Var</th>\n",
              "      <td>0.119671</td>\n",
              "    </tr>\n",
              "  </tbody>\n",
              "</table>\n",
              "</div>"
            ],
            "text/plain": [
              "                 Factor1\n",
              "SS Loadings     0.239342\n",
              "Proportion Var  0.119671\n",
              "Cumulative Var  0.119671"
            ]
          },
          "metadata": {},
          "execution_count": 841
        }
      ]
    },
    {
      "cell_type": "markdown",
      "metadata": {
        "id": "Us6BEQTLL8Z2"
      },
      "source": [
        "# **DISCRIMINANT ANALYSIS**"
      ]
    },
    {
      "cell_type": "code",
      "metadata": {
        "id": "M9rw2ZYlMA_v",
        "colab": {
          "base_uri": "https://localhost:8080/",
          "height": 202
        },
        "outputId": "be09d403-7abc-4b41-9a42-22c9a50578d3"
      },
      "source": [
        "# Defining our dataset\n",
        "\n",
        "df_new=df[['country','has_a_bank_account','household_size','respondent_age']]\n",
        "df_new.head()"
      ],
      "execution_count": 842,
      "outputs": [
        {
          "output_type": "execute_result",
          "data": {
            "text/html": [
              "<div>\n",
              "<style scoped>\n",
              "    .dataframe tbody tr th:only-of-type {\n",
              "        vertical-align: middle;\n",
              "    }\n",
              "\n",
              "    .dataframe tbody tr th {\n",
              "        vertical-align: top;\n",
              "    }\n",
              "\n",
              "    .dataframe thead th {\n",
              "        text-align: right;\n",
              "    }\n",
              "</style>\n",
              "<table border=\"1\" class=\"dataframe\">\n",
              "  <thead>\n",
              "    <tr style=\"text-align: right;\">\n",
              "      <th></th>\n",
              "      <th>country</th>\n",
              "      <th>has_a_bank_account</th>\n",
              "      <th>household_size</th>\n",
              "      <th>respondent_age</th>\n",
              "    </tr>\n",
              "  </thead>\n",
              "  <tbody>\n",
              "    <tr>\n",
              "      <th>0</th>\n",
              "      <td>Kenya</td>\n",
              "      <td>1</td>\n",
              "      <td>3.0</td>\n",
              "      <td>24.0</td>\n",
              "    </tr>\n",
              "    <tr>\n",
              "      <th>1</th>\n",
              "      <td>Kenya</td>\n",
              "      <td>0</td>\n",
              "      <td>5.0</td>\n",
              "      <td>70.0</td>\n",
              "    </tr>\n",
              "    <tr>\n",
              "      <th>2</th>\n",
              "      <td>Kenya</td>\n",
              "      <td>1</td>\n",
              "      <td>5.0</td>\n",
              "      <td>26.0</td>\n",
              "    </tr>\n",
              "    <tr>\n",
              "      <th>3</th>\n",
              "      <td>Kenya</td>\n",
              "      <td>0</td>\n",
              "      <td>5.0</td>\n",
              "      <td>34.0</td>\n",
              "    </tr>\n",
              "    <tr>\n",
              "      <th>4</th>\n",
              "      <td>Kenya</td>\n",
              "      <td>0</td>\n",
              "      <td>8.0</td>\n",
              "      <td>26.0</td>\n",
              "    </tr>\n",
              "  </tbody>\n",
              "</table>\n",
              "</div>"
            ],
            "text/plain": [
              "  country  has_a_bank_account  household_size  respondent_age\n",
              "0   Kenya                   1             3.0            24.0\n",
              "1   Kenya                   0             5.0            70.0\n",
              "2   Kenya                   1             5.0            26.0\n",
              "3   Kenya                   0             5.0            34.0\n",
              "4   Kenya                   0             8.0            26.0"
            ]
          },
          "metadata": {},
          "execution_count": 842
        }
      ]
    },
    {
      "cell_type": "code",
      "metadata": {
        "id": "zPrYlt1DM7VV"
      },
      "source": [
        "# Divide dataset into features and labels\n",
        "#\n",
        "\n",
        "X = df_new.iloc[:, 1:4].values\n",
        "y = df_new.iloc[:, 0].values"
      ],
      "execution_count": 843,
      "outputs": []
    },
    {
      "cell_type": "code",
      "metadata": {
        "id": "rjujwYayNi7h"
      },
      "source": [
        "# Divide the data into training and test sets\n",
        "#\n",
        "\n",
        "from sklearn.model_selection import train_test_split\n",
        "X_train, X_test, y_train, y_test = train_test_split(X, y, test_size=0.2, random_state=0)"
      ],
      "execution_count": 844,
      "outputs": []
    },
    {
      "cell_type": "code",
      "metadata": {
        "id": "UwHzGORoNo2b"
      },
      "source": [
        "# Performing feature scaling\n",
        "# \n",
        "\n",
        "from sklearn.preprocessing import StandardScaler\n",
        "sc = StandardScaler()\n",
        "X_train = sc.fit_transform(X_train)\n",
        "X_test = sc.transform(X_test)"
      ],
      "execution_count": 845,
      "outputs": []
    },
    {
      "cell_type": "code",
      "metadata": {
        "id": "NstcsgQNNuVu"
      },
      "source": [
        "# Peforming Discriminant Analysis\n",
        "#\n",
        "\n",
        "from sklearn.discriminant_analysis import LinearDiscriminantAnalysis as LDA\n",
        "\n",
        "X_train = lda.fit_transform(X_train, y_train)\n",
        "X_test = lda.transform(X_test)"
      ],
      "execution_count": 846,
      "outputs": []
    },
    {
      "cell_type": "code",
      "metadata": {
        "id": "MtrJ9duHN6nY",
        "colab": {
          "base_uri": "https://localhost:8080/"
        },
        "outputId": "172df534-a0f6-455d-ff3b-34bd78573738"
      },
      "source": [
        "# Evaluating the Performance of the algorithm\n",
        "# \n",
        "\n",
        "from sklearn.metrics import confusion_matrix\n",
        "from sklearn.metrics import accuracy_score\n",
        "\n",
        "cm = confusion_matrix(y_test, y_pred)\n",
        "print(cm)\n",
        "print('Accuracy' + str(accuracy_score(y_test, y_pred)))\n",
        "\n",
        "# The Linear Discriminant Analysis algorithm has an accuracy of 76.14%"
      ],
      "execution_count": 847,
      "outputs": [
        {
          "output_type": "stream",
          "name": "stdout",
          "text": [
            "[[ 871   78  265    0]\n",
            " [  26 1717   33    0]\n",
            " [  97  210  966    0]\n",
            " [ 337   18   50    0]]\n",
            "Accuracy0.7613538988860326\n"
          ]
        }
      ]
    }
  ]
}